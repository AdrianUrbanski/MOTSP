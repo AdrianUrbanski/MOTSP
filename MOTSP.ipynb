{
  "nbformat": 4,
  "nbformat_minor": 0,
  "metadata": {
    "colab": {
      "name": "MOTSP.ipynb",
      "provenance": [],
      "collapsed_sections": [],
      "toc_visible": true
    },
    "kernelspec": {
      "name": "python3",
      "display_name": "Python 3"
    },
    "accelerator": "GPU",
    "widgets": {
      "application/vnd.jupyter.widget-state+json": {
        "8d87f4ff039b4369a02cbed0909d5b64": {
          "model_module": "@jupyter-widgets/controls",
          "model_name": "HBoxModel",
          "state": {
            "_view_name": "HBoxView",
            "_dom_classes": [],
            "_model_name": "HBoxModel",
            "_view_module": "@jupyter-widgets/controls",
            "_model_module_version": "1.5.0",
            "_view_count": null,
            "_view_module_version": "1.5.0",
            "box_style": "",
            "layout": "IPY_MODEL_6fd650252d6d4902bf00d09477275276",
            "_model_module": "@jupyter-widgets/controls",
            "children": [
              "IPY_MODEL_5cffa246f5c743dd91f130c117b8c934",
              "IPY_MODEL_a2e57cf204c9476c95eff8edec2a1bfa"
            ]
          }
        },
        "6fd650252d6d4902bf00d09477275276": {
          "model_module": "@jupyter-widgets/base",
          "model_name": "LayoutModel",
          "state": {
            "_view_name": "LayoutView",
            "grid_template_rows": null,
            "right": null,
            "justify_content": null,
            "_view_module": "@jupyter-widgets/base",
            "overflow": null,
            "_model_module_version": "1.2.0",
            "_view_count": null,
            "flex_flow": null,
            "width": null,
            "min_width": null,
            "border": null,
            "align_items": null,
            "bottom": null,
            "_model_module": "@jupyter-widgets/base",
            "top": null,
            "grid_column": null,
            "overflow_y": null,
            "overflow_x": null,
            "grid_auto_flow": null,
            "grid_area": null,
            "grid_template_columns": null,
            "flex": null,
            "_model_name": "LayoutModel",
            "justify_items": null,
            "grid_row": null,
            "max_height": null,
            "align_content": null,
            "visibility": null,
            "align_self": null,
            "height": null,
            "min_height": null,
            "padding": null,
            "grid_auto_rows": null,
            "grid_gap": null,
            "max_width": null,
            "order": null,
            "_view_module_version": "1.2.0",
            "grid_template_areas": null,
            "object_position": null,
            "object_fit": null,
            "grid_auto_columns": null,
            "margin": null,
            "display": null,
            "left": null
          }
        },
        "5cffa246f5c743dd91f130c117b8c934": {
          "model_module": "@jupyter-widgets/controls",
          "model_name": "FloatProgressModel",
          "state": {
            "_view_name": "ProgressView",
            "style": "IPY_MODEL_fa5268a046fd4bb49ab57b51085bfc9f",
            "_dom_classes": [],
            "description": "100%",
            "_model_name": "FloatProgressModel",
            "bar_style": "success",
            "max": 500,
            "_view_module": "@jupyter-widgets/controls",
            "_model_module_version": "1.5.0",
            "value": 500,
            "_view_count": null,
            "_view_module_version": "1.5.0",
            "orientation": "horizontal",
            "min": 0,
            "description_tooltip": null,
            "_model_module": "@jupyter-widgets/controls",
            "layout": "IPY_MODEL_9cc1c1ef70c44208aba9f887e0288191"
          }
        },
        "a2e57cf204c9476c95eff8edec2a1bfa": {
          "model_module": "@jupyter-widgets/controls",
          "model_name": "HTMLModel",
          "state": {
            "_view_name": "HTMLView",
            "style": "IPY_MODEL_fb16e462ea4d4c0e929e2670b6c64542",
            "_dom_classes": [],
            "description": "",
            "_model_name": "HTMLModel",
            "placeholder": "​",
            "_view_module": "@jupyter-widgets/controls",
            "_model_module_version": "1.5.0",
            "value": " 500/500 [23:36&lt;00:00,  2.83s/it]",
            "_view_count": null,
            "_view_module_version": "1.5.0",
            "description_tooltip": null,
            "_model_module": "@jupyter-widgets/controls",
            "layout": "IPY_MODEL_115d90f0811f4451beb5602e1e8bbc8b"
          }
        },
        "fa5268a046fd4bb49ab57b51085bfc9f": {
          "model_module": "@jupyter-widgets/controls",
          "model_name": "ProgressStyleModel",
          "state": {
            "_view_name": "StyleView",
            "_model_name": "ProgressStyleModel",
            "description_width": "initial",
            "_view_module": "@jupyter-widgets/base",
            "_model_module_version": "1.5.0",
            "_view_count": null,
            "_view_module_version": "1.2.0",
            "bar_color": null,
            "_model_module": "@jupyter-widgets/controls"
          }
        },
        "9cc1c1ef70c44208aba9f887e0288191": {
          "model_module": "@jupyter-widgets/base",
          "model_name": "LayoutModel",
          "state": {
            "_view_name": "LayoutView",
            "grid_template_rows": null,
            "right": null,
            "justify_content": null,
            "_view_module": "@jupyter-widgets/base",
            "overflow": null,
            "_model_module_version": "1.2.0",
            "_view_count": null,
            "flex_flow": null,
            "width": null,
            "min_width": null,
            "border": null,
            "align_items": null,
            "bottom": null,
            "_model_module": "@jupyter-widgets/base",
            "top": null,
            "grid_column": null,
            "overflow_y": null,
            "overflow_x": null,
            "grid_auto_flow": null,
            "grid_area": null,
            "grid_template_columns": null,
            "flex": null,
            "_model_name": "LayoutModel",
            "justify_items": null,
            "grid_row": null,
            "max_height": null,
            "align_content": null,
            "visibility": null,
            "align_self": null,
            "height": null,
            "min_height": null,
            "padding": null,
            "grid_auto_rows": null,
            "grid_gap": null,
            "max_width": null,
            "order": null,
            "_view_module_version": "1.2.0",
            "grid_template_areas": null,
            "object_position": null,
            "object_fit": null,
            "grid_auto_columns": null,
            "margin": null,
            "display": null,
            "left": null
          }
        },
        "fb16e462ea4d4c0e929e2670b6c64542": {
          "model_module": "@jupyter-widgets/controls",
          "model_name": "DescriptionStyleModel",
          "state": {
            "_view_name": "StyleView",
            "_model_name": "DescriptionStyleModel",
            "description_width": "",
            "_view_module": "@jupyter-widgets/base",
            "_model_module_version": "1.5.0",
            "_view_count": null,
            "_view_module_version": "1.2.0",
            "_model_module": "@jupyter-widgets/controls"
          }
        },
        "115d90f0811f4451beb5602e1e8bbc8b": {
          "model_module": "@jupyter-widgets/base",
          "model_name": "LayoutModel",
          "state": {
            "_view_name": "LayoutView",
            "grid_template_rows": null,
            "right": null,
            "justify_content": null,
            "_view_module": "@jupyter-widgets/base",
            "overflow": null,
            "_model_module_version": "1.2.0",
            "_view_count": null,
            "flex_flow": null,
            "width": null,
            "min_width": null,
            "border": null,
            "align_items": null,
            "bottom": null,
            "_model_module": "@jupyter-widgets/base",
            "top": null,
            "grid_column": null,
            "overflow_y": null,
            "overflow_x": null,
            "grid_auto_flow": null,
            "grid_area": null,
            "grid_template_columns": null,
            "flex": null,
            "_model_name": "LayoutModel",
            "justify_items": null,
            "grid_row": null,
            "max_height": null,
            "align_content": null,
            "visibility": null,
            "align_self": null,
            "height": null,
            "min_height": null,
            "padding": null,
            "grid_auto_rows": null,
            "grid_gap": null,
            "max_width": null,
            "order": null,
            "_view_module_version": "1.2.0",
            "grid_template_areas": null,
            "object_position": null,
            "object_fit": null,
            "grid_auto_columns": null,
            "margin": null,
            "display": null,
            "left": null
          }
        },
        "9da49c61a86b4a17b616bca017406d30": {
          "model_module": "@jupyter-widgets/controls",
          "model_name": "HBoxModel",
          "state": {
            "_view_name": "HBoxView",
            "_dom_classes": [],
            "_model_name": "HBoxModel",
            "_view_module": "@jupyter-widgets/controls",
            "_model_module_version": "1.5.0",
            "_view_count": null,
            "_view_module_version": "1.5.0",
            "box_style": "",
            "layout": "IPY_MODEL_53982c28bdfc425db4868d1feb02fb8e",
            "_model_module": "@jupyter-widgets/controls",
            "children": [
              "IPY_MODEL_cbcbf0fb29a4412d99331a2d2b297b32",
              "IPY_MODEL_66b5fda0811540e2811e2fb82b40287b"
            ]
          }
        },
        "53982c28bdfc425db4868d1feb02fb8e": {
          "model_module": "@jupyter-widgets/base",
          "model_name": "LayoutModel",
          "state": {
            "_view_name": "LayoutView",
            "grid_template_rows": null,
            "right": null,
            "justify_content": null,
            "_view_module": "@jupyter-widgets/base",
            "overflow": null,
            "_model_module_version": "1.2.0",
            "_view_count": null,
            "flex_flow": null,
            "width": null,
            "min_width": null,
            "border": null,
            "align_items": null,
            "bottom": null,
            "_model_module": "@jupyter-widgets/base",
            "top": null,
            "grid_column": null,
            "overflow_y": null,
            "overflow_x": null,
            "grid_auto_flow": null,
            "grid_area": null,
            "grid_template_columns": null,
            "flex": null,
            "_model_name": "LayoutModel",
            "justify_items": null,
            "grid_row": null,
            "max_height": null,
            "align_content": null,
            "visibility": null,
            "align_self": null,
            "height": null,
            "min_height": null,
            "padding": null,
            "grid_auto_rows": null,
            "grid_gap": null,
            "max_width": null,
            "order": null,
            "_view_module_version": "1.2.0",
            "grid_template_areas": null,
            "object_position": null,
            "object_fit": null,
            "grid_auto_columns": null,
            "margin": null,
            "display": null,
            "left": null
          }
        },
        "cbcbf0fb29a4412d99331a2d2b297b32": {
          "model_module": "@jupyter-widgets/controls",
          "model_name": "FloatProgressModel",
          "state": {
            "_view_name": "ProgressView",
            "style": "IPY_MODEL_724767aaf50f43eeb9e1688d3ab216d6",
            "_dom_classes": [],
            "description": "100%",
            "_model_name": "FloatProgressModel",
            "bar_style": "success",
            "max": 300,
            "_view_module": "@jupyter-widgets/controls",
            "_model_module_version": "1.5.0",
            "value": 300,
            "_view_count": null,
            "_view_module_version": "1.5.0",
            "orientation": "horizontal",
            "min": 0,
            "description_tooltip": null,
            "_model_module": "@jupyter-widgets/controls",
            "layout": "IPY_MODEL_7e64ed03ec02434ea820c6bc4dc582bc"
          }
        },
        "66b5fda0811540e2811e2fb82b40287b": {
          "model_module": "@jupyter-widgets/controls",
          "model_name": "HTMLModel",
          "state": {
            "_view_name": "HTMLView",
            "style": "IPY_MODEL_c5fe1cbc6602400b90f84ced9ee641c3",
            "_dom_classes": [],
            "description": "",
            "_model_name": "HTMLModel",
            "placeholder": "​",
            "_view_module": "@jupyter-widgets/controls",
            "_model_module_version": "1.5.0",
            "value": " 300/300 [34:58&lt;00:00,  7.00s/it]",
            "_view_count": null,
            "_view_module_version": "1.5.0",
            "description_tooltip": null,
            "_model_module": "@jupyter-widgets/controls",
            "layout": "IPY_MODEL_783595dbc0fa4699b89ea4e92b2ae842"
          }
        },
        "724767aaf50f43eeb9e1688d3ab216d6": {
          "model_module": "@jupyter-widgets/controls",
          "model_name": "ProgressStyleModel",
          "state": {
            "_view_name": "StyleView",
            "_model_name": "ProgressStyleModel",
            "description_width": "initial",
            "_view_module": "@jupyter-widgets/base",
            "_model_module_version": "1.5.0",
            "_view_count": null,
            "_view_module_version": "1.2.0",
            "bar_color": null,
            "_model_module": "@jupyter-widgets/controls"
          }
        },
        "7e64ed03ec02434ea820c6bc4dc582bc": {
          "model_module": "@jupyter-widgets/base",
          "model_name": "LayoutModel",
          "state": {
            "_view_name": "LayoutView",
            "grid_template_rows": null,
            "right": null,
            "justify_content": null,
            "_view_module": "@jupyter-widgets/base",
            "overflow": null,
            "_model_module_version": "1.2.0",
            "_view_count": null,
            "flex_flow": null,
            "width": null,
            "min_width": null,
            "border": null,
            "align_items": null,
            "bottom": null,
            "_model_module": "@jupyter-widgets/base",
            "top": null,
            "grid_column": null,
            "overflow_y": null,
            "overflow_x": null,
            "grid_auto_flow": null,
            "grid_area": null,
            "grid_template_columns": null,
            "flex": null,
            "_model_name": "LayoutModel",
            "justify_items": null,
            "grid_row": null,
            "max_height": null,
            "align_content": null,
            "visibility": null,
            "align_self": null,
            "height": null,
            "min_height": null,
            "padding": null,
            "grid_auto_rows": null,
            "grid_gap": null,
            "max_width": null,
            "order": null,
            "_view_module_version": "1.2.0",
            "grid_template_areas": null,
            "object_position": null,
            "object_fit": null,
            "grid_auto_columns": null,
            "margin": null,
            "display": null,
            "left": null
          }
        },
        "c5fe1cbc6602400b90f84ced9ee641c3": {
          "model_module": "@jupyter-widgets/controls",
          "model_name": "DescriptionStyleModel",
          "state": {
            "_view_name": "StyleView",
            "_model_name": "DescriptionStyleModel",
            "description_width": "",
            "_view_module": "@jupyter-widgets/base",
            "_model_module_version": "1.5.0",
            "_view_count": null,
            "_view_module_version": "1.2.0",
            "_model_module": "@jupyter-widgets/controls"
          }
        },
        "783595dbc0fa4699b89ea4e92b2ae842": {
          "model_module": "@jupyter-widgets/base",
          "model_name": "LayoutModel",
          "state": {
            "_view_name": "LayoutView",
            "grid_template_rows": null,
            "right": null,
            "justify_content": null,
            "_view_module": "@jupyter-widgets/base",
            "overflow": null,
            "_model_module_version": "1.2.0",
            "_view_count": null,
            "flex_flow": null,
            "width": null,
            "min_width": null,
            "border": null,
            "align_items": null,
            "bottom": null,
            "_model_module": "@jupyter-widgets/base",
            "top": null,
            "grid_column": null,
            "overflow_y": null,
            "overflow_x": null,
            "grid_auto_flow": null,
            "grid_area": null,
            "grid_template_columns": null,
            "flex": null,
            "_model_name": "LayoutModel",
            "justify_items": null,
            "grid_row": null,
            "max_height": null,
            "align_content": null,
            "visibility": null,
            "align_self": null,
            "height": null,
            "min_height": null,
            "padding": null,
            "grid_auto_rows": null,
            "grid_gap": null,
            "max_width": null,
            "order": null,
            "_view_module_version": "1.2.0",
            "grid_template_areas": null,
            "object_position": null,
            "object_fit": null,
            "grid_auto_columns": null,
            "margin": null,
            "display": null,
            "left": null
          }
        },
        "bb20c0ea50d64922a1675de3616e8aaf": {
          "model_module": "@jupyter-widgets/controls",
          "model_name": "HBoxModel",
          "state": {
            "_view_name": "HBoxView",
            "_dom_classes": [],
            "_model_name": "HBoxModel",
            "_view_module": "@jupyter-widgets/controls",
            "_model_module_version": "1.5.0",
            "_view_count": null,
            "_view_module_version": "1.5.0",
            "box_style": "",
            "layout": "IPY_MODEL_9517d582f697477aa9df447e8841dd2d",
            "_model_module": "@jupyter-widgets/controls",
            "children": [
              "IPY_MODEL_956a3047c3e943f09f7e33ef134ad250",
              "IPY_MODEL_e2bcbc97a0b141b194b3ee2de3bc167e"
            ]
          }
        },
        "9517d582f697477aa9df447e8841dd2d": {
          "model_module": "@jupyter-widgets/base",
          "model_name": "LayoutModel",
          "state": {
            "_view_name": "LayoutView",
            "grid_template_rows": null,
            "right": null,
            "justify_content": null,
            "_view_module": "@jupyter-widgets/base",
            "overflow": null,
            "_model_module_version": "1.2.0",
            "_view_count": null,
            "flex_flow": null,
            "width": null,
            "min_width": null,
            "border": null,
            "align_items": null,
            "bottom": null,
            "_model_module": "@jupyter-widgets/base",
            "top": null,
            "grid_column": null,
            "overflow_y": null,
            "overflow_x": null,
            "grid_auto_flow": null,
            "grid_area": null,
            "grid_template_columns": null,
            "flex": null,
            "_model_name": "LayoutModel",
            "justify_items": null,
            "grid_row": null,
            "max_height": null,
            "align_content": null,
            "visibility": null,
            "align_self": null,
            "height": null,
            "min_height": null,
            "padding": null,
            "grid_auto_rows": null,
            "grid_gap": null,
            "max_width": null,
            "order": null,
            "_view_module_version": "1.2.0",
            "grid_template_areas": null,
            "object_position": null,
            "object_fit": null,
            "grid_auto_columns": null,
            "margin": null,
            "display": null,
            "left": null
          }
        },
        "956a3047c3e943f09f7e33ef134ad250": {
          "model_module": "@jupyter-widgets/controls",
          "model_name": "FloatProgressModel",
          "state": {
            "_view_name": "ProgressView",
            "style": "IPY_MODEL_cd6e9705741844d3b09c53e50159e7cc",
            "_dom_classes": [],
            "description": "  1%",
            "_model_name": "FloatProgressModel",
            "bar_style": "danger",
            "max": 300,
            "_view_module": "@jupyter-widgets/controls",
            "_model_module_version": "1.5.0",
            "value": 3,
            "_view_count": null,
            "_view_module_version": "1.5.0",
            "orientation": "horizontal",
            "min": 0,
            "description_tooltip": null,
            "_model_module": "@jupyter-widgets/controls",
            "layout": "IPY_MODEL_72b2852b37294f899c69ed7c39c87f95"
          }
        },
        "e2bcbc97a0b141b194b3ee2de3bc167e": {
          "model_module": "@jupyter-widgets/controls",
          "model_name": "HTMLModel",
          "state": {
            "_view_name": "HTMLView",
            "style": "IPY_MODEL_fad63c9ad4564522bc252970d12e07c0",
            "_dom_classes": [],
            "description": "",
            "_model_name": "HTMLModel",
            "placeholder": "​",
            "_view_module": "@jupyter-widgets/controls",
            "_model_module_version": "1.5.0",
            "value": " 3/300 [00:36&lt;53:52, 10.88s/it]",
            "_view_count": null,
            "_view_module_version": "1.5.0",
            "description_tooltip": null,
            "_model_module": "@jupyter-widgets/controls",
            "layout": "IPY_MODEL_0fa84cf8a015475b9b601660611f9c6c"
          }
        },
        "cd6e9705741844d3b09c53e50159e7cc": {
          "model_module": "@jupyter-widgets/controls",
          "model_name": "ProgressStyleModel",
          "state": {
            "_view_name": "StyleView",
            "_model_name": "ProgressStyleModel",
            "description_width": "initial",
            "_view_module": "@jupyter-widgets/base",
            "_model_module_version": "1.5.0",
            "_view_count": null,
            "_view_module_version": "1.2.0",
            "bar_color": null,
            "_model_module": "@jupyter-widgets/controls"
          }
        },
        "72b2852b37294f899c69ed7c39c87f95": {
          "model_module": "@jupyter-widgets/base",
          "model_name": "LayoutModel",
          "state": {
            "_view_name": "LayoutView",
            "grid_template_rows": null,
            "right": null,
            "justify_content": null,
            "_view_module": "@jupyter-widgets/base",
            "overflow": null,
            "_model_module_version": "1.2.0",
            "_view_count": null,
            "flex_flow": null,
            "width": null,
            "min_width": null,
            "border": null,
            "align_items": null,
            "bottom": null,
            "_model_module": "@jupyter-widgets/base",
            "top": null,
            "grid_column": null,
            "overflow_y": null,
            "overflow_x": null,
            "grid_auto_flow": null,
            "grid_area": null,
            "grid_template_columns": null,
            "flex": null,
            "_model_name": "LayoutModel",
            "justify_items": null,
            "grid_row": null,
            "max_height": null,
            "align_content": null,
            "visibility": null,
            "align_self": null,
            "height": null,
            "min_height": null,
            "padding": null,
            "grid_auto_rows": null,
            "grid_gap": null,
            "max_width": null,
            "order": null,
            "_view_module_version": "1.2.0",
            "grid_template_areas": null,
            "object_position": null,
            "object_fit": null,
            "grid_auto_columns": null,
            "margin": null,
            "display": null,
            "left": null
          }
        },
        "fad63c9ad4564522bc252970d12e07c0": {
          "model_module": "@jupyter-widgets/controls",
          "model_name": "DescriptionStyleModel",
          "state": {
            "_view_name": "StyleView",
            "_model_name": "DescriptionStyleModel",
            "description_width": "",
            "_view_module": "@jupyter-widgets/base",
            "_model_module_version": "1.5.0",
            "_view_count": null,
            "_view_module_version": "1.2.0",
            "_model_module": "@jupyter-widgets/controls"
          }
        },
        "0fa84cf8a015475b9b601660611f9c6c": {
          "model_module": "@jupyter-widgets/base",
          "model_name": "LayoutModel",
          "state": {
            "_view_name": "LayoutView",
            "grid_template_rows": null,
            "right": null,
            "justify_content": null,
            "_view_module": "@jupyter-widgets/base",
            "overflow": null,
            "_model_module_version": "1.2.0",
            "_view_count": null,
            "flex_flow": null,
            "width": null,
            "min_width": null,
            "border": null,
            "align_items": null,
            "bottom": null,
            "_model_module": "@jupyter-widgets/base",
            "top": null,
            "grid_column": null,
            "overflow_y": null,
            "overflow_x": null,
            "grid_auto_flow": null,
            "grid_area": null,
            "grid_template_columns": null,
            "flex": null,
            "_model_name": "LayoutModel",
            "justify_items": null,
            "grid_row": null,
            "max_height": null,
            "align_content": null,
            "visibility": null,
            "align_self": null,
            "height": null,
            "min_height": null,
            "padding": null,
            "grid_auto_rows": null,
            "grid_gap": null,
            "max_width": null,
            "order": null,
            "_view_module_version": "1.2.0",
            "grid_template_areas": null,
            "object_position": null,
            "object_fit": null,
            "grid_auto_columns": null,
            "margin": null,
            "display": null,
            "left": null
          }
        },
        "13142b05d1614b13bbf58d70dbeacb97": {
          "model_module": "@jupyter-widgets/controls",
          "model_name": "HBoxModel",
          "state": {
            "_view_name": "HBoxView",
            "_dom_classes": [],
            "_model_name": "HBoxModel",
            "_view_module": "@jupyter-widgets/controls",
            "_model_module_version": "1.5.0",
            "_view_count": null,
            "_view_module_version": "1.5.0",
            "box_style": "",
            "layout": "IPY_MODEL_d3755ff5711a4bfd9fe7a6df3e5b4a75",
            "_model_module": "@jupyter-widgets/controls",
            "children": [
              "IPY_MODEL_e60cac6767c0471ca1bc93309a12ff73",
              "IPY_MODEL_3588180db4fa449294ffbef1a1afce97"
            ]
          }
        },
        "d3755ff5711a4bfd9fe7a6df3e5b4a75": {
          "model_module": "@jupyter-widgets/base",
          "model_name": "LayoutModel",
          "state": {
            "_view_name": "LayoutView",
            "grid_template_rows": null,
            "right": null,
            "justify_content": null,
            "_view_module": "@jupyter-widgets/base",
            "overflow": null,
            "_model_module_version": "1.2.0",
            "_view_count": null,
            "flex_flow": null,
            "width": null,
            "min_width": null,
            "border": null,
            "align_items": null,
            "bottom": null,
            "_model_module": "@jupyter-widgets/base",
            "top": null,
            "grid_column": null,
            "overflow_y": null,
            "overflow_x": null,
            "grid_auto_flow": null,
            "grid_area": null,
            "grid_template_columns": null,
            "flex": null,
            "_model_name": "LayoutModel",
            "justify_items": null,
            "grid_row": null,
            "max_height": null,
            "align_content": null,
            "visibility": null,
            "align_self": null,
            "height": null,
            "min_height": null,
            "padding": null,
            "grid_auto_rows": null,
            "grid_gap": null,
            "max_width": null,
            "order": null,
            "_view_module_version": "1.2.0",
            "grid_template_areas": null,
            "object_position": null,
            "object_fit": null,
            "grid_auto_columns": null,
            "margin": null,
            "display": null,
            "left": null
          }
        },
        "e60cac6767c0471ca1bc93309a12ff73": {
          "model_module": "@jupyter-widgets/controls",
          "model_name": "FloatProgressModel",
          "state": {
            "_view_name": "ProgressView",
            "style": "IPY_MODEL_12497d12a4414a71b9e38dccebd62dc0",
            "_dom_classes": [],
            "description": "100%",
            "_model_name": "FloatProgressModel",
            "bar_style": "success",
            "max": 300,
            "_view_module": "@jupyter-widgets/controls",
            "_model_module_version": "1.5.0",
            "value": 300,
            "_view_count": null,
            "_view_module_version": "1.5.0",
            "orientation": "horizontal",
            "min": 0,
            "description_tooltip": null,
            "_model_module": "@jupyter-widgets/controls",
            "layout": "IPY_MODEL_b5b2e5c405ff4f848c3e60e5781f3c89"
          }
        },
        "3588180db4fa449294ffbef1a1afce97": {
          "model_module": "@jupyter-widgets/controls",
          "model_name": "HTMLModel",
          "state": {
            "_view_name": "HTMLView",
            "style": "IPY_MODEL_a56bed7b7c7644bba06cb2b1137cb67b",
            "_dom_classes": [],
            "description": "",
            "_model_name": "HTMLModel",
            "placeholder": "​",
            "_view_module": "@jupyter-widgets/controls",
            "_model_module_version": "1.5.0",
            "value": " 300/300 [00:38&lt;00:00,  7.71it/s]",
            "_view_count": null,
            "_view_module_version": "1.5.0",
            "description_tooltip": null,
            "_model_module": "@jupyter-widgets/controls",
            "layout": "IPY_MODEL_be656b85523c498f966757e7e1b8ea89"
          }
        },
        "12497d12a4414a71b9e38dccebd62dc0": {
          "model_module": "@jupyter-widgets/controls",
          "model_name": "ProgressStyleModel",
          "state": {
            "_view_name": "StyleView",
            "_model_name": "ProgressStyleModel",
            "description_width": "initial",
            "_view_module": "@jupyter-widgets/base",
            "_model_module_version": "1.5.0",
            "_view_count": null,
            "_view_module_version": "1.2.0",
            "bar_color": null,
            "_model_module": "@jupyter-widgets/controls"
          }
        },
        "b5b2e5c405ff4f848c3e60e5781f3c89": {
          "model_module": "@jupyter-widgets/base",
          "model_name": "LayoutModel",
          "state": {
            "_view_name": "LayoutView",
            "grid_template_rows": null,
            "right": null,
            "justify_content": null,
            "_view_module": "@jupyter-widgets/base",
            "overflow": null,
            "_model_module_version": "1.2.0",
            "_view_count": null,
            "flex_flow": null,
            "width": null,
            "min_width": null,
            "border": null,
            "align_items": null,
            "bottom": null,
            "_model_module": "@jupyter-widgets/base",
            "top": null,
            "grid_column": null,
            "overflow_y": null,
            "overflow_x": null,
            "grid_auto_flow": null,
            "grid_area": null,
            "grid_template_columns": null,
            "flex": null,
            "_model_name": "LayoutModel",
            "justify_items": null,
            "grid_row": null,
            "max_height": null,
            "align_content": null,
            "visibility": null,
            "align_self": null,
            "height": null,
            "min_height": null,
            "padding": null,
            "grid_auto_rows": null,
            "grid_gap": null,
            "max_width": null,
            "order": null,
            "_view_module_version": "1.2.0",
            "grid_template_areas": null,
            "object_position": null,
            "object_fit": null,
            "grid_auto_columns": null,
            "margin": null,
            "display": null,
            "left": null
          }
        },
        "a56bed7b7c7644bba06cb2b1137cb67b": {
          "model_module": "@jupyter-widgets/controls",
          "model_name": "DescriptionStyleModel",
          "state": {
            "_view_name": "StyleView",
            "_model_name": "DescriptionStyleModel",
            "description_width": "",
            "_view_module": "@jupyter-widgets/base",
            "_model_module_version": "1.5.0",
            "_view_count": null,
            "_view_module_version": "1.2.0",
            "_model_module": "@jupyter-widgets/controls"
          }
        },
        "be656b85523c498f966757e7e1b8ea89": {
          "model_module": "@jupyter-widgets/base",
          "model_name": "LayoutModel",
          "state": {
            "_view_name": "LayoutView",
            "grid_template_rows": null,
            "right": null,
            "justify_content": null,
            "_view_module": "@jupyter-widgets/base",
            "overflow": null,
            "_model_module_version": "1.2.0",
            "_view_count": null,
            "flex_flow": null,
            "width": null,
            "min_width": null,
            "border": null,
            "align_items": null,
            "bottom": null,
            "_model_module": "@jupyter-widgets/base",
            "top": null,
            "grid_column": null,
            "overflow_y": null,
            "overflow_x": null,
            "grid_auto_flow": null,
            "grid_area": null,
            "grid_template_columns": null,
            "flex": null,
            "_model_name": "LayoutModel",
            "justify_items": null,
            "grid_row": null,
            "max_height": null,
            "align_content": null,
            "visibility": null,
            "align_self": null,
            "height": null,
            "min_height": null,
            "padding": null,
            "grid_auto_rows": null,
            "grid_gap": null,
            "max_width": null,
            "order": null,
            "_view_module_version": "1.2.0",
            "grid_template_areas": null,
            "object_position": null,
            "object_fit": null,
            "grid_auto_columns": null,
            "margin": null,
            "display": null,
            "left": null
          }
        },
        "5ce1b111ed044c85b5e9f3cf49e0b217": {
          "model_module": "@jupyter-widgets/controls",
          "model_name": "HBoxModel",
          "state": {
            "_view_name": "HBoxView",
            "_dom_classes": [],
            "_model_name": "HBoxModel",
            "_view_module": "@jupyter-widgets/controls",
            "_model_module_version": "1.5.0",
            "_view_count": null,
            "_view_module_version": "1.5.0",
            "box_style": "",
            "layout": "IPY_MODEL_cce4ed22a0514a94b5571cb74f138900",
            "_model_module": "@jupyter-widgets/controls",
            "children": [
              "IPY_MODEL_3eeac1a3cf6e40f2beac25bea6487d4f",
              "IPY_MODEL_1101943bec0b4e20974b180117fe4f0f"
            ]
          }
        },
        "cce4ed22a0514a94b5571cb74f138900": {
          "model_module": "@jupyter-widgets/base",
          "model_name": "LayoutModel",
          "state": {
            "_view_name": "LayoutView",
            "grid_template_rows": null,
            "right": null,
            "justify_content": null,
            "_view_module": "@jupyter-widgets/base",
            "overflow": null,
            "_model_module_version": "1.2.0",
            "_view_count": null,
            "flex_flow": null,
            "width": null,
            "min_width": null,
            "border": null,
            "align_items": null,
            "bottom": null,
            "_model_module": "@jupyter-widgets/base",
            "top": null,
            "grid_column": null,
            "overflow_y": null,
            "overflow_x": null,
            "grid_auto_flow": null,
            "grid_area": null,
            "grid_template_columns": null,
            "flex": null,
            "_model_name": "LayoutModel",
            "justify_items": null,
            "grid_row": null,
            "max_height": null,
            "align_content": null,
            "visibility": null,
            "align_self": null,
            "height": null,
            "min_height": null,
            "padding": null,
            "grid_auto_rows": null,
            "grid_gap": null,
            "max_width": null,
            "order": null,
            "_view_module_version": "1.2.0",
            "grid_template_areas": null,
            "object_position": null,
            "object_fit": null,
            "grid_auto_columns": null,
            "margin": null,
            "display": null,
            "left": null
          }
        },
        "3eeac1a3cf6e40f2beac25bea6487d4f": {
          "model_module": "@jupyter-widgets/controls",
          "model_name": "FloatProgressModel",
          "state": {
            "_view_name": "ProgressView",
            "style": "IPY_MODEL_c15d61eb70d54c7fab6a0fff173a1bc2",
            "_dom_classes": [],
            "description": "100%",
            "_model_name": "FloatProgressModel",
            "bar_style": "success",
            "max": 500,
            "_view_module": "@jupyter-widgets/controls",
            "_model_module_version": "1.5.0",
            "value": 500,
            "_view_count": null,
            "_view_module_version": "1.5.0",
            "orientation": "horizontal",
            "min": 0,
            "description_tooltip": null,
            "_model_module": "@jupyter-widgets/controls",
            "layout": "IPY_MODEL_cecdaa606fa44fb18808191b1de00fe4"
          }
        },
        "1101943bec0b4e20974b180117fe4f0f": {
          "model_module": "@jupyter-widgets/controls",
          "model_name": "HTMLModel",
          "state": {
            "_view_name": "HTMLView",
            "style": "IPY_MODEL_95d7390112584219ba1936be3e91a086",
            "_dom_classes": [],
            "description": "",
            "_model_name": "HTMLModel",
            "placeholder": "​",
            "_view_module": "@jupyter-widgets/controls",
            "_model_module_version": "1.5.0",
            "value": " 500/500 [2:25:07&lt;00:00, 17.42s/it]",
            "_view_count": null,
            "_view_module_version": "1.5.0",
            "description_tooltip": null,
            "_model_module": "@jupyter-widgets/controls",
            "layout": "IPY_MODEL_4f9b81ab036342b08b406e96eaa28c18"
          }
        },
        "c15d61eb70d54c7fab6a0fff173a1bc2": {
          "model_module": "@jupyter-widgets/controls",
          "model_name": "ProgressStyleModel",
          "state": {
            "_view_name": "StyleView",
            "_model_name": "ProgressStyleModel",
            "description_width": "initial",
            "_view_module": "@jupyter-widgets/base",
            "_model_module_version": "1.5.0",
            "_view_count": null,
            "_view_module_version": "1.2.0",
            "bar_color": null,
            "_model_module": "@jupyter-widgets/controls"
          }
        },
        "cecdaa606fa44fb18808191b1de00fe4": {
          "model_module": "@jupyter-widgets/base",
          "model_name": "LayoutModel",
          "state": {
            "_view_name": "LayoutView",
            "grid_template_rows": null,
            "right": null,
            "justify_content": null,
            "_view_module": "@jupyter-widgets/base",
            "overflow": null,
            "_model_module_version": "1.2.0",
            "_view_count": null,
            "flex_flow": null,
            "width": null,
            "min_width": null,
            "border": null,
            "align_items": null,
            "bottom": null,
            "_model_module": "@jupyter-widgets/base",
            "top": null,
            "grid_column": null,
            "overflow_y": null,
            "overflow_x": null,
            "grid_auto_flow": null,
            "grid_area": null,
            "grid_template_columns": null,
            "flex": null,
            "_model_name": "LayoutModel",
            "justify_items": null,
            "grid_row": null,
            "max_height": null,
            "align_content": null,
            "visibility": null,
            "align_self": null,
            "height": null,
            "min_height": null,
            "padding": null,
            "grid_auto_rows": null,
            "grid_gap": null,
            "max_width": null,
            "order": null,
            "_view_module_version": "1.2.0",
            "grid_template_areas": null,
            "object_position": null,
            "object_fit": null,
            "grid_auto_columns": null,
            "margin": null,
            "display": null,
            "left": null
          }
        },
        "95d7390112584219ba1936be3e91a086": {
          "model_module": "@jupyter-widgets/controls",
          "model_name": "DescriptionStyleModel",
          "state": {
            "_view_name": "StyleView",
            "_model_name": "DescriptionStyleModel",
            "description_width": "",
            "_view_module": "@jupyter-widgets/base",
            "_model_module_version": "1.5.0",
            "_view_count": null,
            "_view_module_version": "1.2.0",
            "_model_module": "@jupyter-widgets/controls"
          }
        },
        "4f9b81ab036342b08b406e96eaa28c18": {
          "model_module": "@jupyter-widgets/base",
          "model_name": "LayoutModel",
          "state": {
            "_view_name": "LayoutView",
            "grid_template_rows": null,
            "right": null,
            "justify_content": null,
            "_view_module": "@jupyter-widgets/base",
            "overflow": null,
            "_model_module_version": "1.2.0",
            "_view_count": null,
            "flex_flow": null,
            "width": null,
            "min_width": null,
            "border": null,
            "align_items": null,
            "bottom": null,
            "_model_module": "@jupyter-widgets/base",
            "top": null,
            "grid_column": null,
            "overflow_y": null,
            "overflow_x": null,
            "grid_auto_flow": null,
            "grid_area": null,
            "grid_template_columns": null,
            "flex": null,
            "_model_name": "LayoutModel",
            "justify_items": null,
            "grid_row": null,
            "max_height": null,
            "align_content": null,
            "visibility": null,
            "align_self": null,
            "height": null,
            "min_height": null,
            "padding": null,
            "grid_auto_rows": null,
            "grid_gap": null,
            "max_width": null,
            "order": null,
            "_view_module_version": "1.2.0",
            "grid_template_areas": null,
            "object_position": null,
            "object_fit": null,
            "grid_auto_columns": null,
            "margin": null,
            "display": null,
            "left": null
          }
        },
        "984e142a11044d39ada9af249f1842d9": {
          "model_module": "@jupyter-widgets/controls",
          "model_name": "HBoxModel",
          "state": {
            "_view_name": "HBoxView",
            "_dom_classes": [],
            "_model_name": "HBoxModel",
            "_view_module": "@jupyter-widgets/controls",
            "_model_module_version": "1.5.0",
            "_view_count": null,
            "_view_module_version": "1.5.0",
            "box_style": "",
            "layout": "IPY_MODEL_13a27459472249999fcb20b784b8f7cf",
            "_model_module": "@jupyter-widgets/controls",
            "children": [
              "IPY_MODEL_1c0e84761efb49c3b965460fb0b8a1b5",
              "IPY_MODEL_c671c14d44454164bcd41df891b4ea49"
            ]
          }
        },
        "13a27459472249999fcb20b784b8f7cf": {
          "model_module": "@jupyter-widgets/base",
          "model_name": "LayoutModel",
          "state": {
            "_view_name": "LayoutView",
            "grid_template_rows": null,
            "right": null,
            "justify_content": null,
            "_view_module": "@jupyter-widgets/base",
            "overflow": null,
            "_model_module_version": "1.2.0",
            "_view_count": null,
            "flex_flow": null,
            "width": null,
            "min_width": null,
            "border": null,
            "align_items": null,
            "bottom": null,
            "_model_module": "@jupyter-widgets/base",
            "top": null,
            "grid_column": null,
            "overflow_y": null,
            "overflow_x": null,
            "grid_auto_flow": null,
            "grid_area": null,
            "grid_template_columns": null,
            "flex": null,
            "_model_name": "LayoutModel",
            "justify_items": null,
            "grid_row": null,
            "max_height": null,
            "align_content": null,
            "visibility": null,
            "align_self": null,
            "height": null,
            "min_height": null,
            "padding": null,
            "grid_auto_rows": null,
            "grid_gap": null,
            "max_width": null,
            "order": null,
            "_view_module_version": "1.2.0",
            "grid_template_areas": null,
            "object_position": null,
            "object_fit": null,
            "grid_auto_columns": null,
            "margin": null,
            "display": null,
            "left": null
          }
        },
        "1c0e84761efb49c3b965460fb0b8a1b5": {
          "model_module": "@jupyter-widgets/controls",
          "model_name": "FloatProgressModel",
          "state": {
            "_view_name": "ProgressView",
            "style": "IPY_MODEL_4e978339c62e419c9c1ff5cf6d6303f1",
            "_dom_classes": [],
            "description": "100%",
            "_model_name": "FloatProgressModel",
            "bar_style": "success",
            "max": 500,
            "_view_module": "@jupyter-widgets/controls",
            "_model_module_version": "1.5.0",
            "value": 500,
            "_view_count": null,
            "_view_module_version": "1.5.0",
            "orientation": "horizontal",
            "min": 0,
            "description_tooltip": null,
            "_model_module": "@jupyter-widgets/controls",
            "layout": "IPY_MODEL_34a30c3df0844326b98b151ca98113b2"
          }
        },
        "c671c14d44454164bcd41df891b4ea49": {
          "model_module": "@jupyter-widgets/controls",
          "model_name": "HTMLModel",
          "state": {
            "_view_name": "HTMLView",
            "style": "IPY_MODEL_33fdd0eae0904228b848e1e9af9a4c26",
            "_dom_classes": [],
            "description": "",
            "_model_name": "HTMLModel",
            "placeholder": "​",
            "_view_module": "@jupyter-widgets/controls",
            "_model_module_version": "1.5.0",
            "value": " 500/500 [2:42:42&lt;00:00, 19.53s/it]",
            "_view_count": null,
            "_view_module_version": "1.5.0",
            "description_tooltip": null,
            "_model_module": "@jupyter-widgets/controls",
            "layout": "IPY_MODEL_ea22af2df569428e88ba861f9dfe8c57"
          }
        },
        "4e978339c62e419c9c1ff5cf6d6303f1": {
          "model_module": "@jupyter-widgets/controls",
          "model_name": "ProgressStyleModel",
          "state": {
            "_view_name": "StyleView",
            "_model_name": "ProgressStyleModel",
            "description_width": "initial",
            "_view_module": "@jupyter-widgets/base",
            "_model_module_version": "1.5.0",
            "_view_count": null,
            "_view_module_version": "1.2.0",
            "bar_color": null,
            "_model_module": "@jupyter-widgets/controls"
          }
        },
        "34a30c3df0844326b98b151ca98113b2": {
          "model_module": "@jupyter-widgets/base",
          "model_name": "LayoutModel",
          "state": {
            "_view_name": "LayoutView",
            "grid_template_rows": null,
            "right": null,
            "justify_content": null,
            "_view_module": "@jupyter-widgets/base",
            "overflow": null,
            "_model_module_version": "1.2.0",
            "_view_count": null,
            "flex_flow": null,
            "width": null,
            "min_width": null,
            "border": null,
            "align_items": null,
            "bottom": null,
            "_model_module": "@jupyter-widgets/base",
            "top": null,
            "grid_column": null,
            "overflow_y": null,
            "overflow_x": null,
            "grid_auto_flow": null,
            "grid_area": null,
            "grid_template_columns": null,
            "flex": null,
            "_model_name": "LayoutModel",
            "justify_items": null,
            "grid_row": null,
            "max_height": null,
            "align_content": null,
            "visibility": null,
            "align_self": null,
            "height": null,
            "min_height": null,
            "padding": null,
            "grid_auto_rows": null,
            "grid_gap": null,
            "max_width": null,
            "order": null,
            "_view_module_version": "1.2.0",
            "grid_template_areas": null,
            "object_position": null,
            "object_fit": null,
            "grid_auto_columns": null,
            "margin": null,
            "display": null,
            "left": null
          }
        },
        "33fdd0eae0904228b848e1e9af9a4c26": {
          "model_module": "@jupyter-widgets/controls",
          "model_name": "DescriptionStyleModel",
          "state": {
            "_view_name": "StyleView",
            "_model_name": "DescriptionStyleModel",
            "description_width": "",
            "_view_module": "@jupyter-widgets/base",
            "_model_module_version": "1.5.0",
            "_view_count": null,
            "_view_module_version": "1.2.0",
            "_model_module": "@jupyter-widgets/controls"
          }
        },
        "ea22af2df569428e88ba861f9dfe8c57": {
          "model_module": "@jupyter-widgets/base",
          "model_name": "LayoutModel",
          "state": {
            "_view_name": "LayoutView",
            "grid_template_rows": null,
            "right": null,
            "justify_content": null,
            "_view_module": "@jupyter-widgets/base",
            "overflow": null,
            "_model_module_version": "1.2.0",
            "_view_count": null,
            "flex_flow": null,
            "width": null,
            "min_width": null,
            "border": null,
            "align_items": null,
            "bottom": null,
            "_model_module": "@jupyter-widgets/base",
            "top": null,
            "grid_column": null,
            "overflow_y": null,
            "overflow_x": null,
            "grid_auto_flow": null,
            "grid_area": null,
            "grid_template_columns": null,
            "flex": null,
            "_model_name": "LayoutModel",
            "justify_items": null,
            "grid_row": null,
            "max_height": null,
            "align_content": null,
            "visibility": null,
            "align_self": null,
            "height": null,
            "min_height": null,
            "padding": null,
            "grid_auto_rows": null,
            "grid_gap": null,
            "max_width": null,
            "order": null,
            "_view_module_version": "1.2.0",
            "grid_template_areas": null,
            "object_position": null,
            "object_fit": null,
            "grid_auto_columns": null,
            "margin": null,
            "display": null,
            "left": null
          }
        },
        "fe39bf2274184faa84c707dc3d826c5b": {
          "model_module": "@jupyter-widgets/controls",
          "model_name": "HBoxModel",
          "state": {
            "_view_name": "HBoxView",
            "_dom_classes": [],
            "_model_name": "HBoxModel",
            "_view_module": "@jupyter-widgets/controls",
            "_model_module_version": "1.5.0",
            "_view_count": null,
            "_view_module_version": "1.5.0",
            "box_style": "",
            "layout": "IPY_MODEL_cfe4ff41c159465082810f1593c7b825",
            "_model_module": "@jupyter-widgets/controls",
            "children": [
              "IPY_MODEL_308cecaace894cfea8df7decdf0ed6d9",
              "IPY_MODEL_0abb2e3000834ef890c2d183ef46fe99"
            ]
          }
        },
        "cfe4ff41c159465082810f1593c7b825": {
          "model_module": "@jupyter-widgets/base",
          "model_name": "LayoutModel",
          "state": {
            "_view_name": "LayoutView",
            "grid_template_rows": null,
            "right": null,
            "justify_content": null,
            "_view_module": "@jupyter-widgets/base",
            "overflow": null,
            "_model_module_version": "1.2.0",
            "_view_count": null,
            "flex_flow": null,
            "width": null,
            "min_width": null,
            "border": null,
            "align_items": null,
            "bottom": null,
            "_model_module": "@jupyter-widgets/base",
            "top": null,
            "grid_column": null,
            "overflow_y": null,
            "overflow_x": null,
            "grid_auto_flow": null,
            "grid_area": null,
            "grid_template_columns": null,
            "flex": null,
            "_model_name": "LayoutModel",
            "justify_items": null,
            "grid_row": null,
            "max_height": null,
            "align_content": null,
            "visibility": null,
            "align_self": null,
            "height": null,
            "min_height": null,
            "padding": null,
            "grid_auto_rows": null,
            "grid_gap": null,
            "max_width": null,
            "order": null,
            "_view_module_version": "1.2.0",
            "grid_template_areas": null,
            "object_position": null,
            "object_fit": null,
            "grid_auto_columns": null,
            "margin": null,
            "display": null,
            "left": null
          }
        },
        "308cecaace894cfea8df7decdf0ed6d9": {
          "model_module": "@jupyter-widgets/controls",
          "model_name": "FloatProgressModel",
          "state": {
            "_view_name": "ProgressView",
            "style": "IPY_MODEL_0a5a9ede36cc40539ea5c4c0241d17a4",
            "_dom_classes": [],
            "description": "100%",
            "_model_name": "FloatProgressModel",
            "bar_style": "success",
            "max": 200,
            "_view_module": "@jupyter-widgets/controls",
            "_model_module_version": "1.5.0",
            "value": 200,
            "_view_count": null,
            "_view_module_version": "1.5.0",
            "orientation": "horizontal",
            "min": 0,
            "description_tooltip": null,
            "_model_module": "@jupyter-widgets/controls",
            "layout": "IPY_MODEL_0ca6c98a4d87458bb711d855102e6fb4"
          }
        },
        "0abb2e3000834ef890c2d183ef46fe99": {
          "model_module": "@jupyter-widgets/controls",
          "model_name": "HTMLModel",
          "state": {
            "_view_name": "HTMLView",
            "style": "IPY_MODEL_75486a6e32744641a2fea47b98518255",
            "_dom_classes": [],
            "description": "",
            "_model_name": "HTMLModel",
            "placeholder": "​",
            "_view_module": "@jupyter-widgets/controls",
            "_model_module_version": "1.5.0",
            "value": " 200/200 [1:00:12&lt;00:00, 18.06s/it]",
            "_view_count": null,
            "_view_module_version": "1.5.0",
            "description_tooltip": null,
            "_model_module": "@jupyter-widgets/controls",
            "layout": "IPY_MODEL_8feb90d2ec2e4019ac6b2b7fdcbe828d"
          }
        },
        "0a5a9ede36cc40539ea5c4c0241d17a4": {
          "model_module": "@jupyter-widgets/controls",
          "model_name": "ProgressStyleModel",
          "state": {
            "_view_name": "StyleView",
            "_model_name": "ProgressStyleModel",
            "description_width": "initial",
            "_view_module": "@jupyter-widgets/base",
            "_model_module_version": "1.5.0",
            "_view_count": null,
            "_view_module_version": "1.2.0",
            "bar_color": null,
            "_model_module": "@jupyter-widgets/controls"
          }
        },
        "0ca6c98a4d87458bb711d855102e6fb4": {
          "model_module": "@jupyter-widgets/base",
          "model_name": "LayoutModel",
          "state": {
            "_view_name": "LayoutView",
            "grid_template_rows": null,
            "right": null,
            "justify_content": null,
            "_view_module": "@jupyter-widgets/base",
            "overflow": null,
            "_model_module_version": "1.2.0",
            "_view_count": null,
            "flex_flow": null,
            "width": null,
            "min_width": null,
            "border": null,
            "align_items": null,
            "bottom": null,
            "_model_module": "@jupyter-widgets/base",
            "top": null,
            "grid_column": null,
            "overflow_y": null,
            "overflow_x": null,
            "grid_auto_flow": null,
            "grid_area": null,
            "grid_template_columns": null,
            "flex": null,
            "_model_name": "LayoutModel",
            "justify_items": null,
            "grid_row": null,
            "max_height": null,
            "align_content": null,
            "visibility": null,
            "align_self": null,
            "height": null,
            "min_height": null,
            "padding": null,
            "grid_auto_rows": null,
            "grid_gap": null,
            "max_width": null,
            "order": null,
            "_view_module_version": "1.2.0",
            "grid_template_areas": null,
            "object_position": null,
            "object_fit": null,
            "grid_auto_columns": null,
            "margin": null,
            "display": null,
            "left": null
          }
        },
        "75486a6e32744641a2fea47b98518255": {
          "model_module": "@jupyter-widgets/controls",
          "model_name": "DescriptionStyleModel",
          "state": {
            "_view_name": "StyleView",
            "_model_name": "DescriptionStyleModel",
            "description_width": "",
            "_view_module": "@jupyter-widgets/base",
            "_model_module_version": "1.5.0",
            "_view_count": null,
            "_view_module_version": "1.2.0",
            "_model_module": "@jupyter-widgets/controls"
          }
        },
        "8feb90d2ec2e4019ac6b2b7fdcbe828d": {
          "model_module": "@jupyter-widgets/base",
          "model_name": "LayoutModel",
          "state": {
            "_view_name": "LayoutView",
            "grid_template_rows": null,
            "right": null,
            "justify_content": null,
            "_view_module": "@jupyter-widgets/base",
            "overflow": null,
            "_model_module_version": "1.2.0",
            "_view_count": null,
            "flex_flow": null,
            "width": null,
            "min_width": null,
            "border": null,
            "align_items": null,
            "bottom": null,
            "_model_module": "@jupyter-widgets/base",
            "top": null,
            "grid_column": null,
            "overflow_y": null,
            "overflow_x": null,
            "grid_auto_flow": null,
            "grid_area": null,
            "grid_template_columns": null,
            "flex": null,
            "_model_name": "LayoutModel",
            "justify_items": null,
            "grid_row": null,
            "max_height": null,
            "align_content": null,
            "visibility": null,
            "align_self": null,
            "height": null,
            "min_height": null,
            "padding": null,
            "grid_auto_rows": null,
            "grid_gap": null,
            "max_width": null,
            "order": null,
            "_view_module_version": "1.2.0",
            "grid_template_areas": null,
            "object_position": null,
            "object_fit": null,
            "grid_auto_columns": null,
            "margin": null,
            "display": null,
            "left": null
          }
        }
      }
    }
  },
  "cells": [
    {
      "cell_type": "markdown",
      "metadata": {
        "id": "tBamUoQERtU7"
      },
      "source": [
        "# Import"
      ]
    },
    {
      "cell_type": "code",
      "metadata": {
        "colab": {
          "base_uri": "https://localhost:8080/"
        },
        "id": "vVmMAbouOR73",
        "outputId": "3705a0b0-3dd1-494c-c7c2-4ad6cf26583d"
      },
      "source": [
        "pip install tsplib95"
      ],
      "execution_count": 1,
      "outputs": [
        {
          "output_type": "stream",
          "text": [
            "Collecting tsplib95\n",
            "  Downloading https://files.pythonhosted.org/packages/a0/2b/b1932d3674758ec5f49afa72d4519334a5ac2aac4d96cfd416eb872a1959/tsplib95-0.7.1-py2.py3-none-any.whl\n",
            "Collecting Deprecated~=1.2.9\n",
            "  Downloading https://files.pythonhosted.org/packages/d4/56/7d4774533d2c119e1873993d34d313c9c9efc88c5e4ab7e33bdf915ad98c/Deprecated-1.2.11-py2.py3-none-any.whl\n",
            "Requirement already satisfied: Click>=6.0 in /usr/local/lib/python3.6/dist-packages (from tsplib95) (7.1.2)\n",
            "Requirement already satisfied: tabulate~=0.8.7 in /usr/local/lib/python3.6/dist-packages (from tsplib95) (0.8.7)\n",
            "Requirement already satisfied: networkx~=2.1 in /usr/local/lib/python3.6/dist-packages (from tsplib95) (2.5)\n",
            "Requirement already satisfied: wrapt<2,>=1.10 in /usr/local/lib/python3.6/dist-packages (from Deprecated~=1.2.9->tsplib95) (1.12.1)\n",
            "Requirement already satisfied: decorator>=4.3.0 in /usr/local/lib/python3.6/dist-packages (from networkx~=2.1->tsplib95) (4.4.2)\n",
            "Installing collected packages: Deprecated, tsplib95\n",
            "Successfully installed Deprecated-1.2.11 tsplib95-0.7.1\n"
          ],
          "name": "stdout"
        }
      ]
    },
    {
      "cell_type": "code",
      "metadata": {
        "id": "OYWBw2uDhDcC"
      },
      "source": [
        "import numpy as np\n",
        "import matplotlib.pyplot as plt\n",
        "from numba import cuda\n",
        "from numba import jit\n",
        "import tsplib95\n",
        "from tqdm.auto import tqdm\n",
        "import time\n",
        "from google.colab import drive\n",
        "import multiprocessing as mp"
      ],
      "execution_count": 2,
      "outputs": []
    },
    {
      "cell_type": "code",
      "metadata": {
        "colab": {
          "base_uri": "https://localhost:8080/",
          "height": 590
        },
        "id": "xJT36XbddDEi",
        "outputId": "050f9ec1-e90b-4d6e-d454-f32b197a4b4a"
      },
      "source": [
        "drive.mount('/content/gdrive')"
      ],
      "execution_count": 3,
      "outputs": [
        {
          "output_type": "error",
          "ename": "KeyboardInterrupt",
          "evalue": "ignored",
          "traceback": [
            "\u001b[0;31m---------------------------------------------------------------------------\u001b[0m",
            "\u001b[0;31mKeyboardInterrupt\u001b[0m                         Traceback (most recent call last)",
            "\u001b[0;32m/usr/local/lib/python3.6/dist-packages/ipykernel/kernelbase.py\u001b[0m in \u001b[0;36m_input_request\u001b[0;34m(self, prompt, ident, parent, password)\u001b[0m\n\u001b[1;32m    728\u001b[0m             \u001b[0;32mtry\u001b[0m\u001b[0;34m:\u001b[0m\u001b[0;34m\u001b[0m\u001b[0;34m\u001b[0m\u001b[0m\n\u001b[0;32m--> 729\u001b[0;31m                 \u001b[0mident\u001b[0m\u001b[0;34m,\u001b[0m \u001b[0mreply\u001b[0m \u001b[0;34m=\u001b[0m \u001b[0mself\u001b[0m\u001b[0;34m.\u001b[0m\u001b[0msession\u001b[0m\u001b[0;34m.\u001b[0m\u001b[0mrecv\u001b[0m\u001b[0;34m(\u001b[0m\u001b[0mself\u001b[0m\u001b[0;34m.\u001b[0m\u001b[0mstdin_socket\u001b[0m\u001b[0;34m,\u001b[0m \u001b[0;36m0\u001b[0m\u001b[0;34m)\u001b[0m\u001b[0;34m\u001b[0m\u001b[0;34m\u001b[0m\u001b[0m\n\u001b[0m\u001b[1;32m    730\u001b[0m             \u001b[0;32mexcept\u001b[0m \u001b[0mException\u001b[0m\u001b[0;34m:\u001b[0m\u001b[0;34m\u001b[0m\u001b[0;34m\u001b[0m\u001b[0m\n",
            "\u001b[0;32m/usr/local/lib/python3.6/dist-packages/jupyter_client/session.py\u001b[0m in \u001b[0;36mrecv\u001b[0;34m(self, socket, mode, content, copy)\u001b[0m\n\u001b[1;32m    802\u001b[0m         \u001b[0;32mtry\u001b[0m\u001b[0;34m:\u001b[0m\u001b[0;34m\u001b[0m\u001b[0;34m\u001b[0m\u001b[0m\n\u001b[0;32m--> 803\u001b[0;31m             \u001b[0mmsg_list\u001b[0m \u001b[0;34m=\u001b[0m \u001b[0msocket\u001b[0m\u001b[0;34m.\u001b[0m\u001b[0mrecv_multipart\u001b[0m\u001b[0;34m(\u001b[0m\u001b[0mmode\u001b[0m\u001b[0;34m,\u001b[0m \u001b[0mcopy\u001b[0m\u001b[0;34m=\u001b[0m\u001b[0mcopy\u001b[0m\u001b[0;34m)\u001b[0m\u001b[0;34m\u001b[0m\u001b[0;34m\u001b[0m\u001b[0m\n\u001b[0m\u001b[1;32m    804\u001b[0m         \u001b[0;32mexcept\u001b[0m \u001b[0mzmq\u001b[0m\u001b[0;34m.\u001b[0m\u001b[0mZMQError\u001b[0m \u001b[0;32mas\u001b[0m \u001b[0me\u001b[0m\u001b[0;34m:\u001b[0m\u001b[0;34m\u001b[0m\u001b[0;34m\u001b[0m\u001b[0m\n",
            "\u001b[0;32m/usr/local/lib/python3.6/dist-packages/zmq/sugar/socket.py\u001b[0m in \u001b[0;36mrecv_multipart\u001b[0;34m(self, flags, copy, track)\u001b[0m\n\u001b[1;32m    565\u001b[0m         \"\"\"\n\u001b[0;32m--> 566\u001b[0;31m         \u001b[0mparts\u001b[0m \u001b[0;34m=\u001b[0m \u001b[0;34m[\u001b[0m\u001b[0mself\u001b[0m\u001b[0;34m.\u001b[0m\u001b[0mrecv\u001b[0m\u001b[0;34m(\u001b[0m\u001b[0mflags\u001b[0m\u001b[0;34m,\u001b[0m \u001b[0mcopy\u001b[0m\u001b[0;34m=\u001b[0m\u001b[0mcopy\u001b[0m\u001b[0;34m,\u001b[0m \u001b[0mtrack\u001b[0m\u001b[0;34m=\u001b[0m\u001b[0mtrack\u001b[0m\u001b[0;34m)\u001b[0m\u001b[0;34m]\u001b[0m\u001b[0;34m\u001b[0m\u001b[0;34m\u001b[0m\u001b[0m\n\u001b[0m\u001b[1;32m    567\u001b[0m         \u001b[0;31m# have first part already, only loop while more to receive\u001b[0m\u001b[0;34m\u001b[0m\u001b[0;34m\u001b[0m\u001b[0;34m\u001b[0m\u001b[0m\n",
            "\u001b[0;32mzmq/backend/cython/socket.pyx\u001b[0m in \u001b[0;36mzmq.backend.cython.socket.Socket.recv\u001b[0;34m()\u001b[0m\n",
            "\u001b[0;32mzmq/backend/cython/socket.pyx\u001b[0m in \u001b[0;36mzmq.backend.cython.socket.Socket.recv\u001b[0;34m()\u001b[0m\n",
            "\u001b[0;32mzmq/backend/cython/socket.pyx\u001b[0m in \u001b[0;36mzmq.backend.cython.socket._recv_copy\u001b[0;34m()\u001b[0m\n",
            "\u001b[0;32m/usr/local/lib/python3.6/dist-packages/zmq/backend/cython/checkrc.pxd\u001b[0m in \u001b[0;36mzmq.backend.cython.checkrc._check_rc\u001b[0;34m()\u001b[0m\n",
            "\u001b[0;31mKeyboardInterrupt\u001b[0m: ",
            "\nDuring handling of the above exception, another exception occurred:\n",
            "\u001b[0;31mKeyboardInterrupt\u001b[0m                         Traceback (most recent call last)",
            "\u001b[0;32m<ipython-input-3-837f90cc644e>\u001b[0m in \u001b[0;36m<module>\u001b[0;34m()\u001b[0m\n\u001b[0;32m----> 1\u001b[0;31m \u001b[0mdrive\u001b[0m\u001b[0;34m.\u001b[0m\u001b[0mmount\u001b[0m\u001b[0;34m(\u001b[0m\u001b[0;34m'/content/gdrive'\u001b[0m\u001b[0;34m)\u001b[0m\u001b[0;34m\u001b[0m\u001b[0;34m\u001b[0m\u001b[0m\n\u001b[0m",
            "\u001b[0;32m/usr/local/lib/python3.6/dist-packages/google/colab/drive.py\u001b[0m in \u001b[0;36mmount\u001b[0;34m(mountpoint, force_remount, timeout_ms, use_metadata_server)\u001b[0m\n\u001b[1;32m    260\u001b[0m       \u001b[0;32mwith\u001b[0m \u001b[0m_output\u001b[0m\u001b[0;34m.\u001b[0m\u001b[0muse_tags\u001b[0m\u001b[0;34m(\u001b[0m\u001b[0;34m'dfs-auth-dance'\u001b[0m\u001b[0;34m)\u001b[0m\u001b[0;34m:\u001b[0m\u001b[0;34m\u001b[0m\u001b[0;34m\u001b[0m\u001b[0m\n\u001b[1;32m    261\u001b[0m         \u001b[0;32mwith\u001b[0m \u001b[0mopen\u001b[0m\u001b[0;34m(\u001b[0m\u001b[0mfifo\u001b[0m\u001b[0;34m,\u001b[0m \u001b[0;34m'w'\u001b[0m\u001b[0;34m)\u001b[0m \u001b[0;32mas\u001b[0m \u001b[0mfifo_file\u001b[0m\u001b[0;34m:\u001b[0m\u001b[0;34m\u001b[0m\u001b[0;34m\u001b[0m\u001b[0m\n\u001b[0;32m--> 262\u001b[0;31m           \u001b[0mfifo_file\u001b[0m\u001b[0;34m.\u001b[0m\u001b[0mwrite\u001b[0m\u001b[0;34m(\u001b[0m\u001b[0mget_code\u001b[0m\u001b[0;34m(\u001b[0m\u001b[0mauth_prompt\u001b[0m\u001b[0;34m)\u001b[0m \u001b[0;34m+\u001b[0m \u001b[0;34m'\\n'\u001b[0m\u001b[0;34m)\u001b[0m\u001b[0;34m\u001b[0m\u001b[0;34m\u001b[0m\u001b[0m\n\u001b[0m\u001b[1;32m    263\u001b[0m       \u001b[0mwrote_to_fifo\u001b[0m \u001b[0;34m=\u001b[0m \u001b[0;32mTrue\u001b[0m\u001b[0;34m\u001b[0m\u001b[0;34m\u001b[0m\u001b[0m\n\u001b[1;32m    264\u001b[0m     \u001b[0;32melif\u001b[0m \u001b[0mcase\u001b[0m \u001b[0;34m==\u001b[0m \u001b[0;36m5\u001b[0m\u001b[0;34m:\u001b[0m\u001b[0;34m\u001b[0m\u001b[0;34m\u001b[0m\u001b[0m\n",
            "\u001b[0;32m/usr/local/lib/python3.6/dist-packages/ipykernel/kernelbase.py\u001b[0m in \u001b[0;36mraw_input\u001b[0;34m(self, prompt)\u001b[0m\n\u001b[1;32m    702\u001b[0m             \u001b[0mself\u001b[0m\u001b[0;34m.\u001b[0m\u001b[0m_parent_ident\u001b[0m\u001b[0;34m,\u001b[0m\u001b[0;34m\u001b[0m\u001b[0;34m\u001b[0m\u001b[0m\n\u001b[1;32m    703\u001b[0m             \u001b[0mself\u001b[0m\u001b[0;34m.\u001b[0m\u001b[0m_parent_header\u001b[0m\u001b[0;34m,\u001b[0m\u001b[0;34m\u001b[0m\u001b[0;34m\u001b[0m\u001b[0m\n\u001b[0;32m--> 704\u001b[0;31m             \u001b[0mpassword\u001b[0m\u001b[0;34m=\u001b[0m\u001b[0;32mFalse\u001b[0m\u001b[0;34m,\u001b[0m\u001b[0;34m\u001b[0m\u001b[0;34m\u001b[0m\u001b[0m\n\u001b[0m\u001b[1;32m    705\u001b[0m         )\n\u001b[1;32m    706\u001b[0m \u001b[0;34m\u001b[0m\u001b[0m\n",
            "\u001b[0;32m/usr/local/lib/python3.6/dist-packages/ipykernel/kernelbase.py\u001b[0m in \u001b[0;36m_input_request\u001b[0;34m(self, prompt, ident, parent, password)\u001b[0m\n\u001b[1;32m    732\u001b[0m             \u001b[0;32mexcept\u001b[0m \u001b[0mKeyboardInterrupt\u001b[0m\u001b[0;34m:\u001b[0m\u001b[0;34m\u001b[0m\u001b[0;34m\u001b[0m\u001b[0m\n\u001b[1;32m    733\u001b[0m                 \u001b[0;31m# re-raise KeyboardInterrupt, to truncate traceback\u001b[0m\u001b[0;34m\u001b[0m\u001b[0;34m\u001b[0m\u001b[0;34m\u001b[0m\u001b[0m\n\u001b[0;32m--> 734\u001b[0;31m                 \u001b[0;32mraise\u001b[0m \u001b[0mKeyboardInterrupt\u001b[0m\u001b[0;34m\u001b[0m\u001b[0;34m\u001b[0m\u001b[0m\n\u001b[0m\u001b[1;32m    735\u001b[0m             \u001b[0;32melse\u001b[0m\u001b[0;34m:\u001b[0m\u001b[0;34m\u001b[0m\u001b[0;34m\u001b[0m\u001b[0m\n\u001b[1;32m    736\u001b[0m                 \u001b[0;32mbreak\u001b[0m\u001b[0;34m\u001b[0m\u001b[0;34m\u001b[0m\u001b[0m\n",
            "\u001b[0;31mKeyboardInterrupt\u001b[0m: "
          ]
        }
      ]
    },
    {
      "cell_type": "markdown",
      "metadata": {
        "id": "PJRlYNAUUqIH"
      },
      "source": [
        "# NSGA-II"
      ]
    },
    {
      "cell_type": "markdown",
      "metadata": {
        "id": "8ll4pzzGg0CQ"
      },
      "source": [
        "## CPU"
      ]
    },
    {
      "cell_type": "code",
      "metadata": {
        "id": "9fu8UOIDUud0"
      },
      "source": [
        "class NSGA_II:\n",
        "    def __init__(self, chromosome_length, population_size, objectives_number,\n",
        "                 initial_population, initial_objective_values):\n",
        "        self.chromosome_length = chromosome_length\n",
        "        self.population_size = population_size\n",
        "        self.objectives_number = objectives_number\n",
        "        if type(initial_population) is not np.ndarray:\n",
        "            raise ValueError(\"initial population must be a numpy array\")\n",
        "        if initial_population.shape != (self.population_size, self.chromosome_length):\n",
        "            raise ValueError(\"initial population must be of shape (population_size, chromosome_length)\")\n",
        "        self.current_population = initial_population\n",
        "        if type(initial_objective_values) is not np.ndarray:\n",
        "            raise ValueError(\"initial objective values must be a numpy array\")\n",
        "        if initial_objective_values.shape != (self.population_size, self.objectives_number):\n",
        "            raise ValueError(\"initial population values must be of shape (population_size, objectives_number)\")\n",
        "        self.current_objective_values = initial_objective_values\n",
        "        self.current_pareto_frontier = np.empty(self.population_size)\n",
        "        self.current_crowding_distances = np.empty(self.population_size)\n",
        "        self.replace_population(None, None)\n",
        "\n",
        "\n",
        "    def get_population(self):\n",
        "        return self.current_population\n",
        "\n",
        "\n",
        "    def get_values(self):\n",
        "        return self.current_objective_values\n",
        "\n",
        "\n",
        "    def non_dominated_sort(self, objective_values):\n",
        "\n",
        "        def dominates(vals1, vals2):\n",
        "            return np.all(vals1 <= vals2) and np.any(vals1 < vals2)\n",
        "\n",
        "        size = objective_values.shape[0]\n",
        "        pareto_frontier = np.empty(size, dtype=int)\n",
        "        current_frontier_number = 1\n",
        "        current_frontier_members = []\n",
        "        # number of solutions dominating p\n",
        "        dominating_count = np.zeros(size, dtype=int)\n",
        "        # set of solutions dominated by p\n",
        "        dominated = [None] * size \n",
        "\n",
        "        for p in range(size):\n",
        "            dominated[p] = []\n",
        "            for q in range(size):\n",
        "                if dominates(objective_values[p], objective_values[q]):\n",
        "                    dominated[p].append(q)\n",
        "                elif dominates(objective_values[q], objective_values[p]):\n",
        "                    dominating_count[p] += 1\n",
        "            if dominating_count[p] == 0:\n",
        "                pareto_frontier[p] = current_frontier_number\n",
        "                current_frontier_members.append(p)\n",
        "\n",
        "        while current_frontier_members != []:\n",
        "            current_frontier_number += 1\n",
        "            new_frontier_members = []\n",
        "            for p in current_frontier_members:\n",
        "                for q in dominated[p]:\n",
        "                    dominating_count[q] -= 1\n",
        "                    if dominating_count[q] == 0:\n",
        "                        pareto_frontier[q] = current_frontier_number\n",
        "                        new_frontier_members.append(q)\n",
        "            current_frontier_members = new_frontier_members\n",
        "        \n",
        "        return pareto_frontier\n",
        "\n",
        "\n",
        "    def assign_crowding_distance(self, objective_values):\n",
        "        size = objective_values.shape[0]\n",
        "        distance = np.zeros(size)\n",
        "        for current_objective in range(self.objectives_number):\n",
        "            current_objective_values = objective_values[:, current_objective]\n",
        "            sorted_indices = np.argsort(current_objective_values)\n",
        "            current_objective_values_diff = current_objective_values[sorted_indices[-1]] - current_objective_values[sorted_indices[0]]\n",
        "            if current_objective_values_diff == 0:\n",
        "                continue\n",
        "            distance[sorted_indices[0]], distance[sorted_indices[-1]] = np.inf, np.inf\n",
        "            for i in range(1, size-1):\n",
        "                distance[sorted_indices[i]] += ((current_objective_values[sorted_indices[i+1]] - current_objective_values[sorted_indices[i-1]]) /\n",
        "                                                current_objective_values_diff)\n",
        "        return distance\n",
        "\n",
        "\n",
        "    def generate_children(self, crossover_operator, mutation_operator,\n",
        "                          crossover_probability = 0.95, mutation_probability = 0.25,\n",
        "                          number_of_offspring = None):\n",
        "\n",
        "        def compare(p, q):\n",
        "            if self.current_pareto_frontier[p] == self.current_pareto_frontier[q]:\n",
        "                return self.current_crowding_distances[p] > self.current_crowding_distances[q]\n",
        "            return self.current_pareto_frontier[p] > self.current_pareto_frontier[q]\n",
        "\n",
        "        if number_of_offspring is None:\n",
        "            number_of_offspring = self.population_size\n",
        "\n",
        "        # selecting parent indices by the binary tournament method\n",
        "        parent_indices = np.empty(number_of_offspring, dtype=np.int64)\n",
        "        for i in range(number_of_offspring):\n",
        "            candidates = np.random.choice(self.population_size, 2, False)\n",
        "            if compare(candidates[0], candidates[1]):\n",
        "                parent_indices[i] = candidates[0]\n",
        "            else:\n",
        "                parent_indices[i] = candidates[1]\n",
        "\n",
        "        # creating children population\n",
        "        children_population = np.empty((number_of_offspring, self.chromosome_length), dtype='int32')\n",
        "        for i in range(number_of_offspring//2):\n",
        "            if np.random.random() < crossover_probability:\n",
        "                children_population[2*i], children_population[2*i+1] = crossover_operator(self.current_population[parent_indices[2*i]].copy(), self.current_population[parent_indices[2*i+1]].copy())\n",
        "            else:\n",
        "                children_population[2*i], children_population[2*i+1] = self.current_population[parent_indices[2*i]].copy(), self.current_population[parent_indices[2*i+1]].copy()\n",
        "        if np.mod(number_of_offspring, 2) == 1:\n",
        "            children_population[-1] = self.current_population[parent_indices[-1]]\n",
        "\n",
        "        # mutating children population\n",
        "        for i in range(number_of_offspring):\n",
        "            if np.random.random() < mutation_probability:\n",
        "                children_population[i] = mutation_operator(children_population[i])\n",
        "\n",
        "        return children_population\n",
        "\n",
        "\n",
        "    def replace_population(self, children_population, children_objective_values):\n",
        "\n",
        "        if(children_population is None and children_objective_values is None):\n",
        "            combined_population = self.current_population\n",
        "            combined_objective_values = self.current_objective_values\n",
        "        else:\n",
        "            combined_population = np.vstack((self.current_population, children_population))\n",
        "            combined_objective_values = np.vstack((self.current_objective_values, children_objective_values))\n",
        "\n",
        "        combined_pareto_frontier = self.non_dominated_sort(combined_objective_values)\n",
        "\n",
        "        positions = np.argsort(combined_pareto_frontier)\n",
        "\n",
        "        combined_population = combined_population[positions]\n",
        "        combined_objective_values = combined_objective_values[positions]\n",
        "        combined_pareto_frontier = combined_pareto_frontier[positions]\n",
        "\n",
        "        # assign crowding distance and select subset of last frontier\n",
        "        found_population_size = 0\n",
        "        current_frontier_number = 1\n",
        "        current_frontier_lb, current_frontier_rb = (np.searchsorted(combined_pareto_frontier, current_frontier_number),\n",
        "                                                    np.searchsorted(combined_pareto_frontier, current_frontier_number, side='right'))\n",
        "        current_frontier_size = current_frontier_rb - current_frontier_lb\n",
        "        while found_population_size + current_frontier_size < self.population_size:\n",
        "            found_population_size += current_frontier_size\n",
        "            current_frontier_distances = self.assign_crowding_distance(combined_objective_values[current_frontier_lb : current_frontier_rb])\n",
        "            self.current_crowding_distances[current_frontier_lb : current_frontier_rb] = current_frontier_distances\n",
        "            current_frontier_number += 1\n",
        "            current_frontier_lb, current_frontier_rb = (np.searchsorted(combined_pareto_frontier, current_frontier_number),\n",
        "                                                        np.searchsorted(combined_pareto_frontier, current_frontier_number, side='right'))\n",
        "            current_frontier_size = current_frontier_rb - current_frontier_lb\n",
        "\n",
        "        current_frontier_distances = self.assign_crowding_distance(combined_objective_values[current_frontier_lb : current_frontier_rb])\n",
        "        last_frontier_taken_indices = np.argsort(current_frontier_distances)[::-1][:self.population_size - found_population_size]\n",
        "\n",
        "        combined_population[current_frontier_lb : self.population_size] = combined_population[last_frontier_taken_indices]\n",
        "        combined_objective_values[current_frontier_lb : self.population_size] = combined_objective_values[last_frontier_taken_indices]\n",
        "        self.current_crowding_distances[current_frontier_lb : self.population_size] = current_frontier_distances[last_frontier_taken_indices]\n",
        "\n",
        "        self.current_population = combined_population[:self.population_size]\n",
        "        self.current_objective_values = combined_objective_values[:self.population_size]\n",
        "        self.current_pareto_frontier = combined_pareto_frontier[:self.population_size]\n",
        "\n",
        "        return True"
      ],
      "execution_count": null,
      "outputs": []
    },
    {
      "cell_type": "markdown",
      "metadata": {
        "id": "K6K0Myc9gx05"
      },
      "source": [
        "## GPU"
      ]
    },
    {
      "cell_type": "code",
      "metadata": {
        "id": "m8b8cM9RhFMr"
      },
      "source": [
        "@cuda.jit\n",
        "def check_domination(pop_vals, dominated, dom_count):\n",
        "    q, p = cuda.grid(2)\n",
        "\n",
        "    pop_size = pop_vals.shape[0]\n",
        "    if (p >= pop_size) or (q >= pop_size):\n",
        "        return\n",
        "\n",
        "    if (pop_vals[p][0] <= pop_vals[q][0] and pop_vals[p][1] <= pop_vals[q][1] and\n",
        "        (pop_vals[p][0] < pop_vals[q][0] or pop_vals[p][1] < pop_vals[q][1])):\n",
        "        dominated[p, q] = 1\n",
        "\n",
        "    elif (pop_vals[q][0] <= pop_vals[p][0] and pop_vals[q][1] <= pop_vals[p][1] and\n",
        "            (pop_vals[q][0] < pop_vals[p][0] or pop_vals[q][1] < pop_vals[p][1])):\n",
        "        cuda.atomic.add(dom_count, p, 1)\n",
        "\n",
        "\n",
        "@cuda.jit\n",
        "def find_first_frontier(dom_count, frontier, rank):\n",
        "    p = cuda.grid(1)\n",
        "    if dom_count[p] == 0:\n",
        "        frontier[p] = 1\n",
        "        rank[p] = 1\n",
        "\n",
        "\n",
        "@cuda.jit\n",
        "def remove_current_frontier(dominated, dom_count, current_rank,\n",
        "                            current_frontier, next_frontier, rank):\n",
        "    q, p = cuda.grid(2)\n",
        "\n",
        "    pop_size = dominated.shape[0]\n",
        "    if (p >= pop_size) or (q >= pop_size) or current_frontier[p] == 0:\n",
        "        return\n",
        "    \n",
        "    if dominated[p, q] == 1:\n",
        "        if cuda.atomic.add(dom_count, q, -1) == 1:\n",
        "            rank[q] = current_rank\n",
        "            next_frontier[q] = 1"
      ],
      "execution_count": 11,
      "outputs": []
    },
    {
      "cell_type": "code",
      "metadata": {
        "id": "pMHBapX2hFMt"
      },
      "source": [
        "class NSGA_II_GPU:\n",
        "    def __init__(self, chromosome_length, population_size, objectives_number,\n",
        "                 initial_population, initial_objective_values):\n",
        "        self.chromosome_length = chromosome_length\n",
        "        self.population_size = population_size\n",
        "        self.objectives_number = objectives_number\n",
        "        if type(initial_population) is not np.ndarray:\n",
        "            raise ValueError(\"initial population must be a numpy array\")\n",
        "        if initial_population.shape != (self.population_size, self.chromosome_length):\n",
        "            raise ValueError(\"initial population must be of shape (population_size, chromosome_length)\")\n",
        "        self.current_population = initial_population\n",
        "        if type(initial_objective_values) is not np.ndarray:\n",
        "            raise ValueError(\"initial objective values must be a numpy array\")\n",
        "        if initial_objective_values.shape != (self.population_size, self.objectives_number):\n",
        "            raise ValueError(\"initial population values must be of shape (population_size, objectives_number)\")\n",
        "        self.current_objective_values = initial_objective_values\n",
        "        self.current_pareto_frontier = np.empty(self.population_size)\n",
        "        self.current_crowding_distances = np.empty(self.population_size)\n",
        "        self.replace_population(None, None)\n",
        "\n",
        "\n",
        "    def get_population(self):\n",
        "        return self.current_population\n",
        "\n",
        "\n",
        "    def get_values(self):\n",
        "        return self.current_objective_values\n",
        "\n",
        "\n",
        "    def non_dominated_sort(self, pop_vals):\n",
        "\n",
        "        def is_not_empty(frontier):\n",
        "            return np.any(frontier == 1)\n",
        "\n",
        "        pop_size = pop_vals.shape[0]\n",
        "\n",
        "        current_frontier = np.zeros(pop_size, dtype='bool')\n",
        "        next_frontier = np.zeros(pop_size, dtype='bool')\n",
        "        current_rank = 1\n",
        "\n",
        "        dom = np.zeros((pop_size, pop_size), dtype='bool')\n",
        "        dom_count = np.zeros(pop_size, dtype='int32')\n",
        "        rank = np.zeros(pop_size, dtype='int32')\n",
        "\n",
        "        d_dom = cuda.to_device(dom)\n",
        "        d_dom_count = cuda.to_device(dom_count)\n",
        "        d_rank = cuda.to_device(rank)\n",
        "\n",
        "        griddim  = (max(pop_size//32, 1), max(pop_size//32, 1))\n",
        "        blockdim = (32, 32)\n",
        "\n",
        "        check_domination[griddim, blockdim](pop_vals, d_dom, d_dom_count)\n",
        "        find_first_frontier[max(pop_size//1024, 1), 1024](d_dom_count, current_frontier, d_rank)\n",
        "\n",
        "        while(is_not_empty(current_frontier)):\n",
        "            next_frontier = np.zeros(pop_size, dtype='bool')\n",
        "            current_rank += 1\n",
        "            remove_current_frontier[griddim, blockdim](d_dom, d_dom_count, current_rank,\n",
        "                                                        current_frontier, next_frontier, d_rank)\n",
        "            current_frontier = next_frontier\n",
        "\n",
        "        rank = d_rank.copy_to_host()\n",
        "        return rank\n",
        "\n",
        "\n",
        "    def assign_crowding_distance(self, objective_values):\n",
        "        size = objective_values.shape[0]\n",
        "        distance = np.zeros(size)\n",
        "        for current_objective in range(self.objectives_number):\n",
        "            current_objective_values = objective_values[:, current_objective]\n",
        "            sorted_indices = np.argsort(current_objective_values)\n",
        "            current_objective_values_diff = current_objective_values[sorted_indices[-1]] - current_objective_values[sorted_indices[0]]\n",
        "            if current_objective_values_diff == 0:\n",
        "                continue\n",
        "            distance[sorted_indices[0]], distance[sorted_indices[-1]] = np.inf, np.inf\n",
        "            for i in range(1, size-1):\n",
        "                distance[sorted_indices[i]] += ((current_objective_values[sorted_indices[i+1]] - current_objective_values[sorted_indices[i-1]]) /\n",
        "                                                current_objective_values_diff)\n",
        "        return distance\n",
        "\n",
        "\n",
        "    def generate_children(self, crossover_operator, mutation_operator,\n",
        "                          crossover_probability = 0.95, mutation_probability = 0.25,\n",
        "                          number_of_offspring = None):\n",
        "\n",
        "        def compare(p, q):\n",
        "            if self.current_pareto_frontier[p] == self.current_pareto_frontier[q]:\n",
        "                return self.current_crowding_distances[p] > self.current_crowding_distances[q]\n",
        "            return self.current_pareto_frontier[p] > self.current_pareto_frontier[q]\n",
        "\n",
        "        if number_of_offspring is None:\n",
        "            number_of_offspring = self.population_size\n",
        "\n",
        "        # selecting parent indices by the binary tournament method\n",
        "        parent_indices = np.empty(number_of_offspring, dtype=np.int64)\n",
        "        for i in range(number_of_offspring):\n",
        "            # using np.random.choice slows this phase considerably\n",
        "            candidates = np.random.randint(self.population_size, size=2)\n",
        "            while candidates[0] == candidates[1]:\n",
        "                candidates = np.random.randint(self.population_size, size=2)\n",
        "            if compare(candidates[0], candidates[1]):\n",
        "                parent_indices[i] = candidates[0]\n",
        "            else:\n",
        "                parent_indices[i] = candidates[1]\n",
        "\n",
        "        # creating children population\n",
        "        children_population = np.empty((number_of_offspring, self.chromosome_length), dtype='int32')\n",
        "        for i in range(number_of_offspring//2):\n",
        "            if np.random.random() < crossover_probability:\n",
        "                children_population[2*i], children_population[2*i+1] = crossover_operator(self.current_population[parent_indices[2*i]].copy(), self.current_population[parent_indices[2*i+1]].copy())\n",
        "            else:\n",
        "                children_population[2*i], children_population[2*i+1] = self.current_population[parent_indices[2*i]].copy(), self.current_population[parent_indices[2*i+1]].copy()\n",
        "        if np.mod(number_of_offspring, 2) == 1:\n",
        "            children_population[-1] = self.current_population[parent_indices[-1]]\n",
        "\n",
        "        # mutating children population\n",
        "        for i in range(number_of_offspring):\n",
        "            if np.random.random() < mutation_probability:\n",
        "                children_population[i] = mutation_operator(children_population[i])\n",
        "\n",
        "        return children_population\n",
        "\n",
        "\n",
        "    def replace_population(self, children_population, children_objective_values):\n",
        "\n",
        "        if(children_population is None and children_objective_values is None):\n",
        "            combined_population = self.current_population\n",
        "            combined_objective_values = self.current_objective_values\n",
        "        else:\n",
        "            combined_population = np.vstack((self.current_population, children_population))\n",
        "            combined_objective_values = np.vstack((self.current_objective_values, children_objective_values))\n",
        "\n",
        "        combined_pareto_frontier = self.non_dominated_sort(combined_objective_values)\n",
        "\n",
        "        positions = np.argsort(combined_pareto_frontier)\n",
        "\n",
        "        combined_population = combined_population[positions]\n",
        "        combined_objective_values = combined_objective_values[positions]\n",
        "        combined_pareto_frontier = combined_pareto_frontier[positions]\n",
        "\n",
        "        # assign crowding distance and select subset of last frontier\n",
        "        found_population_size = 0\n",
        "        current_frontier_number = 1\n",
        "        current_frontier_lb, current_frontier_rb = (np.searchsorted(combined_pareto_frontier, current_frontier_number),\n",
        "                                                    np.searchsorted(combined_pareto_frontier, current_frontier_number, side='right'))\n",
        "        current_frontier_size = current_frontier_rb - current_frontier_lb\n",
        "        while found_population_size + current_frontier_size < self.population_size:\n",
        "            found_population_size += current_frontier_size\n",
        "            current_frontier_distances = self.assign_crowding_distance(combined_objective_values[current_frontier_lb : current_frontier_rb])\n",
        "            self.current_crowding_distances[current_frontier_lb : current_frontier_rb] = current_frontier_distances\n",
        "            current_frontier_number += 1\n",
        "            current_frontier_lb, current_frontier_rb = (np.searchsorted(combined_pareto_frontier, current_frontier_number),\n",
        "                                                        np.searchsorted(combined_pareto_frontier, current_frontier_number, side='right'))\n",
        "            current_frontier_size = current_frontier_rb - current_frontier_lb\n",
        "\n",
        "        current_frontier_distances = self.assign_crowding_distance(combined_objective_values[current_frontier_lb : current_frontier_rb])\n",
        "        last_frontier_taken_indices = np.argsort(current_frontier_distances)[::-1][:self.population_size - found_population_size]\n",
        "\n",
        "        combined_population[current_frontier_lb : self.population_size] = combined_population[last_frontier_taken_indices]\n",
        "        combined_objective_values[current_frontier_lb : self.population_size] = combined_objective_values[last_frontier_taken_indices]\n",
        "        self.current_crowding_distances[current_frontier_lb : self.population_size] = current_frontier_distances[last_frontier_taken_indices]\n",
        "\n",
        "        self.current_population = combined_population[:self.population_size]\n",
        "        self.current_objective_values = combined_objective_values[:self.population_size]\n",
        "        self.current_pareto_frontier = combined_pareto_frontier[:self.population_size]\n",
        "\n",
        "        return True"
      ],
      "execution_count": 12,
      "outputs": []
    },
    {
      "cell_type": "markdown",
      "metadata": {
        "id": "GU6j35CjNeEO"
      },
      "source": [
        "# MOTSP"
      ]
    },
    {
      "cell_type": "markdown",
      "metadata": {
        "id": "IFtVizfENgho"
      },
      "source": [
        "## Operatory krzyżowania"
      ]
    },
    {
      "cell_type": "code",
      "metadata": {
        "id": "fPPYskZNKRxH"
      },
      "source": [
        "def PMX(ind1, ind2):\n",
        "\n",
        "    res1, res2 = ind1.copy(), ind2.copy()\n",
        "    chrom_len = ind1.shape[0]\n",
        "\n",
        "    def getIdx(val, arr):\n",
        "        result = np.where(arr == val)\n",
        "        return result[0][0]\n",
        "\n",
        "    a = np.random.choice(chrom_len, 2, False)\n",
        "    i, j = a.min(), a.max()+1\n",
        "\n",
        "\n",
        "    swath1 = ind1[i:j]\n",
        "    swath2 = ind2[i:j]\n",
        "\n",
        "    is_in_swath1 = np.zeros(chrom_len, dtype='bool')\n",
        "    is_in_swath2 = np.zeros(chrom_len, dtype='bool')\n",
        "\n",
        "    is_in_swath1[swath1] = True\n",
        "    is_in_swath2[swath2] = True\n",
        "\n",
        "    pos_in_ind1 = np.empty(chrom_len, dtype='int32')\n",
        "    for pos in range(chrom_len):\n",
        "        pos_in_ind1[ind1[pos]] = pos\n",
        "\n",
        "    map = np.zeros(chrom_len, dtype='int32') - 1\n",
        "    for chrom in swath1:\n",
        "        if is_in_swath2[chrom]:\n",
        "            continue\n",
        "        else:\n",
        "            paired = chrom\n",
        "            while(is_in_swath1[paired]):\n",
        "                paired = ind2[pos_in_ind1[paired]]\n",
        "            map[paired] = chrom\n",
        "            map[chrom] = paired\n",
        "\n",
        "\n",
        "    for idx in range(chrom_len):\n",
        "        chrom = ind1[idx]\n",
        "        if (is_in_swath2[chrom]) and (map[chrom] != -1):\n",
        "            res1[idx] = map[chrom]\n",
        "    res1[i:j] = swath2\n",
        "\n",
        "    for idx in range(chrom_len):\n",
        "        chrom = ind2[idx]\n",
        "        if (is_in_swath1[chrom]) and (map[chrom] != -1):\n",
        "            res2[idx] = map[chrom]\n",
        "    res2[i:j] = swath1\n",
        "\n",
        "    return res1, res2\n",
        "\n",
        "\n",
        "def OX(ind1, ind2):\n",
        "    a = np.random.choice(len(ind1), 2, False)\n",
        "    i, j = a.min(), a.max()+1\n",
        "    swath1 = ind1[i:j]\n",
        "    swath2 = ind2[i:j]\n",
        "    \n",
        "    rest2 = np.array([chrom for chrom in ind1 if chrom not in swath2])\n",
        "    rest1 = np.array([chrom for chrom in ind2 if chrom not in swath1])\n",
        "    \n",
        "    ind1 = np.concatenate((rest2[0:i], swath2, rest2[i:]))\n",
        "    ind2 = np.concatenate((rest1[0:i], swath1, rest1[i:]))\n",
        "    \n",
        "    return ind1, ind2\n",
        "\n",
        "\n",
        "def CX(ind1, ind2):\n",
        "\n",
        "    def getIdx(val, arr):\n",
        "        result = np.where(arr == val)\n",
        "        return result[0][0]\n",
        "        \n",
        "    def color_cycle(idx):\n",
        "        while cycles[idx] == 0 :\n",
        "            cycles[idx] = color\n",
        "            idx = getIdx(ind2[idx], ind1)\n",
        "\n",
        "    cycles = np.zeros(len(ind1))\n",
        "    color = 1\n",
        "    for idx in range(len(ind1)):\n",
        "        if cycles[idx] == 0 :\n",
        "            color_cycle(idx)\n",
        "            color += 1\n",
        "\n",
        "    mask = (cycles%2).astype(bool)\n",
        "\n",
        "\n",
        "    child1, child2 = np.zeros(len(ind1)), np.zeros(len(ind1))\n",
        "    child1[mask], child2[mask] = ind1[mask], ind2[mask]\n",
        "    neg = np.logical_not\n",
        "    child1[neg(mask)], child2[neg(mask)] = ind2[neg(mask)], ind1[neg(mask)]\n",
        "    \n",
        "    return child1, child2\n",
        "\n",
        "def PBX(ind1, ind2):\n",
        "    len = ind1.shape[0]\n",
        "\n",
        "    chosen_ones = np.random.random(len) < 0.5\n",
        "\n",
        "    pos1, pos2 = np.empty(len, dtype='int32'), np.empty(len, dtype='int32')\n",
        "    child1, child2 = np.empty(len, dtype='int32'), np.empty(len, dtype='int32')\n",
        "    for i in range(len):\n",
        "        pos1[ind1[i]], pos2[ind2[i]] = i, i\n",
        "\n",
        "    child1[chosen_ones], child2[chosen_ones] = ind1[chosen_ones], ind2[chosen_ones]\n",
        "    child1[~chosen_ones], child2[~chosen_ones] = ind2[np.sort(pos2[ind1[~chosen_ones]])], ind1[np.sort(pos1[ind2[~chosen_ones]])]\n",
        "\n",
        "    return child1, child2"
      ],
      "execution_count": 4,
      "outputs": []
    },
    {
      "cell_type": "markdown",
      "metadata": {
        "id": "sqHspmRbNpVS"
      },
      "source": [
        "## Operatory mutacji"
      ]
    },
    {
      "cell_type": "code",
      "metadata": {
        "id": "uTJ8nnjcrKEY"
      },
      "source": [
        "def reverse_sequence_mutation(p):\n",
        "    a = np.random.choice(len(p), 2, False)\n",
        "    i, j = a.min(), a.max()\n",
        "    q = p.copy()\n",
        "    q[i:j+1] = q[i:j+1][::-1]\n",
        "    return q\n",
        "\n",
        "def element_transposition_mutation(p):\n",
        "    a = np.random.choice(len(p), 2, False)\n",
        "    i, j = a.min(), a.max()\n",
        "    q = p.copy()\n",
        "    q[i], q[j] = q[j], q[i]\n",
        "    return q\n",
        "\n",
        "def insert_mutation(p):\n",
        "    a = np.random.choice(len(p), 2, False)\n",
        "    i, j = a.min(), a.max()\n",
        "    q = p.copy()\n",
        "    q = np.concatenate((q[0:i], q[j:j+1], q[i:j], q[j+1:]))\n",
        "    return q"
      ],
      "execution_count": 5,
      "outputs": []
    },
    {
      "cell_type": "markdown",
      "metadata": {
        "id": "I4wTLs_oRpGJ"
      },
      "source": [
        "## Funkcja celu"
      ]
    },
    {
      "cell_type": "code",
      "metadata": {
        "id": "4Oq_bRXieI_l"
      },
      "source": [
        "def generate_distance_matrix(problem_size, *problems):\n",
        "    M = np.empty((len(problems), problem_size, problem_size), dtype='int32')\n",
        "    for prob in range(len(problems)):\n",
        "        coords = problems[prob].as_dict()['node_coords']\n",
        "        coords = np.array(list(coords.values()))\n",
        "        for i in range(problem_size):\n",
        "            for j in range(problem_size):\n",
        "                M[prob, i, j] = np.sqrt(((coords[i] - coords[j])**2).sum())\n",
        "    return M\n",
        "\n",
        "def tsp_objective_function(perm, objectives_number, distance_matrix):\n",
        "    result = np.zeros(objectives_number)\n",
        "    for i in range(perm.shape[0]):\n",
        "        for obj in range(objectives_number):\n",
        "            result[obj] += distance_matrix[obj][perm[i-1]][perm[i]]\n",
        "    return result\n",
        "\n",
        "def evaluate_population_cpu(population, distance_matrix, objectives_number):\n",
        "    pop_size = population.shape[0]\n",
        "    vals = np.empty((pop_size, objectives_number))\n",
        "    for i in range(pop_size):\n",
        "        vals[i] = tsp_objective_function(population[i], objectives_number, distance_matrix)\n",
        "    return vals"
      ],
      "execution_count": 6,
      "outputs": []
    },
    {
      "cell_type": "code",
      "metadata": {
        "id": "oULWRHNghx1y"
      },
      "source": [
        "@cuda.jit\n",
        "def evaluate_population(population, distance, res):\n",
        "\n",
        "    k, obj, ind = cuda.grid(3)\n",
        "\n",
        "    pop_size, chrom_len = population.shape\n",
        "    if (ind >= pop_size) or (k >= chrom_len):\n",
        "        return\n",
        "\n",
        "    idx = population[ind][k]\n",
        "    next_idx = population[ind][(k+1)%chrom_len]\n",
        "    value = distance[obj][idx][next_idx]\n",
        "    d = 16\n",
        "    while d>0:\n",
        "        value += cuda.shfl_down_sync(0xffffffff, value, d)\n",
        "        d >>= 1\n",
        "    if (k % 32) == 0:\n",
        "        cuda.atomic.add(res, (ind, obj), value)\n",
        "    return "
      ],
      "execution_count": 7,
      "outputs": []
    },
    {
      "cell_type": "markdown",
      "metadata": {
        "id": "Ev39yBX3OD6A"
      },
      "source": [
        "## Przykładowy problem MOTSP"
      ]
    },
    {
      "cell_type": "code",
      "metadata": {
        "id": "leDjuiaNfIqd"
      },
      "source": [
        "def generate_population(pop_size, chrom_len):\n",
        "    pop = np.empty((pop_size, chrom_len), dtype='int32')\n",
        "    for i in range(pop_size):\n",
        "        ind = np.random.permutation(chrom_len)\n",
        "        pop[i] = ind\n",
        "    return pop"
      ],
      "execution_count": 8,
      "outputs": []
    },
    {
      "cell_type": "code",
      "metadata": {
        "id": "Vt55LGyROQkG"
      },
      "source": [
        "euclidA100 = tsplib95.load(\"euclidA100.tsp\")\n",
        "euclidB100 = tsplib95.load(\"euclidB100.tsp\")\n",
        "\n",
        "solutionsAB = np.loadtxt('best.euclidAB100.tsp', dtype=int)\n",
        "\n",
        "distance_matrix = generate_distance_matrix(100, euclidA100, euclidB100)"
      ],
      "execution_count": null,
      "outputs": []
    },
    {
      "cell_type": "code",
      "metadata": {
        "colab": {
          "base_uri": "https://localhost:8080/",
          "height": 237
        },
        "id": "I8kAHHSLwK-H",
        "outputId": "e326ae28-957e-4a97-d9e2-82bd3739ffdc"
      },
      "source": [
        "chrom_len = 100\n",
        "pop_size = 256\n",
        "obj_num = 2\n",
        "n_iters = 50\n",
        "\n",
        "init_pop = generate_population(pop_size, chrom_len)\n",
        "init_vals = evaluate_population_cpu(init_pop, distance_matrix, obj_num)\n",
        "\n",
        "nsga_ii = NSGA_II(chrom_len, pop_size, obj_num, init_pop, init_vals)\n",
        "\n",
        "plt.figure(figsize=(12,12))\n",
        "plt.scatter(solutionsAB[:, 0], solutionsAB[:, 1])\n",
        "\n",
        "for t in tqdm(range(n_iters)):\n",
        "\n",
        "    if(np.mod(t, 50) == 0):\n",
        "        current_vals = nsga_ii.get_values()\n",
        "        plt.scatter(current_vals[:, 0], current_vals[:, 1])\n",
        "\n",
        "    children = nsga_ii.generate_children(PMX, reverse_sequence_mutation)\n",
        "    children_vals = evaluate_population_cpu(children, distance_matrix, obj_num)\n",
        "    nsga_ii.replace_population(children, children_vals)\n",
        "\n",
        "current_vals = nsga_ii.get_values()\n",
        "plt.scatter(current_vals[:, 0], current_vals[:, 1])"
      ],
      "execution_count": null,
      "outputs": [
        {
          "output_type": "error",
          "ename": "NameError",
          "evalue": "ignored",
          "traceback": [
            "\u001b[0;31m---------------------------------------------------------------------------\u001b[0m",
            "\u001b[0;31mNameError\u001b[0m                                 Traceback (most recent call last)",
            "\u001b[0;32m<ipython-input-14-818decce3ca8>\u001b[0m in \u001b[0;36m<module>\u001b[0;34m()\u001b[0m\n\u001b[1;32m      7\u001b[0m \u001b[0minit_vals\u001b[0m \u001b[0;34m=\u001b[0m \u001b[0mevaluate_population_cpu\u001b[0m\u001b[0;34m(\u001b[0m\u001b[0minit_pop\u001b[0m\u001b[0;34m,\u001b[0m \u001b[0mdistance_matrix\u001b[0m\u001b[0;34m,\u001b[0m \u001b[0mobj_num\u001b[0m\u001b[0;34m)\u001b[0m\u001b[0;34m\u001b[0m\u001b[0;34m\u001b[0m\u001b[0m\n\u001b[1;32m      8\u001b[0m \u001b[0;34m\u001b[0m\u001b[0m\n\u001b[0;32m----> 9\u001b[0;31m \u001b[0mnsga_ii\u001b[0m \u001b[0;34m=\u001b[0m \u001b[0mNSGA_II\u001b[0m\u001b[0;34m(\u001b[0m\u001b[0mchrom_len\u001b[0m\u001b[0;34m,\u001b[0m \u001b[0mpop_size\u001b[0m\u001b[0;34m,\u001b[0m \u001b[0mobj_num\u001b[0m\u001b[0;34m,\u001b[0m \u001b[0minit_pop\u001b[0m\u001b[0;34m,\u001b[0m \u001b[0minit_vals\u001b[0m\u001b[0;34m)\u001b[0m\u001b[0;34m\u001b[0m\u001b[0;34m\u001b[0m\u001b[0m\n\u001b[0m\u001b[1;32m     10\u001b[0m \u001b[0;34m\u001b[0m\u001b[0m\n\u001b[1;32m     11\u001b[0m \u001b[0mplt\u001b[0m\u001b[0;34m.\u001b[0m\u001b[0mfigure\u001b[0m\u001b[0;34m(\u001b[0m\u001b[0mfigsize\u001b[0m\u001b[0;34m=\u001b[0m\u001b[0;34m(\u001b[0m\u001b[0;36m12\u001b[0m\u001b[0;34m,\u001b[0m\u001b[0;36m12\u001b[0m\u001b[0;34m)\u001b[0m\u001b[0;34m)\u001b[0m\u001b[0;34m\u001b[0m\u001b[0;34m\u001b[0m\u001b[0m\n",
            "\u001b[0;31mNameError\u001b[0m: name 'NSGA_II' is not defined"
          ]
        }
      ]
    },
    {
      "cell_type": "markdown",
      "metadata": {
        "id": "ZbtQkqG9AzzK"
      },
      "source": [
        "## Crossover - optymalizacja"
      ]
    },
    {
      "cell_type": "code",
      "metadata": {
        "id": "Lrx-13EFXvM_"
      },
      "source": [
        "def PMX_old(ind1, ind2, i, j):\n",
        "\n",
        "    res1, res2 = ind1.copy(), ind2.copy()\n",
        "    def getIdx(val, arr):\n",
        "        result = np.where(arr == val)\n",
        "        return result[0][0]\n",
        "\n",
        "    a = np.random.choice(len(ind1), 2, False)\n",
        "#    i, j = a.min(), a.max()+1\n",
        "    swath1 = ind1[i:j]\n",
        "    swath2 = ind2[i:j]\n",
        "\n",
        "    map = {}\n",
        "    for chrom in swath1:\n",
        "        if chrom in swath2:\n",
        "            continue\n",
        "        else:\n",
        "            paired = chrom\n",
        "            while(paired in swath1):\n",
        "                paired = swath2[getIdx(paired, swath1)]\n",
        "            map[paired] = chrom\n",
        "            map[chrom] = paired\n",
        "    oldInd1, oldInd2 = ind1, ind2\n",
        "\n",
        "    for idx in range(len(ind1)):\n",
        "        chrom = ind1[idx]\n",
        "        if (chrom in swath2) and (chrom in map):\n",
        "            res1[idx] = map[chrom]\n",
        "    res1[i:j] = swath2\n",
        "\n",
        "    for idx in range(len(ind1)):\n",
        "        chrom = ind2[idx]\n",
        "        if (chrom in swath1) and (chrom in map):\n",
        "            res2[idx] = map[chrom]\n",
        "    res2[i:j] = swath1\n",
        "\n",
        "    return res1, res2, map"
      ],
      "execution_count": null,
      "outputs": []
    },
    {
      "cell_type": "code",
      "metadata": {
        "id": "2DjKuvXXWB7F"
      },
      "source": [
        "def PMX_new(ind1, ind2, i, j):\n",
        "\n",
        "    res1, res2 = ind1.copy(), ind2.copy()\n",
        "    chrom_len = ind1.shape[0]\n",
        "\n",
        "    def getIdx(val, arr):\n",
        "        result = np.where(arr == val)\n",
        "        return result[0][0]\n",
        "\n",
        "    a = np.random.choice(chrom_len, 2, False)\n",
        "#    i, j = a.min(), a.max()+1\n",
        "\n",
        "\n",
        "    swath1 = ind1[i:j]\n",
        "    swath2 = ind2[i:j]\n",
        "\n",
        "    is_in_swath1 = np.zeros(chrom_len, dtype='bool')\n",
        "    is_in_swath2 = np.zeros(chrom_len, dtype='bool')\n",
        "\n",
        "    is_in_swath1[swath1] = True\n",
        "    is_in_swath2[swath2] = True\n",
        "\n",
        "    pos_in_ind1 = np.empty(chrom_len, dtype='int32')\n",
        "    for pos in range(chrom_len):\n",
        "        pos_in_ind1[ind1[pos]] = pos\n",
        "\n",
        "    map = np.zeros(chrom_len, dtype='int32') - 1\n",
        "    for chrom in swath1:\n",
        "        if is_in_swath2[chrom]:\n",
        "            continue\n",
        "        else:\n",
        "            paired = chrom\n",
        "            while(is_in_swath1[paired]):\n",
        "                paired = ind2[pos_in_ind1[paired]]\n",
        "            map[paired] = chrom\n",
        "            map[chrom] = paired\n",
        "\n",
        "\n",
        "    for idx in range(chrom_len):\n",
        "        chrom = ind1[idx]\n",
        "        if (is_in_swath2[chrom]) and (map[chrom] != -1):\n",
        "            res1[idx] = map[chrom]\n",
        "    res1[i:j] = swath2\n",
        "\n",
        "    for idx in range(chrom_len):\n",
        "        chrom = ind2[idx]\n",
        "        if (is_in_swath1[chrom]) and (map[chrom] != -1):\n",
        "            res2[idx] = map[chrom]\n",
        "    res2[i:j] = swath1\n",
        "\n",
        "    return res1, res2, map"
      ],
      "execution_count": null,
      "outputs": []
    },
    {
      "cell_type": "code",
      "metadata": {
        "id": "Ki4zdP88X1Z-"
      },
      "source": [
        "chrom_len = 100\n",
        "for t in range(1000):\n",
        "    a = np.random.choice(chrom_len, 2, False)\n",
        "    i, j = a.min(), a.max()+1\n",
        "    p, q = np.random.permutation(chrom_len), np.random.permutation(chrom_len)\n",
        "    res_1, res_2 = PMX_old(p.copy(), q.copy(), i, j), PMX_new(p.copy(), q.copy(), i, j)\n",
        "    assert np.all(res_1[0] == res_2[0]) and np.all(res_1[1] == res_2[1])"
      ],
      "execution_count": null,
      "outputs": []
    },
    {
      "cell_type": "code",
      "metadata": {
        "colab": {
          "base_uri": "https://localhost:8080/"
        },
        "id": "Vxa61RYiZjl1",
        "outputId": "e1b3db1e-aa9c-47b5-80d2-f7f9c61940ab"
      },
      "source": [
        "chrom_len = 100\n",
        "a = np.random.choice(chrom_len, 2, False)\n",
        "i, j = a.min(), a.max()\n",
        "p, q = np.random.permutation(chrom_len), np.random.permutation(chrom_len)\n",
        "\n",
        "%timeit PMX_new(p,q,i,j)\n",
        "%timeit PMX_old(p,q,i,j)"
      ],
      "execution_count": null,
      "outputs": [
        {
          "output_type": "stream",
          "text": [
            "10000 loops, best of 3: 192 µs per loop\n",
            "1000 loops, best of 3: 970 µs per loop\n"
          ],
          "name": "stdout"
        }
      ]
    },
    {
      "cell_type": "code",
      "metadata": {
        "id": "IkEHKWiaCXbG",
        "colab": {
          "base_uri": "https://localhost:8080/",
          "height": 236
        },
        "outputId": "542ec665-5e33-4494-9b5e-3ec321de06d9"
      },
      "source": [
        "pop_size, chrom_len = 4048, 100\n",
        "crossover_operator = PMX\n",
        "\n",
        "pop = generate_population(pop_size, chrom_len)\n",
        "\n",
        "parent_indices = np.empty(pop_size, dtype=np.int64)\n",
        "for i in range(pop_size):\n",
        "    candidates = np.random.choice(pop_size, 1, False)\n",
        "    parent_indices[i] = candidates[0]\n",
        "\n",
        "# creating children population\n",
        "# children_population = np.empty((pop_size, chrom_len), dtype='int32')\n",
        "# for i in range(pop_size//2):\n",
        "#     children_population[2*i], children_population[2*i+1] = crossover_operator(pop[parent_indices[2*i]].copy(), pop[parent_indices[2*i+1]].copy())\n",
        "def f(i):\n",
        "    return crossover_operator(pop[parent_indices[2*i]].copy(), pop[parent_indices[2*i+1]].copy())\n"
      ],
      "execution_count": null,
      "outputs": [
        {
          "output_type": "error",
          "ename": "NameError",
          "evalue": "ignored",
          "traceback": [
            "\u001b[0;31m---------------------------------------------------------------------------\u001b[0m",
            "\u001b[0;31mNameError\u001b[0m                                 Traceback (most recent call last)",
            "\u001b[0;32m<ipython-input-39-362fd1345da1>\u001b[0m in \u001b[0;36m<module>\u001b[0;34m()\u001b[0m\n\u001b[1;32m      2\u001b[0m \u001b[0mcrossover_operator\u001b[0m \u001b[0;34m=\u001b[0m \u001b[0mPMX\u001b[0m\u001b[0;34m\u001b[0m\u001b[0;34m\u001b[0m\u001b[0m\n\u001b[1;32m      3\u001b[0m \u001b[0;34m\u001b[0m\u001b[0m\n\u001b[0;32m----> 4\u001b[0;31m \u001b[0mpop\u001b[0m \u001b[0;34m=\u001b[0m \u001b[0mgenerate_population\u001b[0m\u001b[0;34m(\u001b[0m\u001b[0mpop_size\u001b[0m\u001b[0;34m,\u001b[0m \u001b[0mchrom_len\u001b[0m\u001b[0;34m)\u001b[0m\u001b[0;34m\u001b[0m\u001b[0;34m\u001b[0m\u001b[0m\n\u001b[0m\u001b[1;32m      5\u001b[0m \u001b[0;34m\u001b[0m\u001b[0m\n\u001b[1;32m      6\u001b[0m \u001b[0mparent_indices\u001b[0m \u001b[0;34m=\u001b[0m \u001b[0mnp\u001b[0m\u001b[0;34m.\u001b[0m\u001b[0mempty\u001b[0m\u001b[0;34m(\u001b[0m\u001b[0mpop_size\u001b[0m\u001b[0;34m,\u001b[0m \u001b[0mdtype\u001b[0m\u001b[0;34m=\u001b[0m\u001b[0mnp\u001b[0m\u001b[0;34m.\u001b[0m\u001b[0mint64\u001b[0m\u001b[0;34m)\u001b[0m\u001b[0;34m\u001b[0m\u001b[0;34m\u001b[0m\u001b[0m\n",
            "\u001b[0;31mNameError\u001b[0m: name 'generate_population' is not defined"
          ]
        }
      ]
    },
    {
      "cell_type": "code",
      "metadata": {
        "id": "-yUI_CCDHPbi"
      },
      "source": [
        "%timeit res = [f(i) for i in range(pop_size//2)]"
      ],
      "execution_count": null,
      "outputs": []
    },
    {
      "cell_type": "code",
      "metadata": {
        "id": "pQP7V27UDs4E",
        "colab": {
          "base_uri": "https://localhost:8080/"
        },
        "outputId": "c25782a9-addb-4311-8cbc-b2d42015d8fa"
      },
      "source": [
        "p = mp.Pool(4)\n",
        "%timeit res = p.map(f, range(pop_size//2))"
      ],
      "execution_count": null,
      "outputs": [
        {
          "output_type": "stream",
          "text": [
            "1 loop, best of 3: 2.55 s per loop\n"
          ],
          "name": "stdout"
        }
      ]
    },
    {
      "cell_type": "markdown",
      "metadata": {
        "id": "jnXLVgm7dxeG"
      },
      "source": [
        "# Testy"
      ]
    },
    {
      "cell_type": "markdown",
      "metadata": {
        "id": "CPefkqj-WSxB"
      },
      "source": [
        "## euclidAB100"
      ]
    },
    {
      "cell_type": "code",
      "metadata": {
        "id": "PVe2G1JUzE2a"
      },
      "source": [
        "problemA = tsplib95.load(\"euclidA100.tsp\")\n",
        "problemB = tsplib95.load(\"euclidB100.tsp\")\n",
        "\n",
        "solutionsAB = np.loadtxt('best.euclidAB100.tsp', dtype=int)"
      ],
      "execution_count": null,
      "outputs": []
    },
    {
      "cell_type": "code",
      "metadata": {
        "colab": {
          "base_uri": "https://localhost:8080/",
          "height": 656,
          "referenced_widgets": [
            "8d87f4ff039b4369a02cbed0909d5b64",
            "6fd650252d6d4902bf00d09477275276",
            "5cffa246f5c743dd91f130c117b8c934",
            "a2e57cf204c9476c95eff8edec2a1bfa",
            "fa5268a046fd4bb49ab57b51085bfc9f",
            "9cc1c1ef70c44208aba9f887e0288191",
            "fb16e462ea4d4c0e929e2670b6c64542",
            "115d90f0811f4451beb5602e1e8bbc8b"
          ]
        },
        "id": "gDI4rOR8VF5z",
        "outputId": "370dbf65-9109-4f93-8126-0b5f1e1d1b1b"
      },
      "source": [
        "chrom_len = 100\n",
        "pop_size = 4096\n",
        "obj_num = 2\n",
        "n_iters = 500\n",
        "\n",
        "griddim = (1, 1, pop_size)\n",
        "blockdim = (128, 2, 1)\n",
        "\n",
        "init_pop = np.empty((pop_size, chrom_len), dtype='int32')\n",
        "\n",
        "for i in range(pop_size):\n",
        "    ind = np.random.permutation(chrom_len)\n",
        "    init_pop[i] = ind\n",
        "    \n",
        "init_vals = np.zeros((pop_size, obj_num), dtype='int32')\n",
        "\n",
        "\n",
        "evaluate_population[griddim, blockdim](init_pop, d_distance, init_vals)\n",
        "\n",
        "nsga_ii = NSGA_II_GPU(chrom_len, pop_size, obj_num, init_pop, init_vals)\n",
        "\n",
        "plt.figure(figsize=(12,12))\n",
        "plt.scatter(solutionsAB[:, 0], solutionsAB[:, 1])\n",
        "\n",
        "for t in tqdm(range(n_iters)):\n",
        "\n",
        "    if(np.mod(t, 50) == 0):\n",
        "        current_vals = nsga_ii.get_values()\n",
        "        plt.scatter(current_vals[:, 0], current_vals[:, 1])\n",
        "\n",
        "    children = nsga_ii.generate_children(PMX, reverse_sequence_mutation)\n",
        "    children = children.astype('int32')\n",
        "\n",
        "    children_vals = np.zeros((children.shape[0], obj_num), dtype='int32')\n",
        "    evaluate_population[griddim, blockdim](children, d_distance, children_vals)\n",
        "\n",
        "    nsga_ii.replace_population(children, children_vals)\n",
        "\n",
        "current_vals = nsga_ii.get_values()\n",
        "plt.scatter(current_vals[:, 0], current_vals[:, 1])"
      ],
      "execution_count": null,
      "outputs": [
        {
          "output_type": "display_data",
          "data": {
            "application/vnd.jupyter.widget-view+json": {
              "model_id": "8d87f4ff039b4369a02cbed0909d5b64",
              "version_minor": 0,
              "version_major": 2
            },
            "text/plain": [
              "HBox(children=(FloatProgress(value=0.0, max=500.0), HTML(value='')))"
            ]
          },
          "metadata": {
            "tags": []
          }
        },
        {
          "output_type": "stream",
          "text": [
            "\n"
          ],
          "name": "stdout"
        },
        {
          "output_type": "display_data",
          "data": {
            "image/png": "[encoded data removed]",
            "text/plain": [
              "<Figure size 864x864 with 1 Axes>"
            ]
          },
          "metadata": {
            "tags": [],
            "needs_background": "light"
          }
        }
      ]
    },
    {
      "cell_type": "markdown",
      "metadata": {
        "id": "I_4k_afCdzg4"
      },
      "source": [
        "## kroAB100"
      ]
    },
    {
      "cell_type": "code",
      "metadata": {
        "id": "f9haftyHV7z8"
      },
      "source": [
        "kroA100 = tsplib95.load('/content/gdrive/My Drive/TSPLIB/kroA100.tsp')\n",
        "kroB100 = tsplib95.load('/content/gdrive/My Drive/TSPLIB/kroB100.tsp')"
      ],
      "execution_count": null,
      "outputs": []
    },
    {
      "cell_type": "code",
      "metadata": {
        "id": "mIbMkMRLolbY"
      },
      "source": [
        "distance_matrix = generate_distance_matrix(100, kroA100, kroB100)"
      ],
      "execution_count": null,
      "outputs": []
    },
    {
      "cell_type": "code",
      "metadata": {
        "id": "penZjShFotf3"
      },
      "source": [
        "d_distance = cuda.to_device(distance_matrix)"
      ],
      "execution_count": null,
      "outputs": []
    },
    {
      "cell_type": "code",
      "metadata": {
        "colab": {
          "base_uri": "https://localhost:8080/"
        },
        "id": "JwAX7G7mlbrK",
        "outputId": "374a11c8-5f7a-48bf-eb05-bc33049c9ceb"
      },
      "source": [
        "solutionsAB = np.loadtxt('points.3.1', dtype='int32', usecols=np.arange(6, 106))\n",
        "solutionsAB.shape"
      ],
      "execution_count": null,
      "outputs": [
        {
          "output_type": "execute_result",
          "data": {
            "text/plain": [
              "(2699, 100)"
            ]
          },
          "metadata": {
            "tags": []
          },
          "execution_count": 51
        }
      ]
    },
    {
      "cell_type": "code",
      "metadata": {
        "id": "6m9joOWwnZJw"
      },
      "source": [
        "sol_vals = np.zeros((100, 2))\n",
        "\n",
        "griddim = (1, 1, 2699)\n",
        "blockdim = (128, 2, 1)\n",
        "\n",
        "evaluate_population[griddim, blockdim](solutionsAB, d_distance, sol_vals)"
      ],
      "execution_count": null,
      "outputs": []
    },
    {
      "cell_type": "code",
      "metadata": {
        "colab": {
          "base_uri": "https://localhost:8080/"
        },
        "id": "aCkht9bcnzaw",
        "outputId": "3b4e8190-d757-491b-ee68-c9f7999dcb4e"
      },
      "source": [
        "sol_vals[:5]"
      ],
      "execution_count": null,
      "outputs": [
        {
          "output_type": "execute_result",
          "data": {
            "text/plain": [
              "array([[47457., 53280.],\n",
              "       [49474., 51289.],\n",
              "       [48996., 51772.],\n",
              "       [65941., 38733.],\n",
              "       [59132., 43080.]])"
            ]
          },
          "metadata": {
            "tags": []
          },
          "execution_count": 59
        }
      ]
    },
    {
      "cell_type": "code",
      "metadata": {
        "colab": {
          "base_uri": "https://localhost:8080/",
          "height": 665,
          "referenced_widgets": [
            "9da49c61a86b4a17b616bca017406d30",
            "53982c28bdfc425db4868d1feb02fb8e",
            "cbcbf0fb29a4412d99331a2d2b297b32",
            "66b5fda0811540e2811e2fb82b40287b",
            "724767aaf50f43eeb9e1688d3ab216d6",
            "7e64ed03ec02434ea820c6bc4dc582bc",
            "c5fe1cbc6602400b90f84ced9ee641c3",
            "783595dbc0fa4699b89ea4e92b2ae842"
          ]
        },
        "id": "ROU75W_pie67",
        "outputId": "fbbc255e-1ba5-466d-b360-36b69c84152d"
      },
      "source": [
        "chrom_len = 100\n",
        "pop_size = 512\n",
        "obj_num = 2\n",
        "n_iters = 300\n",
        "\n",
        "griddim = (1, 1, pop_size)\n",
        "blockdim = (128, 2, 1)\n",
        "\n",
        "init_pop = np.empty((pop_size, chrom_len), dtype='int32')\n",
        "\n",
        "for i in range(pop_size):\n",
        "    ind = np.random.permutation(chrom_len)\n",
        "    init_pop[i] = ind\n",
        "    \n",
        "init_vals = np.zeros((pop_size, obj_num), dtype='int32')\n",
        "\n",
        "\n",
        "evaluate_population[griddim, blockdim](init_pop, d_distance, init_vals)\n",
        "\n",
        "nsga_ii = NSGA_II_GPU(chrom_len, pop_size, obj_num, init_pop, init_vals)\n",
        "\n",
        "plt.figure(figsize=(12,12))\n",
        "plt.scatter(sol_vals[:, 0], sol_vals[:, 1])\n",
        "\n",
        "for t in tqdm(range(n_iters)):\n",
        "\n",
        "    if(np.mod(t, 50) == 0):\n",
        "        current_vals = nsga_ii.get_values()\n",
        "        plt.scatter(current_vals[:, 0], current_vals[:, 1])\n",
        "\n",
        "    children = nsga_ii.generate_children(PMX, reverse_sequence_mutation)\n",
        "    children = children.astype('int32')\n",
        "\n",
        "    children_vals = np.zeros((children.shape[0], obj_num), dtype='int32')\n",
        "    evaluate_population[griddim, blockdim](children, d_distance, children_vals)\n",
        "\n",
        "    nsga_ii.replace_population(children, children_vals)\n",
        "\n",
        "current_vals = nsga_ii.get_values()\n",
        "plt.scatter(current_vals[:, 0], current_vals[:, 1])"
      ],
      "execution_count": null,
      "outputs": [
        {
          "output_type": "display_data",
          "data": {
            "application/vnd.jupyter.widget-view+json": {
              "model_id": "9da49c61a86b4a17b616bca017406d30",
              "version_minor": 0,
              "version_major": 2
            },
            "text/plain": [
              "HBox(children=(FloatProgress(value=0.0, max=300.0), HTML(value='')))"
            ]
          },
          "metadata": {
            "tags": []
          }
        },
        {
          "output_type": "stream",
          "text": [
            "\n"
          ],
          "name": "stdout"
        },
        {
          "output_type": "execute_result",
          "data": {
            "text/plain": [
              "<matplotlib.collections.PathCollection at 0x7f9d60f29da0>"
            ]
          },
          "metadata": {
            "tags": []
          },
          "execution_count": 65
        },
        {
          "output_type": "display_data",
          "data": {
            "image/png": "[encoded data removed]",
            "text/plain": [
              "<Figure size 864x864 with 1 Axes>"
            ]
          },
          "metadata": {
            "tags": [],
            "needs_background": "light"
          }
        }
      ]
    },
    {
      "cell_type": "markdown",
      "metadata": {
        "id": "JrrBbMugglZe"
      },
      "source": [
        "# CUDA"
      ]
    },
    {
      "cell_type": "markdown",
      "metadata": {
        "id": "Dcq5baU_6NDJ"
      },
      "source": [
        "## Algorytm w praktyce - CPU"
      ]
    },
    {
      "cell_type": "code",
      "metadata": {
        "id": "yve9t8GT9hM7"
      },
      "source": [
        "euclidA100 = tsplib95.load(\"euclidA100.tsp\")\n",
        "euclidB100 = tsplib95.load(\"euclidB100.tsp\")\n",
        "\n",
        "solutionsAB = np.loadtxt('best.euclidAB100.tsp', dtype=int)\n",
        "\n",
        "distance_matrix = generate_distance_matrix(100, euclidA100, euclidB100)\n",
        "d_distance = cuda.to_device(distance_matrix)"
      ],
      "execution_count": null,
      "outputs": []
    },
    {
      "cell_type": "code",
      "metadata": {
        "id": "eAPO9fnHlRL0"
      },
      "source": [
        "def PMX_old(ind1, ind2):\n",
        "\n",
        "    res1, res2 = ind1.copy(), ind2.copy()\n",
        "    def getIdx(val, arr):\n",
        "        result = np.where(arr == val)\n",
        "        return result[0][0]\n",
        "\n",
        "    a = np.random.choice(len(ind1), 2, False)\n",
        "    i, j = a.min(), a.max()+1\n",
        "    swath1 = ind1[i:j]\n",
        "    swath2 = ind2[i:j]\n",
        "\n",
        "    map = {}\n",
        "    for chrom in swath1:\n",
        "        if chrom in swath2:\n",
        "            continue\n",
        "        else:\n",
        "            paired = chrom\n",
        "            while(paired in swath1):\n",
        "                paired = swath2[getIdx(paired, swath1)]\n",
        "            map[paired] = chrom\n",
        "            map[chrom] = paired\n",
        "    oldInd1, oldInd2 = ind1, ind2\n",
        "\n",
        "    for idx in range(len(ind1)):\n",
        "        chrom = ind1[idx]\n",
        "        if (chrom in swath2) and (chrom in map):\n",
        "            res1[idx] = map[chrom]\n",
        "    res1[i:j] = swath2\n",
        "\n",
        "    for idx in range(len(ind1)):\n",
        "        chrom = ind2[idx]\n",
        "        if (chrom in swath1) and (chrom in map):\n",
        "            res2[idx] = map[chrom]\n",
        "    res2[i:j] = swath1\n",
        "\n",
        "    return res1, res2"
      ],
      "execution_count": null,
      "outputs": []
    },
    {
      "cell_type": "code",
      "metadata": {
        "colab": {
          "base_uri": "https://localhost:8080/",
          "height": 1000,
          "referenced_widgets": [
            "bb20c0ea50d64922a1675de3616e8aaf",
            "9517d582f697477aa9df447e8841dd2d",
            "956a3047c3e943f09f7e33ef134ad250",
            "e2bcbc97a0b141b194b3ee2de3bc167e",
            "cd6e9705741844d3b09c53e50159e7cc",
            "72b2852b37294f899c69ed7c39c87f95",
            "fad63c9ad4564522bc252970d12e07c0",
            "0fa84cf8a015475b9b601660611f9c6c"
          ]
        },
        "id": "Gx-DNDko8x09",
        "outputId": "0e266786-ad14-455b-ec51-76bb0ab2a2ba"
      },
      "source": [
        "chrom_len = 100\n",
        "pop_size = 512\n",
        "obj_num = 2\n",
        "n_iters = 300\n",
        "\n",
        "init_pop = np.empty((pop_size, chrom_len), dtype='int32')\n",
        "\n",
        "for i in range(pop_size):\n",
        "    ind = np.random.permutation(chrom_len)\n",
        "    init_pop[i] = ind\n",
        "    \n",
        "init_vals = np.zeros((pop_size, obj_num), dtype='int32')\n",
        "\n",
        "\n",
        "init_vals = evaluate_population_cpu(init_pop, distance_matrix, obj_num)\n",
        "\n",
        "nsga_ii = NSGA_II(chrom_len, pop_size, obj_num, init_pop, init_vals)\n",
        "\n",
        "plt.figure(figsize=(12,12))\n",
        "plt.scatter(solutionsAB[:, 0], solutionsAB[:, 1])\n",
        "\n",
        "for t in tqdm(range(n_iters)):\n",
        "\n",
        "    if(np.mod(t, 50) == 0):\n",
        "        current_vals = nsga_ii.get_values()\n",
        "        plt.scatter(current_vals[:, 0], current_vals[:, 1])\n",
        "\n",
        "    children = nsga_ii.generate_children(PMX_old, reverse_sequence_mutation)\n",
        "\n",
        "    children_vals = evaluate_population_cpu(children, distance_matrix, obj_num)\n",
        "\n",
        "    nsga_ii.replace_population(children, children_vals)\n",
        "\n",
        "current_vals = nsga_ii.get_values()\n",
        "plt.scatter(current_vals[:, 0], current_vals[:, 1])"
      ],
      "execution_count": null,
      "outputs": [
        {
          "output_type": "display_data",
          "data": {
            "application/vnd.jupyter.widget-view+json": {
              "model_id": "bb20c0ea50d64922a1675de3616e8aaf",
              "version_minor": 0,
              "version_major": 2
            },
            "text/plain": [
              "HBox(children=(FloatProgress(value=0.0, max=300.0), HTML(value='')))"
            ]
          },
          "metadata": {
            "tags": []
          }
        },
        {
          "output_type": "error",
          "ename": "KeyboardInterrupt",
          "evalue": "ignored",
          "traceback": [
            "\u001b[0;31m---------------------------------------------------------------------------\u001b[0m",
            "\u001b[0;31mKeyboardInterrupt\u001b[0m                         Traceback (most recent call last)",
            "\u001b[0;32m<ipython-input-197-28fdc7cc5bb9>\u001b[0m in \u001b[0;36m<module>\u001b[0;34m()\u001b[0m\n\u001b[1;32m     30\u001b[0m     \u001b[0mchildren_vals\u001b[0m \u001b[0;34m=\u001b[0m \u001b[0mevaluate_population_cpu\u001b[0m\u001b[0;34m(\u001b[0m\u001b[0mchildren\u001b[0m\u001b[0;34m,\u001b[0m \u001b[0mdistance_matrix\u001b[0m\u001b[0;34m,\u001b[0m \u001b[0mobj_num\u001b[0m\u001b[0;34m)\u001b[0m\u001b[0;34m\u001b[0m\u001b[0;34m\u001b[0m\u001b[0m\n\u001b[1;32m     31\u001b[0m \u001b[0;34m\u001b[0m\u001b[0m\n\u001b[0;32m---> 32\u001b[0;31m     \u001b[0mnsga_ii\u001b[0m\u001b[0;34m.\u001b[0m\u001b[0mreplace_population\u001b[0m\u001b[0;34m(\u001b[0m\u001b[0mchildren\u001b[0m\u001b[0;34m,\u001b[0m \u001b[0mchildren_vals\u001b[0m\u001b[0;34m)\u001b[0m\u001b[0;34m\u001b[0m\u001b[0;34m\u001b[0m\u001b[0m\n\u001b[0m\u001b[1;32m     33\u001b[0m \u001b[0;34m\u001b[0m\u001b[0m\n\u001b[1;32m     34\u001b[0m \u001b[0mcurrent_vals\u001b[0m \u001b[0;34m=\u001b[0m \u001b[0mnsga_ii\u001b[0m\u001b[0;34m.\u001b[0m\u001b[0mget_values\u001b[0m\u001b[0;34m(\u001b[0m\u001b[0;34m)\u001b[0m\u001b[0;34m\u001b[0m\u001b[0;34m\u001b[0m\u001b[0m\n",
            "\u001b[0;32m<ipython-input-132-fb23ff6ea02f>\u001b[0m in \u001b[0;36mreplace_population\u001b[0;34m(self, children_population, children_objective_values)\u001b[0m\n\u001b[1;32m    131\u001b[0m             \u001b[0mcombined_objective_values\u001b[0m \u001b[0;34m=\u001b[0m \u001b[0mnp\u001b[0m\u001b[0;34m.\u001b[0m\u001b[0mvstack\u001b[0m\u001b[0;34m(\u001b[0m\u001b[0;34m(\u001b[0m\u001b[0mself\u001b[0m\u001b[0;34m.\u001b[0m\u001b[0mcurrent_objective_values\u001b[0m\u001b[0;34m,\u001b[0m \u001b[0mchildren_objective_values\u001b[0m\u001b[0;34m)\u001b[0m\u001b[0;34m)\u001b[0m\u001b[0;34m\u001b[0m\u001b[0;34m\u001b[0m\u001b[0m\n\u001b[1;32m    132\u001b[0m \u001b[0;34m\u001b[0m\u001b[0m\n\u001b[0;32m--> 133\u001b[0;31m         \u001b[0mcombined_pareto_frontier\u001b[0m \u001b[0;34m=\u001b[0m \u001b[0mself\u001b[0m\u001b[0;34m.\u001b[0m\u001b[0mnon_dominated_sort\u001b[0m\u001b[0;34m(\u001b[0m\u001b[0mcombined_objective_values\u001b[0m\u001b[0;34m)\u001b[0m\u001b[0;34m\u001b[0m\u001b[0;34m\u001b[0m\u001b[0m\n\u001b[0m\u001b[1;32m    134\u001b[0m \u001b[0;34m\u001b[0m\u001b[0m\n\u001b[1;32m    135\u001b[0m         \u001b[0mpositions\u001b[0m \u001b[0;34m=\u001b[0m \u001b[0mnp\u001b[0m\u001b[0;34m.\u001b[0m\u001b[0margsort\u001b[0m\u001b[0;34m(\u001b[0m\u001b[0mcombined_pareto_frontier\u001b[0m\u001b[0;34m)\u001b[0m\u001b[0;34m\u001b[0m\u001b[0;34m\u001b[0m\u001b[0m\n",
            "\u001b[0;32m<ipython-input-132-fb23ff6ea02f>\u001b[0m in \u001b[0;36mnon_dominated_sort\u001b[0;34m(self, objective_values)\u001b[0m\n\u001b[1;32m     45\u001b[0m             \u001b[0mdominated\u001b[0m\u001b[0;34m[\u001b[0m\u001b[0mp\u001b[0m\u001b[0;34m]\u001b[0m \u001b[0;34m=\u001b[0m \u001b[0;34m[\u001b[0m\u001b[0;34m]\u001b[0m\u001b[0;34m\u001b[0m\u001b[0;34m\u001b[0m\u001b[0m\n\u001b[1;32m     46\u001b[0m             \u001b[0;32mfor\u001b[0m \u001b[0mq\u001b[0m \u001b[0;32min\u001b[0m \u001b[0mrange\u001b[0m\u001b[0;34m(\u001b[0m\u001b[0msize\u001b[0m\u001b[0;34m)\u001b[0m\u001b[0;34m:\u001b[0m\u001b[0;34m\u001b[0m\u001b[0;34m\u001b[0m\u001b[0m\n\u001b[0;32m---> 47\u001b[0;31m                 \u001b[0;32mif\u001b[0m \u001b[0mdominates\u001b[0m\u001b[0;34m(\u001b[0m\u001b[0mobjective_values\u001b[0m\u001b[0;34m[\u001b[0m\u001b[0mp\u001b[0m\u001b[0;34m]\u001b[0m\u001b[0;34m,\u001b[0m \u001b[0mobjective_values\u001b[0m\u001b[0;34m[\u001b[0m\u001b[0mq\u001b[0m\u001b[0;34m]\u001b[0m\u001b[0;34m)\u001b[0m\u001b[0;34m:\u001b[0m\u001b[0;34m\u001b[0m\u001b[0;34m\u001b[0m\u001b[0m\n\u001b[0m\u001b[1;32m     48\u001b[0m                     \u001b[0mdominated\u001b[0m\u001b[0;34m[\u001b[0m\u001b[0mp\u001b[0m\u001b[0;34m]\u001b[0m\u001b[0;34m.\u001b[0m\u001b[0mappend\u001b[0m\u001b[0;34m(\u001b[0m\u001b[0mq\u001b[0m\u001b[0;34m)\u001b[0m\u001b[0;34m\u001b[0m\u001b[0;34m\u001b[0m\u001b[0m\n\u001b[1;32m     49\u001b[0m                 \u001b[0;32melif\u001b[0m \u001b[0mdominates\u001b[0m\u001b[0;34m(\u001b[0m\u001b[0mobjective_values\u001b[0m\u001b[0;34m[\u001b[0m\u001b[0mq\u001b[0m\u001b[0;34m]\u001b[0m\u001b[0;34m,\u001b[0m \u001b[0mobjective_values\u001b[0m\u001b[0;34m[\u001b[0m\u001b[0mp\u001b[0m\u001b[0;34m]\u001b[0m\u001b[0;34m)\u001b[0m\u001b[0;34m:\u001b[0m\u001b[0;34m\u001b[0m\u001b[0;34m\u001b[0m\u001b[0m\n",
            "\u001b[0;32m<ipython-input-132-fb23ff6ea02f>\u001b[0m in \u001b[0;36mdominates\u001b[0;34m(vals1, vals2)\u001b[0m\n\u001b[1;32m     31\u001b[0m \u001b[0;34m\u001b[0m\u001b[0m\n\u001b[1;32m     32\u001b[0m         \u001b[0;32mdef\u001b[0m \u001b[0mdominates\u001b[0m\u001b[0;34m(\u001b[0m\u001b[0mvals1\u001b[0m\u001b[0;34m,\u001b[0m \u001b[0mvals2\u001b[0m\u001b[0;34m)\u001b[0m\u001b[0;34m:\u001b[0m\u001b[0;34m\u001b[0m\u001b[0;34m\u001b[0m\u001b[0m\n\u001b[0;32m---> 33\u001b[0;31m             \u001b[0;32mreturn\u001b[0m \u001b[0mnp\u001b[0m\u001b[0;34m.\u001b[0m\u001b[0mall\u001b[0m\u001b[0;34m(\u001b[0m\u001b[0mvals1\u001b[0m \u001b[0;34m<=\u001b[0m \u001b[0mvals2\u001b[0m\u001b[0;34m)\u001b[0m \u001b[0;32mand\u001b[0m \u001b[0mnp\u001b[0m\u001b[0;34m.\u001b[0m\u001b[0many\u001b[0m\u001b[0;34m(\u001b[0m\u001b[0mvals1\u001b[0m \u001b[0;34m<\u001b[0m \u001b[0mvals2\u001b[0m\u001b[0;34m)\u001b[0m\u001b[0;34m\u001b[0m\u001b[0;34m\u001b[0m\u001b[0m\n\u001b[0m\u001b[1;32m     34\u001b[0m \u001b[0;34m\u001b[0m\u001b[0m\n\u001b[1;32m     35\u001b[0m         \u001b[0msize\u001b[0m \u001b[0;34m=\u001b[0m \u001b[0mobjective_values\u001b[0m\u001b[0;34m.\u001b[0m\u001b[0mshape\u001b[0m\u001b[0;34m[\u001b[0m\u001b[0;36m0\u001b[0m\u001b[0;34m]\u001b[0m\u001b[0;34m\u001b[0m\u001b[0;34m\u001b[0m\u001b[0m\n",
            "\u001b[0;32m<__array_function__ internals>\u001b[0m in \u001b[0;36mall\u001b[0;34m(*args, **kwargs)\u001b[0m\n",
            "\u001b[0;32m/usr/local/lib/python3.6/dist-packages/numpy/core/fromnumeric.py\u001b[0m in \u001b[0;36mall\u001b[0;34m(a, axis, out, keepdims)\u001b[0m\n\u001b[1;32m   2409\u001b[0m \u001b[0;34m\u001b[0m\u001b[0m\n\u001b[1;32m   2410\u001b[0m     \"\"\"\n\u001b[0;32m-> 2411\u001b[0;31m     \u001b[0;32mreturn\u001b[0m \u001b[0m_wrapreduction\u001b[0m\u001b[0;34m(\u001b[0m\u001b[0ma\u001b[0m\u001b[0;34m,\u001b[0m \u001b[0mnp\u001b[0m\u001b[0;34m.\u001b[0m\u001b[0mlogical_and\u001b[0m\u001b[0;34m,\u001b[0m \u001b[0;34m'all'\u001b[0m\u001b[0;34m,\u001b[0m \u001b[0maxis\u001b[0m\u001b[0;34m,\u001b[0m \u001b[0;32mNone\u001b[0m\u001b[0;34m,\u001b[0m \u001b[0mout\u001b[0m\u001b[0;34m,\u001b[0m \u001b[0mkeepdims\u001b[0m\u001b[0;34m=\u001b[0m\u001b[0mkeepdims\u001b[0m\u001b[0;34m)\u001b[0m\u001b[0;34m\u001b[0m\u001b[0;34m\u001b[0m\u001b[0m\n\u001b[0m\u001b[1;32m   2412\u001b[0m \u001b[0;34m\u001b[0m\u001b[0m\n\u001b[1;32m   2413\u001b[0m \u001b[0;34m\u001b[0m\u001b[0m\n",
            "\u001b[0;32m/usr/local/lib/python3.6/dist-packages/numpy/core/fromnumeric.py\u001b[0m in \u001b[0;36m_wrapreduction\u001b[0;34m(obj, ufunc, method, axis, dtype, out, **kwargs)\u001b[0m\n\u001b[1;32m     85\u001b[0m                 \u001b[0;32mreturn\u001b[0m \u001b[0mreduction\u001b[0m\u001b[0;34m(\u001b[0m\u001b[0maxis\u001b[0m\u001b[0;34m=\u001b[0m\u001b[0maxis\u001b[0m\u001b[0;34m,\u001b[0m \u001b[0mout\u001b[0m\u001b[0;34m=\u001b[0m\u001b[0mout\u001b[0m\u001b[0;34m,\u001b[0m \u001b[0;34m**\u001b[0m\u001b[0mpasskwargs\u001b[0m\u001b[0;34m)\u001b[0m\u001b[0;34m\u001b[0m\u001b[0;34m\u001b[0m\u001b[0m\n\u001b[1;32m     86\u001b[0m \u001b[0;34m\u001b[0m\u001b[0m\n\u001b[0;32m---> 87\u001b[0;31m     \u001b[0;32mreturn\u001b[0m \u001b[0mufunc\u001b[0m\u001b[0;34m.\u001b[0m\u001b[0mreduce\u001b[0m\u001b[0;34m(\u001b[0m\u001b[0mobj\u001b[0m\u001b[0;34m,\u001b[0m \u001b[0maxis\u001b[0m\u001b[0;34m,\u001b[0m \u001b[0mdtype\u001b[0m\u001b[0;34m,\u001b[0m \u001b[0mout\u001b[0m\u001b[0;34m,\u001b[0m \u001b[0;34m**\u001b[0m\u001b[0mpasskwargs\u001b[0m\u001b[0;34m)\u001b[0m\u001b[0;34m\u001b[0m\u001b[0;34m\u001b[0m\u001b[0m\n\u001b[0m\u001b[1;32m     88\u001b[0m \u001b[0;34m\u001b[0m\u001b[0m\n\u001b[1;32m     89\u001b[0m \u001b[0;34m\u001b[0m\u001b[0m\n",
            "\u001b[0;31mKeyboardInterrupt\u001b[0m: "
          ]
        },
        {
          "output_type": "display_data",
          "data": {
            "image/png": "[encoded data removed]",
            "text/plain": [
              "<Figure size 864x864 with 1 Axes>"
            ]
          },
          "metadata": {
            "tags": [],
            "needs_background": "light"
          }
        }
      ]
    },
    {
      "cell_type": "markdown",
      "metadata": {
        "id": "enLTGg6HsVrK"
      },
      "source": [
        "## CPU - czas działania"
      ]
    },
    {
      "cell_type": "code",
      "metadata": {
        "id": "LIWeQMYDsYeQ"
      },
      "source": [
        "class NSGA_II_prints:\n",
        "    def __init__(self, chromosome_length, population_size, objectives_number,\n",
        "                 initial_population, initial_objective_values):\n",
        "        self.chromosome_length = chromosome_length\n",
        "        self.population_size = population_size\n",
        "        self.objectives_number = objectives_number\n",
        "        if type(initial_population) is not np.ndarray:\n",
        "            raise ValueError(\"initial population must be a numpy array\")\n",
        "        if initial_population.shape != (self.population_size, self.chromosome_length):\n",
        "            raise ValueError(\"initial population must be of shape (population_size, chromosome_length)\")\n",
        "        self.current_population = initial_population\n",
        "        if type(initial_objective_values) is not np.ndarray:\n",
        "            raise ValueError(\"initial objective values must be a numpy array\")\n",
        "        if initial_objective_values.shape != (self.population_size, self.objectives_number):\n",
        "            raise ValueError(\"initial population values must be of shape (population_size, objectives_number)\")\n",
        "        self.current_objective_values = initial_objective_values\n",
        "        self.current_pareto_frontier = np.empty(self.population_size)\n",
        "        self.current_crowding_distances = np.empty(self.population_size)\n",
        "        self.replace_population(None, None)\n",
        "\n",
        "\n",
        "    def get_population(self):\n",
        "        return self.current_population\n",
        "\n",
        "\n",
        "    def get_values(self):\n",
        "        return self.current_objective_values\n",
        "\n",
        "\n",
        "    def non_dominated_sort(self, objective_values):\n",
        "\n",
        "        def dominates(vals1, vals2):\n",
        "            return np.all(vals1 <= vals2) and np.any(vals1 < vals2)\n",
        "\n",
        "        size = objective_values.shape[0]\n",
        "        pareto_frontier = np.empty(size, dtype=int)\n",
        "        current_frontier_number = 1\n",
        "        current_frontier_members = []\n",
        "        # number of solutions dominating p\n",
        "        dominating_count = np.zeros(size, dtype=int)\n",
        "        # set of solutions dominated by p\n",
        "        dominated = [None] * size \n",
        "\n",
        "        for p in range(size):\n",
        "            dominated[p] = []\n",
        "            for q in range(size):\n",
        "                if dominates(objective_values[p], objective_values[q]):\n",
        "                    dominated[p].append(q)\n",
        "                elif dominates(objective_values[q], objective_values[p]):\n",
        "                    dominating_count[p] += 1\n",
        "            if dominating_count[p] == 0:\n",
        "                pareto_frontier[p] = current_frontier_number\n",
        "                current_frontier_members.append(p)\n",
        "\n",
        "        while current_frontier_members != []:\n",
        "            current_frontier_number += 1\n",
        "            new_frontier_members = []\n",
        "            for p in current_frontier_members:\n",
        "                for q in dominated[p]:\n",
        "                    dominating_count[q] -= 1\n",
        "                    if dominating_count[q] == 0:\n",
        "                        pareto_frontier[q] = current_frontier_number\n",
        "                        new_frontier_members.append(q)\n",
        "            current_frontier_members = new_frontier_members\n",
        "        \n",
        "        return pareto_frontier\n",
        "\n",
        "\n",
        "    def assign_crowding_distance(self, objective_values):\n",
        "        size = objective_values.shape[0]\n",
        "        distance = np.zeros(size)\n",
        "        for current_objective in range(self.objectives_number):\n",
        "            current_objective_values = objective_values[:, current_objective]\n",
        "            sorted_indices = np.argsort(current_objective_values)\n",
        "            current_objective_values_diff = current_objective_values[sorted_indices[-1]] - current_objective_values[sorted_indices[0]]\n",
        "            if current_objective_values_diff == 0:\n",
        "                continue\n",
        "            distance[sorted_indices[0]], distance[sorted_indices[-1]] = np.inf, np.inf\n",
        "            for i in range(1, size-1):\n",
        "                distance[sorted_indices[i]] += ((current_objective_values[sorted_indices[i+1]] - current_objective_values[sorted_indices[i-1]]) /\n",
        "                                                current_objective_values_diff)\n",
        "        return distance\n",
        "\n",
        "\n",
        "    def generate_children(self, crossover_operator, mutation_operator,\n",
        "                          crossover_probability = 0.95, mutation_probability = 0.25,\n",
        "                          number_of_offspring = None):\n",
        "\n",
        "        def compare(p, q):\n",
        "            if self.current_pareto_frontier[p] == self.current_pareto_frontier[q]:\n",
        "                return self.current_crowding_distances[p] > self.current_crowding_distances[q]\n",
        "            return self.current_pareto_frontier[p] > self.current_pareto_frontier[q]\n",
        "\n",
        "\n",
        "        time1 = time.time()\n",
        "\n",
        "        if number_of_offspring is None:\n",
        "            number_of_offspring = self.population_size\n",
        "\n",
        "        # selecting parent indices by the binary tournament method\n",
        "        parent_indices = np.empty(number_of_offspring, dtype=np.int64)\n",
        "        for i in range(number_of_offspring):\n",
        "            candidates = np.random.choice(self.population_size, 2, False)\n",
        "            if compare(candidates[0], candidates[1]):\n",
        "                parent_indices[i] = candidates[0]\n",
        "            else:\n",
        "                parent_indices[i] = candidates[1]\n",
        "\n",
        "        print(\"     Selection:                      \", time.time() - time1)\n",
        "\n",
        "        time1 = time.time()\n",
        "        # creating children population\n",
        "        children_population = np.empty((number_of_offspring, self.chromosome_length), dtype='int32')\n",
        "        for i in range(number_of_offspring//2):\n",
        "            if np.random.random() < crossover_probability:\n",
        "                children_population[2*i], children_population[2*i+1] = crossover_operator(self.current_population[parent_indices[2*i]].copy(), self.current_population[parent_indices[2*i+1]].copy())\n",
        "            else:\n",
        "                children_population[2*i], children_population[2*i+1] = self.current_population[parent_indices[2*i]].copy(), self.current_population[parent_indices[2*i+1]].copy()\n",
        "        if np.mod(number_of_offspring, 2) == 1:\n",
        "            children_population[-1] = self.current_population[parent_indices[-1]]\n",
        "        print(\"     Recombination:                  \", time.time() - time1)\n",
        "\n",
        "        time1 = time.time()\n",
        "        # mutating children population\n",
        "        for i in range(number_of_offspring):\n",
        "            if np.random.random() < mutation_probability:\n",
        "                children_population[i] = mutation_operator(children_population[i])\n",
        "        print(\"     Mutation:                       \", time.time() - time1)\n",
        "\n",
        "        return children_population\n",
        "\n",
        "\n",
        "    def replace_population(self, children_population, children_objective_values):\n",
        "\n",
        "        if(children_population is None and children_objective_values is None):\n",
        "            combined_population = self.current_population\n",
        "            combined_objective_values = self.current_objective_values\n",
        "        else:\n",
        "            combined_population = np.vstack((self.current_population, children_population))\n",
        "            combined_objective_values = np.vstack((self.current_objective_values, children_objective_values))\n",
        "\n",
        "        time2 = time.time()\n",
        "        combined_pareto_frontier = self.non_dominated_sort(combined_objective_values)\n",
        "        print(\"         Non dominated sort:         \", time.time() - time2)\n",
        "\n",
        "\n",
        "        positions = np.argsort(combined_pareto_frontier)\n",
        "\n",
        "        combined_population = combined_population[positions]\n",
        "        combined_objective_values = combined_objective_values[positions]\n",
        "        combined_pareto_frontier = combined_pareto_frontier[positions]\n",
        "\n",
        "        # assign crowding distance and select subset of last frontier\n",
        "        time2 = time.time()\n",
        "        found_population_size = 0\n",
        "        current_frontier_number = 1\n",
        "        current_frontier_lb, current_frontier_rb = (np.searchsorted(combined_pareto_frontier, current_frontier_number),\n",
        "                                                    np.searchsorted(combined_pareto_frontier, current_frontier_number, side='right'))\n",
        "        current_frontier_size = current_frontier_rb - current_frontier_lb\n",
        "        while found_population_size + current_frontier_size < self.population_size:\n",
        "            found_population_size += current_frontier_size\n",
        "            current_frontier_distances = self.assign_crowding_distance(combined_objective_values[current_frontier_lb : current_frontier_rb])\n",
        "            self.current_crowding_distances[current_frontier_lb : current_frontier_rb] = current_frontier_distances\n",
        "            current_frontier_number += 1\n",
        "            current_frontier_lb, current_frontier_rb = (np.searchsorted(combined_pareto_frontier, current_frontier_number),\n",
        "                                                        np.searchsorted(combined_pareto_frontier, current_frontier_number, side='right'))\n",
        "            current_frontier_size = current_frontier_rb - current_frontier_lb\n",
        "\n",
        "        current_frontier_distances = self.assign_crowding_distance(combined_objective_values[current_frontier_lb : current_frontier_rb])\n",
        "        last_frontier_taken_indices = np.argsort(current_frontier_distances)[::-1][:self.population_size - found_population_size]\n",
        "        print(\"         Distance assignment:        \", time.time() - time2)\n",
        "\n",
        "        combined_population[current_frontier_lb : self.population_size] = combined_population[last_frontier_taken_indices]\n",
        "        combined_objective_values[current_frontier_lb : self.population_size] = combined_objective_values[last_frontier_taken_indices]\n",
        "        self.current_crowding_distances[current_frontier_lb : self.population_size] = current_frontier_distances[last_frontier_taken_indices]\n",
        "\n",
        "        self.current_population = combined_population[:self.population_size]\n",
        "        self.current_objective_values = combined_objective_values[:self.population_size]\n",
        "        self.current_pareto_frontier = combined_pareto_frontier[:self.population_size]\n",
        "\n",
        "        return True"
      ],
      "execution_count": null,
      "outputs": []
    },
    {
      "cell_type": "code",
      "metadata": {
        "id": "Ydj_8ikFvFU9"
      },
      "source": [
        "euclidA100 = tsplib95.load(\"euclidA100.tsp\")\n",
        "euclidB100 = tsplib95.load(\"euclidB100.tsp\")\n",
        "\n",
        "solutionsAB = np.loadtxt('best.euclidAB100.tsp', dtype=int)\n",
        "\n",
        "distance_matrix = generate_distance_matrix(100, euclidA100, euclidB100)"
      ],
      "execution_count": null,
      "outputs": []
    },
    {
      "cell_type": "code",
      "metadata": {
        "colab": {
          "base_uri": "https://localhost:8080/"
        },
        "id": "sIWgs_UivFU_",
        "outputId": "5877dbf7-8ed2-405c-bb49-2cdad1933f55"
      },
      "source": [
        "chrom_len = 100\n",
        "pop_size = 512\n",
        "obj_num = 2\n",
        "n_iters = 3\n",
        "\n",
        "print(\"Initialization: \")\n",
        "init_pop = generate_population(pop_size, chrom_len)\n",
        "init_vals = evaluate_population_cpu(init_pop, distance_matrix, obj_num)\n",
        "\n",
        "nsga_ii = NSGA_II_prints(chrom_len, pop_size, obj_num, init_pop, init_vals)\n",
        "\n",
        "for t in range(n_iters):\n",
        "    print()\n",
        "    print(\"Iteration number:                    \", t)\n",
        "    print()\n",
        "    t0 = time.time()\n",
        "\n",
        "    children = nsga_ii.generate_children(PMX_old, reverse_sequence_mutation)\n",
        "    t1 = time.time()\n",
        "    children_vals = evaluate_population_cpu(children, distance_matrix, obj_num)\n",
        "    print(\"     Population evaluation:          \", time.time() - t1)\n",
        "\n",
        "    print(\"     Population replacement:\")\n",
        "    t1 = time.time()\n",
        "    nsga_ii.replace_population(children, children_vals)\n",
        "    print(\"     Population replacement - sum:   \", time.time() - t1)\n",
        "\n",
        "    print()\n",
        "    print(\"Iteration - sum:                     \", time.time() - t0)\n"
      ],
      "execution_count": null,
      "outputs": [
        {
          "output_type": "stream",
          "text": [
            "Initialization: \n",
            "         Non dominated sort:          2.766256093978882\n",
            "         Distance assignment:         0.0017406940460205078\n",
            "\n",
            "Iteration number:                     0\n",
            "\n",
            "     Selection:                       0.01419210433959961\n",
            "     Recombination:                   0.27422285079956055\n",
            "     Mutation:                        0.003378152847290039\n",
            "     Population evaluation:           0.12600994110107422\n",
            "     Population replacement:\n",
            "         Non dominated sort:          10.295392513275146\n",
            "         Distance assignment:         0.0015685558319091797\n",
            "     Population replacement - sum:    10.299115419387817\n",
            "\n",
            "Iteration - sum:                      10.717824459075928\n",
            "\n",
            "Iteration number:                     1\n",
            "\n",
            "     Selection:                       0.019649982452392578\n",
            "     Recombination:                   0.26890063285827637\n",
            "     Mutation:                        0.006953239440917969\n",
            "     Population evaluation:           0.12929415702819824\n",
            "     Population replacement:\n",
            "         Non dominated sort:          10.796414852142334\n",
            "         Distance assignment:         0.0017116069793701172\n",
            "     Population replacement - sum:    10.80047607421875\n",
            "\n",
            "Iteration - sum:                      11.22619915008545\n",
            "\n",
            "Iteration number:                     2\n",
            "\n",
            "     Selection:                       0.0230100154876709\n",
            "     Recombination:                   0.29062795639038086\n",
            "     Mutation:                        0.003931283950805664\n",
            "     Population evaluation:           0.12687158584594727\n",
            "     Population replacement:\n",
            "         Non dominated sort:          10.248756408691406\n",
            "         Distance assignment:         0.0014913082122802734\n",
            "     Population replacement - sum:    10.252686738967896\n",
            "\n",
            "Iteration - sum:                      10.698355674743652\n"
          ],
          "name": "stdout"
        }
      ]
    },
    {
      "cell_type": "markdown",
      "metadata": {
        "id": "BUTAUz1ygm6O"
      },
      "source": [
        "## Ewaluacja funkcji celu"
      ]
    },
    {
      "cell_type": "code",
      "metadata": {
        "id": "cIlCJ7hoG45N"
      },
      "source": [
        "def generate_population(pop_size, chrom_len):\n",
        "    pop = np.empty((pop_size, chrom_len), dtype='int32')\n",
        "    for i in range(pop_size):\n",
        "        ind = np.random.permutation(chrom_len)\n",
        "        pop[i] = ind\n",
        "    return pop\n",
        "\n",
        "def generate_distance_matrix(problem_size, *problems):\n",
        "    M = np.empty((len(problems), problem_size, problem_size), dtype='int32')\n",
        "    for prob in range(len(problems)):\n",
        "        coords = problems[prob].as_dict()['node_coords']\n",
        "        coords = np.array(list(coords.values()))\n",
        "        for i in range(problem_size):\n",
        "            for j in range(problem_size):\n",
        "                M[prob, i, j] = np.sqrt(((coords[i] - coords[j])**2).sum())\n",
        "    return M\n",
        "\n",
        "def tsp_objective_function(perm, objectives_number, distance_matrix):\n",
        "    result = np.zeros(objectives_number)\n",
        "    for i in range(perm.shape[0]):\n",
        "        for obj in range(objectives_number):\n",
        "            result[obj] += distance_matrix[obj][perm[i-1]][perm[i]]\n",
        "    return result\n",
        "\n",
        "def evaluate_population_cpu(population, distance_matrix, objectives_number):\n",
        "    pop_size = population.shape[0]\n",
        "    vals = np.empty((pop_size, objectives_number))\n",
        "    for i in range(pop_size):\n",
        "        vals[i] = tsp_objective_function(population[i], objectives_number, distance_matrix)\n",
        "    return vals"
      ],
      "execution_count": null,
      "outputs": []
    },
    {
      "cell_type": "code",
      "metadata": {
        "id": "4km4rY0ELh9b"
      },
      "source": [
        "@cuda.jit\n",
        "def evaluate_population(population, distance, res):\n",
        "\n",
        "    k, obj, ind = cuda.grid(3)\n",
        "\n",
        "    pop_size, chrom_len = population.shape\n",
        "    if (ind >= pop_size) or (k >= chrom_len):\n",
        "        return\n",
        "\n",
        "    idx = population[ind][k]\n",
        "    next_idx = population[ind][(k+1)%chrom_len]\n",
        "    value = distance[obj][idx][next_idx]\n",
        "    d = 16\n",
        "    while d>0:\n",
        "        value += cuda.shfl_down_sync(0xffffffff, value, d)\n",
        "        d >>= 1\n",
        "    if (k % 32) == 0:\n",
        "        cuda.atomic.add(res, (ind, obj), value)\n",
        "    return "
      ],
      "execution_count": null,
      "outputs": []
    },
    {
      "cell_type": "code",
      "metadata": {
        "id": "W4GR7AUDGuT8"
      },
      "source": [
        "problemA = tsplib95.load(\"euclidA100.tsp\")\n",
        "problemB = tsplib95.load(\"euclidB100.tsp\")"
      ],
      "execution_count": null,
      "outputs": []
    },
    {
      "cell_type": "code",
      "metadata": {
        "id": "mZph0NYtSXV2"
      },
      "source": [
        "chrom_len = 100\n",
        "pop_size = 2048\n",
        "obj_num = 2\n",
        "\n",
        "init_pop = generate_population(pop_size, chrom_len)"
      ],
      "execution_count": null,
      "outputs": []
    },
    {
      "cell_type": "code",
      "metadata": {
        "id": "jteLYH9iJK0F"
      },
      "source": [
        "distance = generate_distance_matrix(100, problemA, problemB)"
      ],
      "execution_count": null,
      "outputs": []
    },
    {
      "cell_type": "code",
      "metadata": {
        "id": "_Srd5sBwRd1a"
      },
      "source": [
        "d_distance = cuda.to_device(distance)"
      ],
      "execution_count": null,
      "outputs": []
    },
    {
      "cell_type": "code",
      "metadata": {
        "id": "SbYPkvFURi0G",
        "colab": {
          "base_uri": "https://localhost:8080/"
        },
        "outputId": "3644fff7-bf22-4dd6-f824-66a2598236db"
      },
      "source": [
        "res = np.zeros((pop_size, obj_num), dtype='int32')\n",
        "blocks_per_grid = (1, 1, pop_size)\n",
        "blockdim = (128, 2, 1)\n",
        "\n",
        "%timeit evaluate_population[blocks_per_grid, blockdim](init_pop, d_distance, res)\n",
        "%timeit evaluate_population_cpu(init_pop, distance, 2)"
      ],
      "execution_count": null,
      "outputs": [
        {
          "output_type": "stream",
          "text": [
            "The slowest run took 120.97 times longer than the fastest. This could mean that an intermediate result is being cached.\n",
            "1000 loops, best of 3: 1.62 ms per loop\n",
            "1 loop, best of 3: 522 ms per loop\n"
          ],
          "name": "stdout"
        }
      ]
    },
    {
      "cell_type": "code",
      "metadata": {
        "id": "qygtgF8wc-ZS"
      },
      "source": [
        "n_iters = 10\n",
        "\n",
        "for t in range(n_iters):\n",
        "    population = generate_population(pop_size, chrom_len)\n",
        "\n",
        "    vals_gpu = np.zeros((pop_size, obj_num), dtype='int32')\n",
        "\n",
        "    blocks_per_grid = (1, 1, pop_size)\n",
        "    blockdim = (128, 2, 1)\n",
        "    evaluate_population[blocks_per_grid, blockdim](population, d_distance, vals_gpu)\n",
        "\n",
        "    vals_cpu = evaluate_population_cpu(population, distance, obj_num)\n",
        "\n",
        "    assert np.all(vals_gpu == vals_cpu)"
      ],
      "execution_count": null,
      "outputs": []
    },
    {
      "cell_type": "markdown",
      "metadata": {
        "id": "7Ec_ZOIT9Ov2"
      },
      "source": [
        "## Sortowanie"
      ]
    },
    {
      "cell_type": "code",
      "metadata": {
        "id": "S8lhR3m9DUT_"
      },
      "source": [
        "def non_dominated_sort_cpu(objective_values):\n",
        "\n",
        "    def dominates(vals1, vals2):\n",
        "        return np.all(vals1 <= vals2) and np.any(vals1 < vals2)\n",
        "\n",
        "    size = objective_values.shape[0]\n",
        "    pareto_frontier = np.empty(size, dtype=int)\n",
        "    current_frontier_number = 1\n",
        "    current_frontier_members = []\n",
        "    # number of solutions dominating p\n",
        "    dominating_count = np.zeros(size, dtype=int)\n",
        "    # set of solutions dominated by p\n",
        "    dominated = [None] * size \n",
        "\n",
        "    for p in range(size):\n",
        "        dominated[p] = []\n",
        "        for q in range(size):\n",
        "            if dominates(objective_values[p], objective_values[q]):\n",
        "                dominated[p].append(q)\n",
        "            elif dominates(objective_values[q], objective_values[p]):\n",
        "                dominating_count[p] += 1\n",
        "        if dominating_count[p] == 0:\n",
        "            pareto_frontier[p] = current_frontier_number\n",
        "            current_frontier_members.append(p)\n",
        "\n",
        "    while current_frontier_members != []:\n",
        "        current_frontier_number += 1\n",
        "        new_frontier_members = []\n",
        "        for p in current_frontier_members:\n",
        "            for q in dominated[p]:\n",
        "                dominating_count[q] -= 1\n",
        "                if dominating_count[q] == 0:\n",
        "                    pareto_frontier[q] = current_frontier_number\n",
        "                    new_frontier_members.append(q)\n",
        "        current_frontier_members = new_frontier_members\n",
        "    \n",
        "    return pareto_frontier"
      ],
      "execution_count": null,
      "outputs": []
    },
    {
      "cell_type": "code",
      "metadata": {
        "id": "Mr-7v6x9v44n"
      },
      "source": [
        "@cuda.jit\n",
        "def check_domination(pop_vals, dominated, dom_count):\n",
        "    q, p = cuda.grid(2)\n",
        "\n",
        "    pop_size = pop_vals.shape[0]\n",
        "    if (p >= pop_size) or (q >= pop_size):\n",
        "        return\n",
        "\n",
        "    if (pop_vals[p][0] <= pop_vals[q][0] and pop_vals[p][1] <= pop_vals[q][1] and\n",
        "        (pop_vals[p][0] < pop_vals[q][0] or pop_vals[p][1] < pop_vals[q][1])):\n",
        "        # maska bitowa = atomic add\n",
        "        dominated[p, q] = 1\n",
        "\n",
        "\n",
        "    elif (pop_vals[q][0] <= pop_vals[p][0] and pop_vals[q][1] <= pop_vals[p][1] and\n",
        "            (pop_vals[q][0] < pop_vals[p][0] or pop_vals[q][1] < pop_vals[p][1])):\n",
        "        cuda.atomic.add(dom_count, p, 1)\n",
        "\n",
        "\n",
        "@cuda.jit\n",
        "def find_first_frontier(dom_count, frontier, rank):\n",
        "    p = cuda.grid(1)\n",
        "    if dom_count[p] == 0:\n",
        "        frontier[p] = 1\n",
        "        rank[p] = 1\n",
        "\n",
        "\n",
        "@cuda.jit\n",
        "def remove_current_frontier(dominated, dom_count, current_rank,\n",
        "                            current_frontier, next_frontier, rank):\n",
        "    q, p = cuda.grid(2)\n",
        "\n",
        "    pop_size = dominated.shape[0]\n",
        "    if (p >= pop_size) or (q >= pop_size) or current_frontier[p] == 0:\n",
        "        return\n",
        "    \n",
        "    if dominated[p, q] == 1:\n",
        "        if cuda.atomic.add(dom_count, q, -1) == 1:\n",
        "            rank[q] = current_rank\n",
        "            next_frontier[q] = 1"
      ],
      "execution_count": null,
      "outputs": []
    },
    {
      "cell_type": "code",
      "metadata": {
        "id": "kFLBN3OIi0J1"
      },
      "source": [
        "def non_dominated_sort(pop_vals):\n",
        "\n",
        "    def is_not_empty(frontier):\n",
        "        return np.any(frontier == 1)\n",
        "\n",
        "\n",
        "    pop_size = pop_vals.shape[0]\n",
        "\n",
        "    current_frontier = np.zeros(pop_size, dtype='bool')\n",
        "    next_frontier = np.zeros(pop_size, dtype='bool')\n",
        "    current_rank = 1\n",
        "\n",
        "    dom = np.zeros((pop_size, pop_size), dtype='bool')\n",
        "    dom_count = np.zeros(pop_size, dtype='int32')\n",
        "    rank = np.zeros(pop_size, dtype='int32')\n",
        "\n",
        "    d_dom = cuda.to_device(dom)\n",
        "    d_dom_count = cuda.to_device(dom_count)\n",
        "    d_rank = cuda.to_device(rank)\n",
        "\n",
        "    griddim  = (max(pop_size//32, 1), max(pop_size//32, 1))\n",
        "    blockdim = (32, 32)\n",
        "\n",
        "    check_domination[griddim, blockdim](pop_vals, d_dom, d_dom_count)\n",
        "    find_first_frontier[max(pop_size//1024, 1), 1024](d_dom_count, current_frontier, d_rank)\n",
        "\n",
        "    while(is_not_empty(current_frontier)):\n",
        "        next_frontier = np.zeros(pop_size)\n",
        "        current_rank += 1\n",
        "        remove_current_frontier[griddim, blockdim](d_dom, d_dom_count, current_rank,\n",
        "                                                       current_frontier, next_frontier, d_rank)\n",
        "        current_frontier = next_frontier\n",
        "\n",
        "    rank = d_rank.copy_to_host()\n",
        "    return rank"
      ],
      "execution_count": null,
      "outputs": []
    },
    {
      "cell_type": "code",
      "metadata": {
        "id": "x0h8IADTbp5G"
      },
      "source": [
        "chrom_len = 100\n",
        "pop_size = 1024\n",
        "obj_num = 2\n",
        "\n",
        "population = generate_population(pop_size, chrom_len)\n",
        "\n",
        "vals = np.zeros((pop_size, obj_num), dtype='int32')\n",
        "\n",
        "blocks_per_grid = (1, 1, pop_size)\n",
        "blockdim = (128, 2, 1)\n",
        "evaluate_population[blocks_per_grid, blockdim](population, d_distance, vals)"
      ],
      "execution_count": null,
      "outputs": []
    },
    {
      "cell_type": "code",
      "metadata": {
        "colab": {
          "base_uri": "https://localhost:8080/"
        },
        "id": "mGwQcT7edBDi",
        "outputId": "3e07be0c-c681-467e-e11c-2ee5d0069f2e"
      },
      "source": [
        "%timeit non_dominated_sort(vals)\n",
        "%timeit non_dominated_sort_cpu(vals)"
      ],
      "execution_count": null,
      "outputs": [
        {
          "output_type": "stream",
          "text": [
            "10 loops, best of 3: 68.4 ms per loop\n",
            "1 loop, best of 3: 10.2 s per loop\n"
          ],
          "name": "stdout"
        }
      ]
    },
    {
      "cell_type": "code",
      "metadata": {
        "id": "6wJ0GgVKRbcN"
      },
      "source": [
        "assert np.all(non_dominated_sort(vals) == non_dominated_sort_cpu(vals))"
      ],
      "execution_count": null,
      "outputs": []
    },
    {
      "cell_type": "markdown",
      "metadata": {
        "id": "Yn7VjAGdy5Vh"
      },
      "source": [
        "## GPU - czas działania"
      ]
    },
    {
      "cell_type": "code",
      "metadata": {
        "id": "YbPdCPOQzIz4"
      },
      "source": [
        "class NSGA_II_GPU_prints:\n",
        "    def __init__(self, chromosome_length, population_size, objectives_number,\n",
        "                 initial_population, initial_objective_values):\n",
        "        self.chromosome_length = chromosome_length\n",
        "        self.population_size = population_size\n",
        "        self.objectives_number = objectives_number\n",
        "        if type(initial_population) is not np.ndarray:\n",
        "            raise ValueError(\"initial population must be a numpy array\")\n",
        "        if initial_population.shape != (self.population_size, self.chromosome_length):\n",
        "            raise ValueError(\"initial population must be of shape (population_size, chromosome_length)\")\n",
        "        self.current_population = initial_population\n",
        "        if type(initial_objective_values) is not np.ndarray:\n",
        "            raise ValueError(\"initial objective values must be a numpy array\")\n",
        "        if initial_objective_values.shape != (self.population_size, self.objectives_number):\n",
        "            raise ValueError(\"initial population values must be of shape (population_size, objectives_number)\")\n",
        "        self.current_objective_values = initial_objective_values\n",
        "        self.current_pareto_frontier = np.empty(self.population_size)\n",
        "        self.current_crowding_distances = np.empty(self.population_size)\n",
        "        self.replace_population(None, None)\n",
        "\n",
        "\n",
        "    def get_population(self):\n",
        "        return self.current_population\n",
        "\n",
        "\n",
        "    def get_values(self):\n",
        "        return self.current_objective_values\n",
        "\n",
        "\n",
        "    def non_dominated_sort(self, pop_vals):\n",
        "\n",
        "        def is_not_empty(frontier):\n",
        "            return np.any(frontier == 1)\n",
        "\n",
        "\n",
        "        pop_size = pop_vals.shape[0]\n",
        "\n",
        "        current_frontier = np.zeros(pop_size, dtype='bool')\n",
        "        next_frontier = np.zeros(pop_size, dtype='bool')\n",
        "        current_rank = 1\n",
        "\n",
        "        dom = np.zeros((pop_size, pop_size), dtype='bool')\n",
        "        dom_count = np.zeros(pop_size, dtype='int32')\n",
        "        rank = np.zeros(pop_size, dtype='int32')\n",
        "\n",
        "        d_dom = cuda.to_device(dom)\n",
        "        d_dom_count = cuda.to_device(dom_count)\n",
        "        d_rank = cuda.to_device(rank)\n",
        "\n",
        "        griddim  = (max(pop_size//32, 1), max(pop_size//32, 1))\n",
        "        blockdim = (32, 32)\n",
        "\n",
        "        check_domination[griddim, blockdim](pop_vals, d_dom, d_dom_count)\n",
        "        find_first_frontier[max(pop_size//1024, 1), 1024](d_dom_count, current_frontier, d_rank)\n",
        "\n",
        "        while(is_not_empty(current_frontier)):\n",
        "            next_frontier = np.zeros(pop_size)\n",
        "            current_rank += 1\n",
        "            remove_current_frontier[griddim, blockdim](d_dom, d_dom_count, current_rank,\n",
        "                                                        current_frontier, next_frontier, d_rank)\n",
        "            current_frontier = next_frontier\n",
        "\n",
        "        rank = d_rank.copy_to_host()\n",
        "        return rank\n",
        "\n",
        "\n",
        "    def assign_crowding_distance(self, objective_values):\n",
        "        size = objective_values.shape[0]\n",
        "        distance = np.zeros(size)\n",
        "        for current_objective in range(self.objectives_number):\n",
        "            current_objective_values = objective_values[:, current_objective]\n",
        "            sorted_indices = np.argsort(current_objective_values)\n",
        "            current_objective_values_diff = current_objective_values[sorted_indices[-1]] - current_objective_values[sorted_indices[0]]\n",
        "            if current_objective_values_diff == 0:\n",
        "                continue\n",
        "            distance[sorted_indices[0]], distance[sorted_indices[-1]] = np.inf, np.inf\n",
        "            for i in range(1, size-1):\n",
        "                distance[sorted_indices[i]] += ((current_objective_values[sorted_indices[i+1]] - current_objective_values[sorted_indices[i-1]]) /\n",
        "                                                current_objective_values_diff)\n",
        "        return distance\n",
        "\n",
        "\n",
        "    def generate_children(self, crossover_operator, mutation_operator,\n",
        "                          crossover_probability = 0.95, mutation_probability = 0.25,\n",
        "                          number_of_offspring = None):\n",
        "\n",
        "        def compare(p, q):\n",
        "            if self.current_pareto_frontier[p] == self.current_pareto_frontier[q]:\n",
        "                return self.current_crowding_distances[p] > self.current_crowding_distances[q]\n",
        "            return self.current_pareto_frontier[p] > self.current_pareto_frontier[q]\n",
        "\n",
        "        if number_of_offspring is None:\n",
        "            number_of_offspring = self.population_size\n",
        "\n",
        "        # selecting parent indices by the binary tournament method\n",
        "        time1 = time.time()\n",
        "        parent_indices = np.empty(number_of_offspring, dtype=np.int64)\n",
        "        for i in range(number_of_offspring):\n",
        "            candidates = np.random.randint(self.population_size, size=2)\n",
        "            while candidates[0] == candidates[1]:\n",
        "                candidates = np.random.randint(self.population_size, size=2)\n",
        "            if compare(candidates[0], candidates[1]):\n",
        "                parent_indices[i] = candidates[0]\n",
        "            else:\n",
        "                parent_indices[i] = candidates[1]\n",
        "        print(\"     Selection:                      \", time.time() - time1)\n",
        "\n",
        "        # creating children population\n",
        "        time1 = time.time()\n",
        "        children_population = np.empty((number_of_offspring, self.chromosome_length), dtype='int32')\n",
        "        for i in range(number_of_offspring//2):\n",
        "            if np.random.random() < crossover_probability:\n",
        "                children_population[2*i], children_population[2*i+1] = crossover_operator(self.current_population[parent_indices[2*i]].copy(), self.current_population[parent_indices[2*i+1]].copy())\n",
        "            else:\n",
        "                children_population[2*i], children_population[2*i+1] = self.current_population[parent_indices[2*i]].copy(), self.current_population[parent_indices[2*i+1]].copy()\n",
        "        if np.mod(number_of_offspring, 2) == 1:\n",
        "            children_population[-1] = self.current_population[parent_indices[-1]]\n",
        "        print(\"     Recombination:                  \", time.time() - time1)\n",
        "\n",
        "        # mutating children population\n",
        "        time1 = time.time()\n",
        "        for i in range(number_of_offspring):\n",
        "            if np.random.random() < mutation_probability:\n",
        "                children_population[i] = mutation_operator(children_population[i])\n",
        "        print(\"     Mutation:                       \", time.time() - time1)\n",
        "\n",
        "        return children_population\n",
        "\n",
        "\n",
        "    def replace_population(self, children_population, children_objective_values):\n",
        "\n",
        "        if(children_population is None and children_objective_values is None):\n",
        "            combined_population = self.current_population\n",
        "            combined_objective_values = self.current_objective_values\n",
        "        else:\n",
        "            combined_population = np.vstack((self.current_population, children_population))\n",
        "            combined_objective_values = np.vstack((self.current_objective_values, children_objective_values))\n",
        "\n",
        "        time2 = time.time()\n",
        "        combined_pareto_frontier = self.non_dominated_sort(combined_objective_values)\n",
        "        print(\"         Non dominated sort:         \", time.time() - time2)\n",
        "\n",
        "        positions = np.argsort(combined_pareto_frontier)\n",
        "\n",
        "        combined_population = combined_population[positions]\n",
        "        combined_objective_values = combined_objective_values[positions]\n",
        "        combined_pareto_frontier = combined_pareto_frontier[positions]\n",
        "\n",
        "        # assign crowding distance and select subset of last frontier\n",
        "        found_population_size = 0\n",
        "        current_frontier_number = 1\n",
        "        current_frontier_lb, current_frontier_rb = (np.searchsorted(combined_pareto_frontier, current_frontier_number),\n",
        "                                                    np.searchsorted(combined_pareto_frontier, current_frontier_number, side='right'))\n",
        "        current_frontier_size = current_frontier_rb - current_frontier_lb\n",
        "        time2 = time.time()\n",
        "        while found_population_size + current_frontier_size < self.population_size:\n",
        "            found_population_size += current_frontier_size\n",
        "            current_frontier_distances = self.assign_crowding_distance(combined_objective_values[current_frontier_lb : current_frontier_rb])\n",
        "            self.current_crowding_distances[current_frontier_lb : current_frontier_rb] = current_frontier_distances\n",
        "            current_frontier_number += 1\n",
        "            current_frontier_lb, current_frontier_rb = (np.searchsorted(combined_pareto_frontier, current_frontier_number),\n",
        "                                                        np.searchsorted(combined_pareto_frontier, current_frontier_number, side='right'))\n",
        "            current_frontier_size = current_frontier_rb - current_frontier_lb\n",
        "\n",
        "        current_frontier_distances = self.assign_crowding_distance(combined_objective_values[current_frontier_lb : current_frontier_rb])\n",
        "        last_frontier_taken_indices = np.argsort(current_frontier_distances)[::-1][:self.population_size - found_population_size]\n",
        "        print(\"         Distance assignment:        \", time.time() - time2)\n",
        "\n",
        "        combined_population[current_frontier_lb : self.population_size] = combined_population[last_frontier_taken_indices]\n",
        "        combined_objective_values[current_frontier_lb : self.population_size] = combined_objective_values[last_frontier_taken_indices]\n",
        "        self.current_crowding_distances[current_frontier_lb : self.population_size] = current_frontier_distances[last_frontier_taken_indices]\n",
        "\n",
        "        self.current_population = combined_population[:self.population_size]\n",
        "        self.current_objective_values = combined_objective_values[:self.population_size]\n",
        "        self.current_pareto_frontier = combined_pareto_frontier[:self.population_size]\n",
        "\n",
        "        return True"
      ],
      "execution_count": null,
      "outputs": []
    },
    {
      "cell_type": "code",
      "metadata": {
        "id": "Gv5NhYHt20L0"
      },
      "source": [
        "euclidA100 = tsplib95.load(\"euclidA100.tsp\")\n",
        "euclidB100 = tsplib95.load(\"euclidB100.tsp\")\n",
        "\n",
        "solutionsAB = np.loadtxt('best.euclidAB100.tsp', dtype=int)\n",
        "\n",
        "distance_matrix = generate_distance_matrix(100, euclidA100, euclidB100)\n",
        "d_distance = cuda.to_device(distance_matrix)"
      ],
      "execution_count": null,
      "outputs": []
    },
    {
      "cell_type": "code",
      "metadata": {
        "colab": {
          "base_uri": "https://localhost:8080/"
        },
        "id": "Jw5bxUea20L2",
        "outputId": "25d26c8c-1f0c-4eb1-d0ad-532e422c5e09"
      },
      "source": [
        "chrom_len = 100\n",
        "pop_size = 512\n",
        "obj_num = 2\n",
        "n_iters = 3\n",
        "\n",
        "griddim = (1, 1, pop_size)\n",
        "blockdim = (128, 2, 1)\n",
        "\n",
        "print(\"Initialization: \")\n",
        "init_pop = generate_population(pop_size, chrom_len)\n",
        "init_vals = np.zeros((pop_size, obj_num), dtype='int32')\n",
        "evaluate_population[griddim, blockdim](init_pop, d_distance, init_vals)\n",
        "\n",
        "nsga_ii = NSGA_II_GPU_prints(chrom_len, pop_size, obj_num, init_pop, init_vals)\n",
        "\n",
        "for t in range(n_iters):\n",
        "    print()\n",
        "    print(\"Iteration number:                    \", t)\n",
        "    print()\n",
        "    t0 = time.time()\n",
        "\n",
        "    children = nsga_ii.generate_children(PMX, reverse_sequence_mutation)\n",
        "    t1 = time.time()\n",
        "    children_vals = np.zeros((children.shape[0], obj_num), dtype='int32')\n",
        "    evaluate_population[griddim, blockdim](children, d_distance, children_vals)\n",
        "    print(\"     Population evaluation:          \", time.time() - t1)\n",
        "\n",
        "    print(\"     Population replacement:\")\n",
        "    t1 = time.time()\n",
        "    nsga_ii.replace_population(children, children_vals)\n",
        "    print(\"     Population replacement - sum:   \", time.time() - t1)\n",
        "\n",
        "    print()\n",
        "    print(\"Iteration - sum:                     \", time.time() - t0)\n"
      ],
      "execution_count": null,
      "outputs": [
        {
          "output_type": "stream",
          "text": [
            "Initialization: \n",
            "         Non dominated sort:          0.056609392166137695\n",
            "         Distance assignment:         0.0021021366119384766\n",
            "\n",
            "Iteration number:                     0\n",
            "\n",
            "     Selection:                       0.01078343391418457\n",
            "     Recombination:                   0.058889150619506836\n",
            "     Mutation:                        0.003121614456176758\n",
            "     Population evaluation:           0.001954793930053711\n",
            "     Population replacement:\n",
            "         Non dominated sort:          0.06720399856567383\n",
            "         Distance assignment:         0.0017094612121582031\n",
            "     Population replacement - sum:    0.07023930549621582\n",
            "\n",
            "Iteration - sum:                      0.14593172073364258\n",
            "\n",
            "Iteration number:                     1\n",
            "\n",
            "     Selection:                       0.012668609619140625\n",
            "     Recombination:                   0.0612332820892334\n",
            "     Mutation:                        0.0035636425018310547\n",
            "     Population evaluation:           0.0020551681518554688\n",
            "     Population replacement:\n",
            "         Non dominated sort:          0.059789419174194336\n",
            "         Distance assignment:         0.0018153190612792969\n",
            "     Population replacement - sum:    0.06329655647277832\n",
            "\n",
            "Iteration - sum:                      0.14431118965148926\n",
            "\n",
            "Iteration number:                     2\n",
            "\n",
            "     Selection:                       0.012218475341796875\n",
            "     Recombination:                   0.0637674331665039\n",
            "     Mutation:                        0.0042345523834228516\n",
            "     Population evaluation:           0.0018129348754882812\n",
            "     Population replacement:\n",
            "         Non dominated sort:          0.055930137634277344\n",
            "         Distance assignment:         0.0017404556274414062\n",
            "     Population replacement - sum:    0.059264183044433594\n",
            "\n",
            "Iteration - sum:                      0.14275527000427246\n"
          ],
          "name": "stdout"
        }
      ]
    },
    {
      "cell_type": "markdown",
      "metadata": {
        "id": "zI5XsPTd6pLu"
      },
      "source": [
        "Dla populacji wielkości 512 udało się zredukować czas sortowania z ~ 9.5 sekundy do ~ 0.04 sekundy,  \n",
        "tym samym zmniejszając czas trwania iteracji z ~ 9.8 sekundy do ~ 0.34 sekundy.  \n",
        "Po zoptymalizowaniu niektórych częsci kodu oraz użyciu GPU do ewaluacji populacji,  \n",
        "całkowity czas trwania iteracji zmniejszył się do ~0.14 sekundy."
      ]
    },
    {
      "cell_type": "code",
      "metadata": {
        "colab": {
          "base_uri": "https://localhost:8080/"
        },
        "id": "5tfPXi00mxDy",
        "outputId": "6d23ce07-0b2a-4728-fda8-e130f6029bd6"
      },
      "source": [
        "chrom_len = 100\n",
        "pop_size = 16384\n",
        "obj_num = 2\n",
        "n_iters = 3\n",
        "\n",
        "griddim = (1, 1, pop_size)\n",
        "blockdim = (128, 2, 1)\n",
        "\n",
        "print(\"Initialization: \")\n",
        "init_pop = generate_population(pop_size, chrom_len)\n",
        "init_vals = np.zeros((pop_size, obj_num), dtype='int32')\n",
        "evaluate_population[griddim, blockdim](init_pop, d_distance, init_vals)\n",
        "\n",
        "nsga_ii = NSGA_II_GPU_prints(chrom_len, pop_size, obj_num, init_pop, init_vals)\n",
        "\n",
        "for t in range(n_iters):\n",
        "    print()\n",
        "    print(\"Iteration number:                    \", t)\n",
        "    print()\n",
        "    t0 = time.time()\n",
        "\n",
        "    children = nsga_ii.generate_children(PMX, reverse_sequence_mutation)\n",
        "    t1 = time.time()\n",
        "    children_vals = np.zeros((children.shape[0], obj_num), dtype='int32')\n",
        "    evaluate_population[griddim, blockdim](children, d_distance, children_vals)\n",
        "    print(\"     Population evaluation:          \", time.time() - t1)\n",
        "\n",
        "    print(\"     Population replacement:\")\n",
        "    t1 = time.time()\n",
        "    nsga_ii.replace_population(children, children_vals)\n",
        "    print(\"     Population replacement - sum:   \", time.time() - t1)\n",
        "\n",
        "    print()\n",
        "    print(\"Iteration - sum:                     \", time.time() - t0)\n"
      ],
      "execution_count": null,
      "outputs": [
        {
          "output_type": "stream",
          "text": [
            "Initialization: \n",
            "         Non dominated sort:          1.7888572216033936\n",
            "         Distance assignment:         0.04424142837524414\n",
            "\n",
            "Iteration number:                     0\n",
            "\n",
            "     Selection:                       0.2987968921661377\n",
            "     Recombination:                   1.829150915145874\n",
            "     Mutation:                        0.09987115859985352\n",
            "     Population evaluation:           0.005529165267944336\n",
            "     Population replacement:\n",
            "         Non dominated sort:          7.82182502746582\n",
            "         Distance assignment:         0.04410552978515625\n",
            "     Population replacement - sum:    7.876167297363281\n",
            "\n",
            "Iteration - sum:                      10.110450983047485\n",
            "\n",
            "Iteration number:                     1\n",
            "\n",
            "     Selection:                       0.2035200595855713\n",
            "     Recombination:                   1.9165713787078857\n",
            "     Mutation:                        0.09295916557312012\n",
            "     Population evaluation:           0.007399797439575195\n",
            "     Population replacement:\n",
            "         Non dominated sort:          6.616574048995972\n",
            "         Distance assignment:         0.0430448055267334\n",
            "     Population replacement - sum:    6.669495344161987\n",
            "\n",
            "Iteration - sum:                      8.891838312149048\n",
            "\n",
            "Iteration number:                     2\n",
            "\n",
            "     Selection:                       0.21217083930969238\n",
            "     Recombination:                   1.827662706375122\n",
            "     Mutation:                        0.1027069091796875\n",
            "     Population evaluation:           0.005935192108154297\n",
            "     Population replacement:\n",
            "         Non dominated sort:          6.387735843658447\n",
            "         Distance assignment:         0.04315042495727539\n",
            "     Population replacement - sum:    6.4539875984191895\n",
            "\n",
            "Iteration - sum:                      8.603778839111328\n"
          ],
          "name": "stdout"
        }
      ]
    },
    {
      "cell_type": "code",
      "metadata": {
        "colab": {
          "base_uri": "https://localhost:8080/"
        },
        "id": "mUskiE0XnIPE",
        "outputId": "091b917a-31a2-4591-a9a8-2cdcfcdef2c9"
      },
      "source": [
        "chrom_len = 100\n",
        "pop_size = 32768\n",
        "obj_num = 2\n",
        "n_iters = 3\n",
        "\n",
        "griddim = (1, 1, pop_size)\n",
        "blockdim = (128, 2, 1)\n",
        "\n",
        "print(\"Initialization: \")\n",
        "init_pop = generate_population(pop_size, chrom_len)\n",
        "init_vals = np.zeros((pop_size, obj_num), dtype='int32')\n",
        "evaluate_population[griddim, blockdim](init_pop, d_distance, init_vals)\n",
        "\n",
        "nsga_ii = NSGA_II_GPU_prints(chrom_len, pop_size, obj_num, init_pop, init_vals)\n",
        "\n",
        "for t in range(n_iters):\n",
        "    print()\n",
        "    print(\"Iteration number:                    \", t)\n",
        "    print()\n",
        "    t0 = time.time()\n",
        "\n",
        "    children = nsga_ii.generate_children(PMX, reverse_sequence_mutation)\n",
        "    t1 = time.time()\n",
        "    children_vals = np.zeros((children.shape[0], obj_num), dtype='int32')\n",
        "    evaluate_population[griddim, blockdim](children, d_distance, children_vals)\n",
        "    print(\"     Population evaluation:          \", time.time() - t1)\n",
        "\n",
        "    print(\"     Population replacement:\")\n",
        "    t1 = time.time()\n",
        "    nsga_ii.replace_population(children, children_vals)\n",
        "    print(\"     Population replacement - sum:   \", time.time() - t1)\n",
        "\n",
        "    print()\n",
        "    print(\"Iteration - sum:                     \", time.time() - t0)\n"
      ],
      "execution_count": null,
      "outputs": [
        {
          "output_type": "stream",
          "text": [
            "Initialization: \n",
            "         Non dominated sort:          7.762798309326172\n",
            "         Distance assignment:         0.08474206924438477\n",
            "\n",
            "Iteration number:                     0\n",
            "\n",
            "     Selection:                       0.48434925079345703\n",
            "     Recombination:                   3.723581075668335\n",
            "     Mutation:                        0.21783709526062012\n",
            "     Population evaluation:           0.008616447448730469\n",
            "     Population replacement:\n",
            "         Non dominated sort:          39.69694137573242\n",
            "         Distance assignment:         0.11340188980102539\n",
            "     Population replacement - sum:    39.829622745513916\n",
            "\n",
            "Iteration - sum:                      44.265469551086426\n",
            "\n",
            "Iteration number:                     1\n",
            "\n",
            "     Selection:                       0.4171297550201416\n",
            "     Recombination:                   3.7114527225494385\n",
            "     Mutation:                        0.1971890926361084\n",
            "     Population evaluation:           0.013009071350097656\n",
            "     Population replacement:\n",
            "         Non dominated sort:          34.23906898498535\n",
            "         Distance assignment:         0.10145163536071777\n",
            "     Population replacement - sum:    34.37370586395264\n",
            "\n",
            "Iteration - sum:                      38.7133412361145\n",
            "\n",
            "Iteration number:                     2\n",
            "\n",
            "     Selection:                       0.5857880115509033\n",
            "     Recombination:                   3.6659281253814697\n",
            "     Mutation:                        0.2326974868774414\n",
            "     Population evaluation:           0.01096487045288086\n",
            "     Population replacement:\n",
            "         Non dominated sort:          34.0821008682251\n",
            "         Distance assignment:         0.10135102272033691\n",
            "     Population replacement - sum:    34.20330858230591\n",
            "\n",
            "Iteration - sum:                      38.69979739189148\n"
          ],
          "name": "stdout"
        }
      ]
    },
    {
      "cell_type": "markdown",
      "metadata": {
        "id": "00xuI0kuPYox"
      },
      "source": [
        "## Algorytm w praktyce - GPU"
      ]
    },
    {
      "cell_type": "code",
      "metadata": {
        "id": "5AzyGbiyPpC1"
      },
      "source": [
        "euclidA100 = tsplib95.load(\"euclidA100.tsp\")\n",
        "euclidB100 = tsplib95.load(\"euclidB100.tsp\")\n",
        "\n",
        "solutionsAB = np.loadtxt('best.euclidAB100.tsp', dtype=int)\n",
        "\n",
        "distance_matrix = generate_distance_matrix(100, euclidA100, euclidB100)\n",
        "d_distance = cuda.to_device(distance_matrix)"
      ],
      "execution_count": 9,
      "outputs": []
    },
    {
      "cell_type": "code",
      "metadata": {
        "colab": {
          "base_uri": "https://localhost:8080/",
          "height": 767,
          "referenced_widgets": [
            "13142b05d1614b13bbf58d70dbeacb97",
            "d3755ff5711a4bfd9fe7a6df3e5b4a75",
            "e60cac6767c0471ca1bc93309a12ff73",
            "3588180db4fa449294ffbef1a1afce97",
            "12497d12a4414a71b9e38dccebd62dc0",
            "b5b2e5c405ff4f848c3e60e5781f3c89",
            "a56bed7b7c7644bba06cb2b1137cb67b",
            "be656b85523c498f966757e7e1b8ea89"
          ]
        },
        "id": "jDhZbnGTQV3W",
        "outputId": "ca4c5b54-f559-43b2-eb0b-2ede6bb2e011"
      },
      "source": [
        "chrom_len = 100\n",
        "pop_size = 512\n",
        "obj_num = 2\n",
        "n_iters = 300\n",
        "\n",
        "griddim = (1, 1, pop_size)\n",
        "blockdim = (128, 2, 1)\n",
        "\n",
        "init_pop = generate_population(pop_size, chrom_len)\n",
        "    \n",
        "init_vals = np.zeros((pop_size, obj_num), dtype='int32')\n",
        "evaluate_population[griddim, blockdim](init_pop, d_distance, init_vals)\n",
        "\n",
        "nsga_ii = NSGA_II_GPU(chrom_len, pop_size, obj_num, init_pop, init_vals)\n",
        "\n",
        "plt.figure(figsize=(12,12))\n",
        "plt.scatter(solutionsAB[:, 0], solutionsAB[:, 1])\n",
        "\n",
        "for t in tqdm(range(n_iters)):\n",
        "\n",
        "    if(np.mod(t, 50) == 0):\n",
        "        current_vals = nsga_ii.get_values()\n",
        "        plt.scatter(current_vals[:, 0], current_vals[:, 1])\n",
        "\n",
        "    children = nsga_ii.generate_children(PMX, reverse_sequence_mutation)\n",
        "\n",
        "    children_vals = np.zeros((children.shape[0], obj_num), dtype='int32')\n",
        "    evaluate_population[griddim, blockdim](children, d_distance, children_vals)\n",
        "\n",
        "    nsga_ii.replace_population(children, children_vals)\n",
        "\n",
        "current_vals = nsga_ii.get_values()\n",
        "plt.scatter(current_vals[:, 0], current_vals[:, 1])"
      ],
      "execution_count": null,
      "outputs": [
        {
          "output_type": "display_data",
          "data": {
            "application/vnd.jupyter.widget-view+json": {
              "model_id": "13142b05d1614b13bbf58d70dbeacb97",
              "version_minor": 0,
              "version_major": 2
            },
            "text/plain": [
              "HBox(children=(FloatProgress(value=0.0, max=300.0), HTML(value='')))"
            ]
          },
          "metadata": {
            "tags": []
          }
        },
        {
          "output_type": "stream",
          "text": [
            "\n"
          ],
          "name": "stdout"
        },
        {
          "output_type": "execute_result",
          "data": {
            "text/plain": [
              "<matplotlib.collections.PathCollection at 0x7f5d79a4dfd0>"
            ]
          },
          "metadata": {
            "tags": []
          },
          "execution_count": 61
        },
        {
          "output_type": "display_data",
          "data": {
            "image/png": "[encoded data removed]",
            "text/plain": [
              "<Figure size 864x864 with 1 Axes>"
            ]
          },
          "metadata": {
            "tags": [],
            "needs_background": "light"
          }
        }
      ]
    },
    {
      "cell_type": "code",
      "metadata": {
        "colab": {
          "base_uri": "https://localhost:8080/",
          "height": 749,
          "referenced_widgets": [
            "8d87f4ff039b4369a02cbed0909d5b64",
            "6fd650252d6d4902bf00d09477275276",
            "5cffa246f5c743dd91f130c117b8c934",
            "a2e57cf204c9476c95eff8edec2a1bfa",
            "fa5268a046fd4bb49ab57b51085bfc9f",
            "9cc1c1ef70c44208aba9f887e0288191",
            "fb16e462ea4d4c0e929e2670b6c64542",
            "115d90f0811f4451beb5602e1e8bbc8b"
          ]
        },
        "id": "POjJ7SiHQAbD",
        "outputId": "370dbf65-9109-4f93-8126-0b5f1e1d1b1b"
      },
      "source": [
        "chrom_len = 100\n",
        "pop_size = 4096\n",
        "obj_num = 2\n",
        "n_iters = 500\n",
        "\n",
        "griddim = (1, 1, pop_size)\n",
        "blockdim = (128, 2, 1)\n",
        "\n",
        "init_pop = np.empty((pop_size, chrom_len), dtype='int32')\n",
        "\n",
        "for i in range(pop_size):\n",
        "    ind = np.random.permutation(chrom_len)\n",
        "    init_pop[i] = ind\n",
        "    \n",
        "init_vals = np.zeros((pop_size, obj_num), dtype='int32')\n",
        "\n",
        "\n",
        "evaluate_population[griddim, blockdim](init_pop, d_distance, init_vals)\n",
        "\n",
        "nsga_ii = NSGA_II_GPU(chrom_len, pop_size, obj_num, init_pop, init_vals)\n",
        "\n",
        "plt.figure(figsize=(12,12))\n",
        "plt.scatter(solutionsAB[:, 0], solutionsAB[:, 1])\n",
        "\n",
        "for t in tqdm(range(n_iters)):\n",
        "\n",
        "    if(np.mod(t, 50) == 0):\n",
        "        current_vals = nsga_ii.get_values()\n",
        "        plt.scatter(current_vals[:, 0], current_vals[:, 1])\n",
        "\n",
        "    children = nsga_ii.generate_children(PMX, reverse_sequence_mutation)\n",
        "    children = children.astype('int32')\n",
        "\n",
        "    children_vals = np.zeros((children.shape[0], obj_num), dtype='int32')\n",
        "    evaluate_population[griddim, blockdim](children, d_distance, children_vals)\n",
        "\n",
        "    nsga_ii.replace_population(children, children_vals)\n",
        "\n",
        "current_vals = nsga_ii.get_values()\n",
        "plt.scatter(current_vals[:, 0], current_vals[:, 1])"
      ],
      "execution_count": null,
      "outputs": [
        {
          "output_type": "display_data",
          "data": {
            "application/vnd.jupyter.widget-view+json": {
              "model_id": "8d87f4ff039b4369a02cbed0909d5b64",
              "version_minor": 0,
              "version_major": 2
            },
            "text/plain": [
              "HBox(children=(FloatProgress(value=0.0, max=500.0), HTML(value='')))"
            ]
          },
          "metadata": {
            "tags": []
          }
        },
        {
          "output_type": "stream",
          "text": [
            "\n"
          ],
          "name": "stdout"
        },
        {
          "output_type": "display_data",
          "data": {
            "image/png": "[encoded data removed]",
            "text/plain": [
              "<Figure size 864x864 with 1 Axes>"
            ]
          },
          "metadata": {
            "tags": [],
            "needs_background": "light"
          }
        }
      ]
    },
    {
      "cell_type": "markdown",
      "metadata": {
        "id": "ckeyI-Z8uu5v"
      },
      "source": [
        "Optymalizacja kodu CPU:  \n",
        "2.5 h -> 1h"
      ]
    },
    {
      "cell_type": "code",
      "metadata": {
        "colab": {
          "base_uri": "https://localhost:8080/",
          "height": 673,
          "referenced_widgets": [
            "5ce1b111ed044c85b5e9f3cf49e0b217",
            "cce4ed22a0514a94b5571cb74f138900",
            "3eeac1a3cf6e40f2beac25bea6487d4f",
            "1101943bec0b4e20974b180117fe4f0f",
            "c15d61eb70d54c7fab6a0fff173a1bc2",
            "cecdaa606fa44fb18808191b1de00fe4",
            "95d7390112584219ba1936be3e91a086",
            "4f9b81ab036342b08b406e96eaa28c18"
          ]
        },
        "id": "DqEIMy5tRgo5",
        "outputId": "e45bcd94-a317-49c8-ac49-b885a871d23f"
      },
      "source": [
        "chrom_len = 100\n",
        "pop_size = 16384\n",
        "obj_num = 2\n",
        "n_iters = 500\n",
        "\n",
        "griddim = (1, 1, pop_size)\n",
        "blockdim = (128, 2, 1)\n",
        "\n",
        "init_pop = generate_population(pop_size, chrom_len)\n",
        "    \n",
        "init_vals = np.zeros((pop_size, obj_num), dtype='int32')\n",
        "evaluate_population[griddim, blockdim](init_pop, d_distance, init_vals)\n",
        "\n",
        "nsga_ii = NSGA_II_GPU(chrom_len, pop_size, obj_num, init_pop, init_vals)\n",
        "\n",
        "plt.figure(figsize=(12,12))\n",
        "plt.scatter(solutionsAB[:, 0], solutionsAB[:, 1])\n",
        "\n",
        "for t in tqdm(range(n_iters)):\n",
        "\n",
        "    if(np.mod(t, 50) == 0):\n",
        "        current_vals = nsga_ii.get_values()\n",
        "        plt.scatter(current_vals[:, 0], current_vals[:, 1])\n",
        "\n",
        "    children = nsga_ii.generate_children(PMX, reverse_sequence_mutation)\n",
        "\n",
        "    children_vals = np.zeros((children.shape[0], obj_num), dtype='int32')\n",
        "    evaluate_population[griddim, blockdim](children, d_distance, children_vals)\n",
        "\n",
        "    nsga_ii.replace_population(children, children_vals)\n",
        "\n",
        "current_vals = nsga_ii.get_values()\n",
        "plt.scatter(current_vals[:, 0], current_vals[:, 1])"
      ],
      "execution_count": null,
      "outputs": [
        {
          "output_type": "display_data",
          "data": {
            "application/vnd.jupyter.widget-view+json": {
              "model_id": "5ce1b111ed044c85b5e9f3cf49e0b217",
              "version_minor": 0,
              "version_major": 2
            },
            "text/plain": [
              "HBox(children=(FloatProgress(value=0.0, max=500.0), HTML(value='')))"
            ]
          },
          "metadata": {
            "tags": []
          }
        },
        {
          "output_type": "stream",
          "text": [
            "\n"
          ],
          "name": "stdout"
        },
        {
          "output_type": "execute_result",
          "data": {
            "text/plain": [
              "<matplotlib.collections.PathCollection at 0x7fe91570a128>"
            ]
          },
          "metadata": {
            "tags": []
          },
          "execution_count": 33
        },
        {
          "output_type": "display_data",
          "data": {
            "image/png": "[encoded data removed]",
            "text/plain": [
              "<Figure size 864x864 with 1 Axes>"
            ]
          },
          "metadata": {
            "tags": [],
            "needs_background": "light"
          }
        }
      ]
    },
    {
      "cell_type": "markdown",
      "metadata": {
        "id": "gWijp-bztrsH"
      },
      "source": [
        "Optymalizacje CPU dla 32k:  \n",
        "Dwukrotne przyspieszenie\n",
        "* refecatoring PMX\n",
        "* selekcja: użycie np.random.randint zamiast np.random.choice (16s/it -> 0.5s/it)\n"
      ]
    },
    {
      "cell_type": "code",
      "metadata": {
        "colab": {
          "base_uri": "https://localhost:8080/",
          "height": 768,
          "referenced_widgets": [
            "984e142a11044d39ada9af249f1842d9",
            "13a27459472249999fcb20b784b8f7cf",
            "1c0e84761efb49c3b965460fb0b8a1b5",
            "c671c14d44454164bcd41df891b4ea49",
            "4e978339c62e419c9c1ff5cf6d6303f1",
            "34a30c3df0844326b98b151ca98113b2",
            "33fdd0eae0904228b848e1e9af9a4c26",
            "ea22af2df569428e88ba861f9dfe8c57"
          ]
        },
        "id": "tmDjJkh4Olv0",
        "outputId": "81b67b1a-d8a4-4481-d47a-f379d21386e4"
      },
      "source": [
        "chrom_len = 100\n",
        "pop_size = 32768\n",
        "obj_num = 2\n",
        "n_iters = 500\n",
        "\n",
        "griddim = (1, 1, pop_size//2)\n",
        "blockdim = (128, 2, 2)\n",
        "\n",
        "init_pop = generate_population(pop_size, chrom_len)\n",
        "    \n",
        "init_vals = np.zeros((pop_size, obj_num), dtype='int32')\n",
        "evaluate_population[griddim, blockdim](init_pop, d_distance, init_vals)\n",
        "\n",
        "nsga_ii = NSGA_II_GPU(chrom_len, pop_size, obj_num, init_pop, init_vals)\n",
        "\n",
        "plt.figure(figsize=(12,12))\n",
        "plt.scatter(solutionsAB[:, 0], solutionsAB[:, 1])\n",
        "\n",
        "for t in tqdm(range(n_iters)):\n",
        "\n",
        "    if(np.mod(t, 50) == 0):\n",
        "        current_vals = nsga_ii.get_values()\n",
        "        plt.scatter(current_vals[:, 0], current_vals[:, 1])\n",
        "\n",
        "    children = nsga_ii.generate_children(PMX, reverse_sequence_mutation)\n",
        "\n",
        "    children_vals = np.zeros((children.shape[0], obj_num), dtype='int32')\n",
        "    evaluate_population[griddim, blockdim](children, d_distance, children_vals)\n",
        "\n",
        "    nsga_ii.replace_population(children, children_vals)\n",
        "\n",
        "current_vals = nsga_ii.get_values()\n",
        "plt.scatter(current_vals[:, 0], current_vals[:, 1])"
      ],
      "execution_count": 13,
      "outputs": [
        {
          "output_type": "display_data",
          "data": {
            "application/vnd.jupyter.widget-view+json": {
              "model_id": "984e142a11044d39ada9af249f1842d9",
              "version_minor": 0,
              "version_major": 2
            },
            "text/plain": [
              "HBox(children=(FloatProgress(value=0.0, max=500.0), HTML(value='')))"
            ]
          },
          "metadata": {
            "tags": []
          }
        },
        {
          "output_type": "stream",
          "text": [
            "\n"
          ],
          "name": "stdout"
        },
        {
          "output_type": "execute_result",
          "data": {
            "text/plain": [
              "<matplotlib.collections.PathCollection at 0x7febe7ed43c8>"
            ]
          },
          "metadata": {
            "tags": []
          },
          "execution_count": 13
        },
        {
          "output_type": "display_data",
          "data": {
            "image/png": "[encoded data removed]",
            "text/plain": [
              "<Figure size 864x864 with 1 Axes>"
            ]
          },
          "metadata": {
            "tags": [],
            "needs_background": "light"
          }
        }
      ]
    },
    {
      "cell_type": "code",
      "metadata": {
        "id": "SyOGeSYmOp-v",
        "outputId": "c7130d76-6813-41cc-88ee-3cca5b34a7a8",
        "colab": {
          "base_uri": "https://localhost:8080/",
          "height": 768,
          "referenced_widgets": [
            "fe39bf2274184faa84c707dc3d826c5b",
            "cfe4ff41c159465082810f1593c7b825",
            "308cecaace894cfea8df7decdf0ed6d9",
            "0abb2e3000834ef890c2d183ef46fe99",
            "0a5a9ede36cc40539ea5c4c0241d17a4",
            "0ca6c98a4d87458bb711d855102e6fb4",
            "75486a6e32744641a2fea47b98518255",
            "8feb90d2ec2e4019ac6b2b7fdcbe828d"
          ]
        }
      },
      "source": [
        "n_iters = 200\n",
        "\n",
        "plt.figure(figsize=(12,12))\n",
        "plt.scatter(solutionsAB[:, 0], solutionsAB[:, 1])\n",
        "\n",
        "for t in tqdm(range(n_iters)):\n",
        "\n",
        "    if(np.mod(t, 50) == 0):\n",
        "        current_vals = nsga_ii.get_values()\n",
        "        plt.scatter(current_vals[:, 0], current_vals[:, 1])\n",
        "\n",
        "    children = nsga_ii.generate_children(PMX, reverse_sequence_mutation)\n",
        "\n",
        "    children_vals = np.zeros((children.shape[0], obj_num), dtype='int32')\n",
        "    evaluate_population[griddim, blockdim](children, d_distance, children_vals)\n",
        "\n",
        "    nsga_ii.replace_population(children, children_vals)\n",
        "\n",
        "current_vals = nsga_ii.get_values()\n",
        "plt.scatter(current_vals[:, 0], current_vals[:, 1])"
      ],
      "execution_count": 15,
      "outputs": [
        {
          "output_type": "display_data",
          "data": {
            "application/vnd.jupyter.widget-view+json": {
              "model_id": "fe39bf2274184faa84c707dc3d826c5b",
              "version_minor": 0,
              "version_major": 2
            },
            "text/plain": [
              "HBox(children=(FloatProgress(value=0.0, max=200.0), HTML(value='')))"
            ]
          },
          "metadata": {
            "tags": []
          }
        },
        {
          "output_type": "stream",
          "text": [
            "\n"
          ],
          "name": "stdout"
        },
        {
          "output_type": "execute_result",
          "data": {
            "text/plain": [
              "<matplotlib.collections.PathCollection at 0x7febe7348ac8>"
            ]
          },
          "metadata": {
            "tags": []
          },
          "execution_count": 15
        },
        {
          "output_type": "display_data",
          "data": {
            "image/png": "[encoded data removed]",
            "text/plain": [
              "<Figure size 864x864 with 1 Axes>"
            ]
          },
          "metadata": {
            "tags": [],
            "needs_background": "light"
          }
        }
      ]
    }
  ]
}