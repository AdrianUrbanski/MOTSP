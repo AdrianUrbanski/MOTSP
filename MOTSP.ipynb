{
  "nbformat": 4,
  "nbformat_minor": 0,
  "metadata": {
    "colab": {
      "name": "MOTSP.ipynb",
      "provenance": [],
      "collapsed_sections": [],
      "toc_visible": true
    },
    "kernelspec": {
      "name": "python3",
      "display_name": "Python 3"
    },
    "accelerator": "GPU",
    "widgets": {
      "application/vnd.jupyter.widget-state+json": {
        "8d87f4ff039b4369a02cbed0909d5b64": {
          "model_module": "@jupyter-widgets/controls",
          "model_name": "HBoxModel",
          "state": {
            "_view_name": "HBoxView",
            "_dom_classes": [],
            "_model_name": "HBoxModel",
            "_view_module": "@jupyter-widgets/controls",
            "_model_module_version": "1.5.0",
            "_view_count": null,
            "_view_module_version": "1.5.0",
            "box_style": "",
            "layout": "IPY_MODEL_6fd650252d6d4902bf00d09477275276",
            "_model_module": "@jupyter-widgets/controls",
            "children": [
              "IPY_MODEL_5cffa246f5c743dd91f130c117b8c934",
              "IPY_MODEL_a2e57cf204c9476c95eff8edec2a1bfa"
            ]
          }
        },
        "6fd650252d6d4902bf00d09477275276": {
          "model_module": "@jupyter-widgets/base",
          "model_name": "LayoutModel",
          "state": {
            "_view_name": "LayoutView",
            "grid_template_rows": null,
            "right": null,
            "justify_content": null,
            "_view_module": "@jupyter-widgets/base",
            "overflow": null,
            "_model_module_version": "1.2.0",
            "_view_count": null,
            "flex_flow": null,
            "width": null,
            "min_width": null,
            "border": null,
            "align_items": null,
            "bottom": null,
            "_model_module": "@jupyter-widgets/base",
            "top": null,
            "grid_column": null,
            "overflow_y": null,
            "overflow_x": null,
            "grid_auto_flow": null,
            "grid_area": null,
            "grid_template_columns": null,
            "flex": null,
            "_model_name": "LayoutModel",
            "justify_items": null,
            "grid_row": null,
            "max_height": null,
            "align_content": null,
            "visibility": null,
            "align_self": null,
            "height": null,
            "min_height": null,
            "padding": null,
            "grid_auto_rows": null,
            "grid_gap": null,
            "max_width": null,
            "order": null,
            "_view_module_version": "1.2.0",
            "grid_template_areas": null,
            "object_position": null,
            "object_fit": null,
            "grid_auto_columns": null,
            "margin": null,
            "display": null,
            "left": null
          }
        },
        "5cffa246f5c743dd91f130c117b8c934": {
          "model_module": "@jupyter-widgets/controls",
          "model_name": "FloatProgressModel",
          "state": {
            "_view_name": "ProgressView",
            "style": "IPY_MODEL_fa5268a046fd4bb49ab57b51085bfc9f",
            "_dom_classes": [],
            "description": "100%",
            "_model_name": "FloatProgressModel",
            "bar_style": "success",
            "max": 500,
            "_view_module": "@jupyter-widgets/controls",
            "_model_module_version": "1.5.0",
            "value": 500,
            "_view_count": null,
            "_view_module_version": "1.5.0",
            "orientation": "horizontal",
            "min": 0,
            "description_tooltip": null,
            "_model_module": "@jupyter-widgets/controls",
            "layout": "IPY_MODEL_9cc1c1ef70c44208aba9f887e0288191"
          }
        },
        "a2e57cf204c9476c95eff8edec2a1bfa": {
          "model_module": "@jupyter-widgets/controls",
          "model_name": "HTMLModel",
          "state": {
            "_view_name": "HTMLView",
            "style": "IPY_MODEL_fb16e462ea4d4c0e929e2670b6c64542",
            "_dom_classes": [],
            "description": "",
            "_model_name": "HTMLModel",
            "placeholder": "​",
            "_view_module": "@jupyter-widgets/controls",
            "_model_module_version": "1.5.0",
            "value": " 500/500 [23:36&lt;00:00,  2.83s/it]",
            "_view_count": null,
            "_view_module_version": "1.5.0",
            "description_tooltip": null,
            "_model_module": "@jupyter-widgets/controls",
            "layout": "IPY_MODEL_115d90f0811f4451beb5602e1e8bbc8b"
          }
        },
        "fa5268a046fd4bb49ab57b51085bfc9f": {
          "model_module": "@jupyter-widgets/controls",
          "model_name": "ProgressStyleModel",
          "state": {
            "_view_name": "StyleView",
            "_model_name": "ProgressStyleModel",
            "description_width": "initial",
            "_view_module": "@jupyter-widgets/base",
            "_model_module_version": "1.5.0",
            "_view_count": null,
            "_view_module_version": "1.2.0",
            "bar_color": null,
            "_model_module": "@jupyter-widgets/controls"
          }
        },
        "9cc1c1ef70c44208aba9f887e0288191": {
          "model_module": "@jupyter-widgets/base",
          "model_name": "LayoutModel",
          "state": {
            "_view_name": "LayoutView",
            "grid_template_rows": null,
            "right": null,
            "justify_content": null,
            "_view_module": "@jupyter-widgets/base",
            "overflow": null,
            "_model_module_version": "1.2.0",
            "_view_count": null,
            "flex_flow": null,
            "width": null,
            "min_width": null,
            "border": null,
            "align_items": null,
            "bottom": null,
            "_model_module": "@jupyter-widgets/base",
            "top": null,
            "grid_column": null,
            "overflow_y": null,
            "overflow_x": null,
            "grid_auto_flow": null,
            "grid_area": null,
            "grid_template_columns": null,
            "flex": null,
            "_model_name": "LayoutModel",
            "justify_items": null,
            "grid_row": null,
            "max_height": null,
            "align_content": null,
            "visibility": null,
            "align_self": null,
            "height": null,
            "min_height": null,
            "padding": null,
            "grid_auto_rows": null,
            "grid_gap": null,
            "max_width": null,
            "order": null,
            "_view_module_version": "1.2.0",
            "grid_template_areas": null,
            "object_position": null,
            "object_fit": null,
            "grid_auto_columns": null,
            "margin": null,
            "display": null,
            "left": null
          }
        },
        "fb16e462ea4d4c0e929e2670b6c64542": {
          "model_module": "@jupyter-widgets/controls",
          "model_name": "DescriptionStyleModel",
          "state": {
            "_view_name": "StyleView",
            "_model_name": "DescriptionStyleModel",
            "description_width": "",
            "_view_module": "@jupyter-widgets/base",
            "_model_module_version": "1.5.0",
            "_view_count": null,
            "_view_module_version": "1.2.0",
            "_model_module": "@jupyter-widgets/controls"
          }
        },
        "115d90f0811f4451beb5602e1e8bbc8b": {
          "model_module": "@jupyter-widgets/base",
          "model_name": "LayoutModel",
          "state": {
            "_view_name": "LayoutView",
            "grid_template_rows": null,
            "right": null,
            "justify_content": null,
            "_view_module": "@jupyter-widgets/base",
            "overflow": null,
            "_model_module_version": "1.2.0",
            "_view_count": null,
            "flex_flow": null,
            "width": null,
            "min_width": null,
            "border": null,
            "align_items": null,
            "bottom": null,
            "_model_module": "@jupyter-widgets/base",
            "top": null,
            "grid_column": null,
            "overflow_y": null,
            "overflow_x": null,
            "grid_auto_flow": null,
            "grid_area": null,
            "grid_template_columns": null,
            "flex": null,
            "_model_name": "LayoutModel",
            "justify_items": null,
            "grid_row": null,
            "max_height": null,
            "align_content": null,
            "visibility": null,
            "align_self": null,
            "height": null,
            "min_height": null,
            "padding": null,
            "grid_auto_rows": null,
            "grid_gap": null,
            "max_width": null,
            "order": null,
            "_view_module_version": "1.2.0",
            "grid_template_areas": null,
            "object_position": null,
            "object_fit": null,
            "grid_auto_columns": null,
            "margin": null,
            "display": null,
            "left": null
          }
        },
        "9da49c61a86b4a17b616bca017406d30": {
          "model_module": "@jupyter-widgets/controls",
          "model_name": "HBoxModel",
          "state": {
            "_view_name": "HBoxView",
            "_dom_classes": [],
            "_model_name": "HBoxModel",
            "_view_module": "@jupyter-widgets/controls",
            "_model_module_version": "1.5.0",
            "_view_count": null,
            "_view_module_version": "1.5.0",
            "box_style": "",
            "layout": "IPY_MODEL_53982c28bdfc425db4868d1feb02fb8e",
            "_model_module": "@jupyter-widgets/controls",
            "children": [
              "IPY_MODEL_cbcbf0fb29a4412d99331a2d2b297b32",
              "IPY_MODEL_66b5fda0811540e2811e2fb82b40287b"
            ]
          }
        },
        "53982c28bdfc425db4868d1feb02fb8e": {
          "model_module": "@jupyter-widgets/base",
          "model_name": "LayoutModel",
          "state": {
            "_view_name": "LayoutView",
            "grid_template_rows": null,
            "right": null,
            "justify_content": null,
            "_view_module": "@jupyter-widgets/base",
            "overflow": null,
            "_model_module_version": "1.2.0",
            "_view_count": null,
            "flex_flow": null,
            "width": null,
            "min_width": null,
            "border": null,
            "align_items": null,
            "bottom": null,
            "_model_module": "@jupyter-widgets/base",
            "top": null,
            "grid_column": null,
            "overflow_y": null,
            "overflow_x": null,
            "grid_auto_flow": null,
            "grid_area": null,
            "grid_template_columns": null,
            "flex": null,
            "_model_name": "LayoutModel",
            "justify_items": null,
            "grid_row": null,
            "max_height": null,
            "align_content": null,
            "visibility": null,
            "align_self": null,
            "height": null,
            "min_height": null,
            "padding": null,
            "grid_auto_rows": null,
            "grid_gap": null,
            "max_width": null,
            "order": null,
            "_view_module_version": "1.2.0",
            "grid_template_areas": null,
            "object_position": null,
            "object_fit": null,
            "grid_auto_columns": null,
            "margin": null,
            "display": null,
            "left": null
          }
        },
        "cbcbf0fb29a4412d99331a2d2b297b32": {
          "model_module": "@jupyter-widgets/controls",
          "model_name": "FloatProgressModel",
          "state": {
            "_view_name": "ProgressView",
            "style": "IPY_MODEL_724767aaf50f43eeb9e1688d3ab216d6",
            "_dom_classes": [],
            "description": "100%",
            "_model_name": "FloatProgressModel",
            "bar_style": "success",
            "max": 300,
            "_view_module": "@jupyter-widgets/controls",
            "_model_module_version": "1.5.0",
            "value": 300,
            "_view_count": null,
            "_view_module_version": "1.5.0",
            "orientation": "horizontal",
            "min": 0,
            "description_tooltip": null,
            "_model_module": "@jupyter-widgets/controls",
            "layout": "IPY_MODEL_7e64ed03ec02434ea820c6bc4dc582bc"
          }
        },
        "66b5fda0811540e2811e2fb82b40287b": {
          "model_module": "@jupyter-widgets/controls",
          "model_name": "HTMLModel",
          "state": {
            "_view_name": "HTMLView",
            "style": "IPY_MODEL_c5fe1cbc6602400b90f84ced9ee641c3",
            "_dom_classes": [],
            "description": "",
            "_model_name": "HTMLModel",
            "placeholder": "​",
            "_view_module": "@jupyter-widgets/controls",
            "_model_module_version": "1.5.0",
            "value": " 300/300 [34:58&lt;00:00,  7.00s/it]",
            "_view_count": null,
            "_view_module_version": "1.5.0",
            "description_tooltip": null,
            "_model_module": "@jupyter-widgets/controls",
            "layout": "IPY_MODEL_783595dbc0fa4699b89ea4e92b2ae842"
          }
        },
        "724767aaf50f43eeb9e1688d3ab216d6": {
          "model_module": "@jupyter-widgets/controls",
          "model_name": "ProgressStyleModel",
          "state": {
            "_view_name": "StyleView",
            "_model_name": "ProgressStyleModel",
            "description_width": "initial",
            "_view_module": "@jupyter-widgets/base",
            "_model_module_version": "1.5.0",
            "_view_count": null,
            "_view_module_version": "1.2.0",
            "bar_color": null,
            "_model_module": "@jupyter-widgets/controls"
          }
        },
        "7e64ed03ec02434ea820c6bc4dc582bc": {
          "model_module": "@jupyter-widgets/base",
          "model_name": "LayoutModel",
          "state": {
            "_view_name": "LayoutView",
            "grid_template_rows": null,
            "right": null,
            "justify_content": null,
            "_view_module": "@jupyter-widgets/base",
            "overflow": null,
            "_model_module_version": "1.2.0",
            "_view_count": null,
            "flex_flow": null,
            "width": null,
            "min_width": null,
            "border": null,
            "align_items": null,
            "bottom": null,
            "_model_module": "@jupyter-widgets/base",
            "top": null,
            "grid_column": null,
            "overflow_y": null,
            "overflow_x": null,
            "grid_auto_flow": null,
            "grid_area": null,
            "grid_template_columns": null,
            "flex": null,
            "_model_name": "LayoutModel",
            "justify_items": null,
            "grid_row": null,
            "max_height": null,
            "align_content": null,
            "visibility": null,
            "align_self": null,
            "height": null,
            "min_height": null,
            "padding": null,
            "grid_auto_rows": null,
            "grid_gap": null,
            "max_width": null,
            "order": null,
            "_view_module_version": "1.2.0",
            "grid_template_areas": null,
            "object_position": null,
            "object_fit": null,
            "grid_auto_columns": null,
            "margin": null,
            "display": null,
            "left": null
          }
        },
        "c5fe1cbc6602400b90f84ced9ee641c3": {
          "model_module": "@jupyter-widgets/controls",
          "model_name": "DescriptionStyleModel",
          "state": {
            "_view_name": "StyleView",
            "_model_name": "DescriptionStyleModel",
            "description_width": "",
            "_view_module": "@jupyter-widgets/base",
            "_model_module_version": "1.5.0",
            "_view_count": null,
            "_view_module_version": "1.2.0",
            "_model_module": "@jupyter-widgets/controls"
          }
        },
        "783595dbc0fa4699b89ea4e92b2ae842": {
          "model_module": "@jupyter-widgets/base",
          "model_name": "LayoutModel",
          "state": {
            "_view_name": "LayoutView",
            "grid_template_rows": null,
            "right": null,
            "justify_content": null,
            "_view_module": "@jupyter-widgets/base",
            "overflow": null,
            "_model_module_version": "1.2.0",
            "_view_count": null,
            "flex_flow": null,
            "width": null,
            "min_width": null,
            "border": null,
            "align_items": null,
            "bottom": null,
            "_model_module": "@jupyter-widgets/base",
            "top": null,
            "grid_column": null,
            "overflow_y": null,
            "overflow_x": null,
            "grid_auto_flow": null,
            "grid_area": null,
            "grid_template_columns": null,
            "flex": null,
            "_model_name": "LayoutModel",
            "justify_items": null,
            "grid_row": null,
            "max_height": null,
            "align_content": null,
            "visibility": null,
            "align_self": null,
            "height": null,
            "min_height": null,
            "padding": null,
            "grid_auto_rows": null,
            "grid_gap": null,
            "max_width": null,
            "order": null,
            "_view_module_version": "1.2.0",
            "grid_template_areas": null,
            "object_position": null,
            "object_fit": null,
            "grid_auto_columns": null,
            "margin": null,
            "display": null,
            "left": null
          }
        },
        "7ee42e442d2d4a20b7b88a6241e3ea20": {
          "model_module": "@jupyter-widgets/controls",
          "model_name": "HBoxModel",
          "state": {
            "_view_name": "HBoxView",
            "_dom_classes": [],
            "_model_name": "HBoxModel",
            "_view_module": "@jupyter-widgets/controls",
            "_model_module_version": "1.5.0",
            "_view_count": null,
            "_view_module_version": "1.5.0",
            "box_style": "",
            "layout": "IPY_MODEL_ff9d288c1d1e493ea2ececc22b2fcba6",
            "_model_module": "@jupyter-widgets/controls",
            "children": [
              "IPY_MODEL_6f9acf85e0894b439b39c6ebca39c666",
              "IPY_MODEL_97f81172688e42b3a99dac03d8d8d17e"
            ]
          }
        },
        "ff9d288c1d1e493ea2ececc22b2fcba6": {
          "model_module": "@jupyter-widgets/base",
          "model_name": "LayoutModel",
          "state": {
            "_view_name": "LayoutView",
            "grid_template_rows": null,
            "right": null,
            "justify_content": null,
            "_view_module": "@jupyter-widgets/base",
            "overflow": null,
            "_model_module_version": "1.2.0",
            "_view_count": null,
            "flex_flow": null,
            "width": null,
            "min_width": null,
            "border": null,
            "align_items": null,
            "bottom": null,
            "_model_module": "@jupyter-widgets/base",
            "top": null,
            "grid_column": null,
            "overflow_y": null,
            "overflow_x": null,
            "grid_auto_flow": null,
            "grid_area": null,
            "grid_template_columns": null,
            "flex": null,
            "_model_name": "LayoutModel",
            "justify_items": null,
            "grid_row": null,
            "max_height": null,
            "align_content": null,
            "visibility": null,
            "align_self": null,
            "height": null,
            "min_height": null,
            "padding": null,
            "grid_auto_rows": null,
            "grid_gap": null,
            "max_width": null,
            "order": null,
            "_view_module_version": "1.2.0",
            "grid_template_areas": null,
            "object_position": null,
            "object_fit": null,
            "grid_auto_columns": null,
            "margin": null,
            "display": null,
            "left": null
          }
        },
        "6f9acf85e0894b439b39c6ebca39c666": {
          "model_module": "@jupyter-widgets/controls",
          "model_name": "FloatProgressModel",
          "state": {
            "_view_name": "ProgressView",
            "style": "IPY_MODEL_98b19382f07442eab73807862e26952b",
            "_dom_classes": [],
            "description": "  8%",
            "_model_name": "FloatProgressModel",
            "bar_style": "danger",
            "max": 300,
            "_view_module": "@jupyter-widgets/controls",
            "_model_module_version": "1.5.0",
            "value": 25,
            "_view_count": null,
            "_view_module_version": "1.5.0",
            "orientation": "horizontal",
            "min": 0,
            "description_tooltip": null,
            "_model_module": "@jupyter-widgets/controls",
            "layout": "IPY_MODEL_1b9a078e0a1c41198c7f39e67f70b06a"
          }
        },
        "97f81172688e42b3a99dac03d8d8d17e": {
          "model_module": "@jupyter-widgets/controls",
          "model_name": "HTMLModel",
          "state": {
            "_view_name": "HTMLView",
            "style": "IPY_MODEL_2d9c312435af43808820df500a1e1567",
            "_dom_classes": [],
            "description": "",
            "_model_name": "HTMLModel",
            "placeholder": "​",
            "_view_module": "@jupyter-widgets/controls",
            "_model_module_version": "1.5.0",
            "value": " 25/300 [04:11&lt;44:09,  9.63s/it]",
            "_view_count": null,
            "_view_module_version": "1.5.0",
            "description_tooltip": null,
            "_model_module": "@jupyter-widgets/controls",
            "layout": "IPY_MODEL_de8a4633c3064b66a6417cbea0aaf055"
          }
        },
        "98b19382f07442eab73807862e26952b": {
          "model_module": "@jupyter-widgets/controls",
          "model_name": "ProgressStyleModel",
          "state": {
            "_view_name": "StyleView",
            "_model_name": "ProgressStyleModel",
            "description_width": "initial",
            "_view_module": "@jupyter-widgets/base",
            "_model_module_version": "1.5.0",
            "_view_count": null,
            "_view_module_version": "1.2.0",
            "bar_color": null,
            "_model_module": "@jupyter-widgets/controls"
          }
        },
        "1b9a078e0a1c41198c7f39e67f70b06a": {
          "model_module": "@jupyter-widgets/base",
          "model_name": "LayoutModel",
          "state": {
            "_view_name": "LayoutView",
            "grid_template_rows": null,
            "right": null,
            "justify_content": null,
            "_view_module": "@jupyter-widgets/base",
            "overflow": null,
            "_model_module_version": "1.2.0",
            "_view_count": null,
            "flex_flow": null,
            "width": null,
            "min_width": null,
            "border": null,
            "align_items": null,
            "bottom": null,
            "_model_module": "@jupyter-widgets/base",
            "top": null,
            "grid_column": null,
            "overflow_y": null,
            "overflow_x": null,
            "grid_auto_flow": null,
            "grid_area": null,
            "grid_template_columns": null,
            "flex": null,
            "_model_name": "LayoutModel",
            "justify_items": null,
            "grid_row": null,
            "max_height": null,
            "align_content": null,
            "visibility": null,
            "align_self": null,
            "height": null,
            "min_height": null,
            "padding": null,
            "grid_auto_rows": null,
            "grid_gap": null,
            "max_width": null,
            "order": null,
            "_view_module_version": "1.2.0",
            "grid_template_areas": null,
            "object_position": null,
            "object_fit": null,
            "grid_auto_columns": null,
            "margin": null,
            "display": null,
            "left": null
          }
        },
        "2d9c312435af43808820df500a1e1567": {
          "model_module": "@jupyter-widgets/controls",
          "model_name": "DescriptionStyleModel",
          "state": {
            "_view_name": "StyleView",
            "_model_name": "DescriptionStyleModel",
            "description_width": "",
            "_view_module": "@jupyter-widgets/base",
            "_model_module_version": "1.5.0",
            "_view_count": null,
            "_view_module_version": "1.2.0",
            "_model_module": "@jupyter-widgets/controls"
          }
        },
        "de8a4633c3064b66a6417cbea0aaf055": {
          "model_module": "@jupyter-widgets/base",
          "model_name": "LayoutModel",
          "state": {
            "_view_name": "LayoutView",
            "grid_template_rows": null,
            "right": null,
            "justify_content": null,
            "_view_module": "@jupyter-widgets/base",
            "overflow": null,
            "_model_module_version": "1.2.0",
            "_view_count": null,
            "flex_flow": null,
            "width": null,
            "min_width": null,
            "border": null,
            "align_items": null,
            "bottom": null,
            "_model_module": "@jupyter-widgets/base",
            "top": null,
            "grid_column": null,
            "overflow_y": null,
            "overflow_x": null,
            "grid_auto_flow": null,
            "grid_area": null,
            "grid_template_columns": null,
            "flex": null,
            "_model_name": "LayoutModel",
            "justify_items": null,
            "grid_row": null,
            "max_height": null,
            "align_content": null,
            "visibility": null,
            "align_self": null,
            "height": null,
            "min_height": null,
            "padding": null,
            "grid_auto_rows": null,
            "grid_gap": null,
            "max_width": null,
            "order": null,
            "_view_module_version": "1.2.0",
            "grid_template_areas": null,
            "object_position": null,
            "object_fit": null,
            "grid_auto_columns": null,
            "margin": null,
            "display": null,
            "left": null
          }
        }
      }
    }
  },
  "cells": [
    {
      "cell_type": "markdown",
      "metadata": {
        "id": "tBamUoQERtU7"
      },
      "source": [
        "# Import"
      ]
    },
    {
      "cell_type": "code",
      "metadata": {
        "colab": {
          "base_uri": "https://localhost:8080/"
        },
        "id": "vVmMAbouOR73",
        "outputId": "fdee0436-a193-4721-e75f-56fef6f9bfd1"
      },
      "source": [
        "pip install tsplib95"
      ],
      "execution_count": 1,
      "outputs": [
        {
          "output_type": "stream",
          "text": [
            "Requirement already satisfied: tsplib95 in /usr/local/lib/python3.6/dist-packages (0.7.1)\n",
            "Requirement already satisfied: Deprecated~=1.2.9 in /usr/local/lib/python3.6/dist-packages (from tsplib95) (1.2.11)\n",
            "Requirement already satisfied: Click>=6.0 in /usr/local/lib/python3.6/dist-packages (from tsplib95) (7.1.2)\n",
            "Requirement already satisfied: networkx~=2.1 in /usr/local/lib/python3.6/dist-packages (from tsplib95) (2.5)\n",
            "Requirement already satisfied: tabulate~=0.8.7 in /usr/local/lib/python3.6/dist-packages (from tsplib95) (0.8.7)\n",
            "Requirement already satisfied: wrapt<2,>=1.10 in /usr/local/lib/python3.6/dist-packages (from Deprecated~=1.2.9->tsplib95) (1.12.1)\n",
            "Requirement already satisfied: decorator>=4.3.0 in /usr/local/lib/python3.6/dist-packages (from networkx~=2.1->tsplib95) (4.4.2)\n"
          ],
          "name": "stdout"
        }
      ]
    },
    {
      "cell_type": "code",
      "metadata": {
        "id": "OYWBw2uDhDcC"
      },
      "source": [
        "import numpy as np\n",
        "import matplotlib.pyplot as plt\n",
        "from numba import cuda\n",
        "import tsplib95\n",
        "from tqdm.auto import tqdm\n",
        "import time\n",
        "from google.colab import drive"
      ],
      "execution_count": 2,
      "outputs": []
    },
    {
      "cell_type": "code",
      "metadata": {
        "colab": {
          "base_uri": "https://localhost:8080/"
        },
        "id": "xJT36XbddDEi",
        "outputId": "623b3b07-87b5-45f6-a67c-58d9c3c74b36"
      },
      "source": [
        "drive.mount('/content/gdrive')"
      ],
      "execution_count": 3,
      "outputs": [
        {
          "output_type": "stream",
          "text": [
            "Drive already mounted at /content/gdrive; to attempt to forcibly remount, call drive.mount(\"/content/gdrive\", force_remount=True).\n"
          ],
          "name": "stdout"
        }
      ]
    },
    {
      "cell_type": "markdown",
      "metadata": {
        "id": "PJRlYNAUUqIH"
      },
      "source": [
        "# NSGA-II"
      ]
    },
    {
      "cell_type": "markdown",
      "metadata": {
        "id": "8ll4pzzGg0CQ"
      },
      "source": [
        "## CPU"
      ]
    },
    {
      "cell_type": "code",
      "metadata": {
        "id": "9fu8UOIDUud0"
      },
      "source": [
        "class NSGA_II:\n",
        "    def __init__(self, chromosome_length, population_size, objectives_number,\n",
        "                 initial_population, initial_objective_values):\n",
        "        self.chromosome_length = chromosome_length\n",
        "        self.population_size = population_size\n",
        "        self.objectives_number = objectives_number\n",
        "        if type(initial_population) is not np.ndarray:\n",
        "            raise ValueError(\"initial population must be a numpy array\")\n",
        "        if initial_population.shape != (self.population_size, self.chromosome_length):\n",
        "            raise ValueError(\"initial population must be of shape (population_size, chromosome_length)\")\n",
        "        self.current_population = initial_population\n",
        "        if type(initial_objective_values) is not np.ndarray:\n",
        "            raise ValueError(\"initial objective values must be a numpy array\")\n",
        "        if initial_objective_values.shape != (self.population_size, self.objectives_number):\n",
        "            raise ValueError(\"initial population values must be of shape (population_size, objectives_number)\")\n",
        "        self.current_objective_values = initial_objective_values\n",
        "        self.current_pareto_frontier = np.empty(self.population_size)\n",
        "        self.current_crowding_distances = np.empty(self.population_size)\n",
        "        self.replace_population(None, None)\n",
        "\n",
        "\n",
        "    def get_population(self):\n",
        "        return self.current_population\n",
        "\n",
        "\n",
        "    def get_values(self):\n",
        "        return self.current_objective_values\n",
        "\n",
        "\n",
        "    def non_dominated_sort(self, objective_values):\n",
        "\n",
        "        def dominates(vals1, vals2):\n",
        "            return np.all(vals1 <= vals2) and np.any(vals1 < vals2)\n",
        "\n",
        "        size = objective_values.shape[0]\n",
        "        pareto_frontier = np.empty(size, dtype=int)\n",
        "        current_frontier_number = 1\n",
        "        current_frontier_members = []\n",
        "        # number of solutions dominating p\n",
        "        dominating_count = np.zeros(size, dtype=int)\n",
        "        # set of solutions dominated by p\n",
        "        dominated = [None] * size \n",
        "\n",
        "        for p in range(size):\n",
        "            dominated[p] = []\n",
        "            for q in range(size):\n",
        "                if dominates(objective_values[p], objective_values[q]):\n",
        "                    dominated[p].append(q)\n",
        "                elif dominates(objective_values[q], objective_values[p]):\n",
        "                    dominating_count[p] += 1\n",
        "            if dominating_count[p] == 0:\n",
        "                pareto_frontier[p] = current_frontier_number\n",
        "                current_frontier_members.append(p)\n",
        "\n",
        "        while current_frontier_members != []:\n",
        "            current_frontier_number += 1\n",
        "            new_frontier_members = []\n",
        "            for p in current_frontier_members:\n",
        "                for q in dominated[p]:\n",
        "                    dominating_count[q] -= 1\n",
        "                    if dominating_count[q] == 0:\n",
        "                        pareto_frontier[q] = current_frontier_number\n",
        "                        new_frontier_members.append(q)\n",
        "            current_frontier_members = new_frontier_members\n",
        "        \n",
        "        return pareto_frontier\n",
        "\n",
        "\n",
        "    def assign_crowding_distance(self, objective_values):\n",
        "        size = objective_values.shape[0]\n",
        "        distance = np.zeros(size)\n",
        "        for current_objective in range(self.objectives_number):\n",
        "            current_objective_values = objective_values[:, current_objective]\n",
        "            sorted_indices = np.argsort(current_objective_values)\n",
        "            current_objective_values_diff = current_objective_values[sorted_indices[-1]] - current_objective_values[sorted_indices[0]]\n",
        "            if current_objective_values_diff == 0:\n",
        "                continue\n",
        "            distance[sorted_indices[0]], distance[sorted_indices[-1]] = np.inf, np.inf\n",
        "            for i in range(1, size-1):\n",
        "                distance[sorted_indices[i]] += ((current_objective_values[sorted_indices[i+1]] - current_objective_values[sorted_indices[i-1]]) /\n",
        "                                                current_objective_values_diff)\n",
        "        return distance\n",
        "\n",
        "\n",
        "    def generate_children(self, crossover_operator, mutation_operator,\n",
        "                          crossover_probability = 0.95, mutation_probability = 0.25,\n",
        "                          number_of_offspring = None):\n",
        "\n",
        "        def compare(p, q):\n",
        "            if self.current_pareto_frontier[p] == self.current_pareto_frontier[q]:\n",
        "                return self.current_crowding_distances[p] > self.current_crowding_distances[q]\n",
        "            return self.current_pareto_frontier[p] > self.current_pareto_frontier[q]\n",
        "\n",
        "        if number_of_offspring is None:\n",
        "            number_of_offspring = self.population_size\n",
        "\n",
        "        # selecting parent indices by the binary tournament method\n",
        "        parent_indices = np.empty(number_of_offspring, dtype=np.int64)\n",
        "        for i in range(number_of_offspring):\n",
        "            candidates = np.random.choice(self.population_size, 2, False)\n",
        "            if compare(candidates[0], candidates[1]):\n",
        "                parent_indices[i] = candidates[0]\n",
        "            else:\n",
        "                parent_indices[i] = candidates[1]\n",
        "\n",
        "        # creating children population\n",
        "        children_population = np.empty((number_of_offspring, self.chromosome_length), dtype='int32')\n",
        "        for i in range(number_of_offspring//2):\n",
        "            if np.random.random() < crossover_probability:\n",
        "                children_population[2*i], children_population[2*i+1] = crossover_operator(self.current_population[parent_indices[2*i]].copy(), self.current_population[parent_indices[2*i+1]].copy())\n",
        "            else:\n",
        "                children_population[2*i], children_population[2*i+1] = self.current_population[parent_indices[2*i]].copy(), self.current_population[parent_indices[2*i+1]].copy()\n",
        "        if np.mod(number_of_offspring, 2) == 1:\n",
        "            children_population[-1] = self.current_population[parent_indices[-1]]\n",
        "\n",
        "        # mutating children population\n",
        "        for i in range(number_of_offspring):\n",
        "            if np.random.random() < mutation_probability:\n",
        "                children_population[i] = mutation_operator(children_population[i])\n",
        "\n",
        "        return children_population\n",
        "\n",
        "\n",
        "    def replace_population(self, children_population, children_objective_values):\n",
        "\n",
        "        if(children_population is None and children_objective_values is None):\n",
        "            combined_population = self.current_population\n",
        "            combined_objective_values = self.current_objective_values\n",
        "        else:\n",
        "            combined_population = np.vstack((self.current_population, children_population))\n",
        "            combined_objective_values = np.vstack((self.current_objective_values, children_objective_values))\n",
        "\n",
        "        combined_pareto_frontier = self.non_dominated_sort(combined_objective_values)\n",
        "\n",
        "        positions = np.argsort(combined_pareto_frontier)\n",
        "\n",
        "        combined_population = combined_population[positions]\n",
        "        combined_objective_values = combined_objective_values[positions]\n",
        "        combined_pareto_frontier = combined_pareto_frontier[positions]\n",
        "\n",
        "        # assign crowding distance and select subset of last frontier\n",
        "        found_population_size = 0\n",
        "        current_frontier_number = 1\n",
        "        current_frontier_lb, current_frontier_rb = (np.searchsorted(combined_pareto_frontier, current_frontier_number),\n",
        "                                                    np.searchsorted(combined_pareto_frontier, current_frontier_number, side='right'))\n",
        "        current_frontier_size = current_frontier_rb - current_frontier_lb\n",
        "        while found_population_size + current_frontier_size < self.population_size:\n",
        "            found_population_size += current_frontier_size\n",
        "            current_frontier_distances = self.assign_crowding_distance(combined_objective_values[current_frontier_lb : current_frontier_rb])\n",
        "            self.current_crowding_distances[current_frontier_lb : current_frontier_rb] = current_frontier_distances\n",
        "            current_frontier_number += 1\n",
        "            current_frontier_lb, current_frontier_rb = (np.searchsorted(combined_pareto_frontier, current_frontier_number),\n",
        "                                                        np.searchsorted(combined_pareto_frontier, current_frontier_number, side='right'))\n",
        "            current_frontier_size = current_frontier_rb - current_frontier_lb\n",
        "\n",
        "        current_frontier_distances = self.assign_crowding_distance(combined_objective_values[current_frontier_lb : current_frontier_rb])\n",
        "        last_frontier_taken_indices = np.argsort(current_frontier_distances)[::-1][:self.population_size - found_population_size]\n",
        "\n",
        "        combined_population[current_frontier_lb : self.population_size] = combined_population[last_frontier_taken_indices]\n",
        "        combined_objective_values[current_frontier_lb : self.population_size] = combined_objective_values[last_frontier_taken_indices]\n",
        "        self.current_crowding_distances[current_frontier_lb : self.population_size] = current_frontier_distances[last_frontier_taken_indices]\n",
        "\n",
        "        self.current_population = combined_population[:self.population_size]\n",
        "        self.current_objective_values = combined_objective_values[:self.population_size]\n",
        "        self.current_pareto_frontier = combined_pareto_frontier[:self.population_size]\n",
        "\n",
        "        return True"
      ],
      "execution_count": 21,
      "outputs": []
    },
    {
      "cell_type": "markdown",
      "metadata": {
        "id": "K6K0Myc9gx05"
      },
      "source": [
        "## GPU"
      ]
    },
    {
      "cell_type": "code",
      "metadata": {
        "id": "m8b8cM9RhFMr"
      },
      "source": [
        "@cuda.jit\n",
        "def check_domination(pop_vals, dominated, dom_count):\n",
        "    q, p = cuda.grid(2)\n",
        "\n",
        "    pop_size = pop_vals.shape[0]\n",
        "    if (p >= pop_size) or (q >= pop_size):\n",
        "        return\n",
        "\n",
        "    if (pop_vals[p][0] <= pop_vals[q][0] and pop_vals[p][1] <= pop_vals[q][1] and\n",
        "        (pop_vals[p][0] < pop_vals[q][0] or pop_vals[p][1] < pop_vals[q][1])):\n",
        "        dominated[p, q] = 1\n",
        "\n",
        "    elif (pop_vals[q][0] <= pop_vals[p][0] and pop_vals[q][1] <= pop_vals[p][1] and\n",
        "            (pop_vals[q][0] < pop_vals[p][0] or pop_vals[q][1] < pop_vals[p][1])):\n",
        "        cuda.atomic.add(dom_count, p, 1)\n",
        "\n",
        "\n",
        "@cuda.jit\n",
        "def find_first_frontier(dom_count, frontier, rank):\n",
        "    p = cuda.grid(1)\n",
        "    if dom_count[p] == 0:\n",
        "        frontier[p] = 1\n",
        "        rank[p] = 1\n",
        "\n",
        "\n",
        "@cuda.jit\n",
        "def remove_current_frontier(dominated, dom_count, current_rank,\n",
        "                            current_frontier, next_frontier, rank):\n",
        "    q, p = cuda.grid(2)\n",
        "\n",
        "    pop_size = dominated.shape[0]\n",
        "    if (p >= pop_size) or (q >= pop_size) or current_frontier[p] == 0:\n",
        "        return\n",
        "    \n",
        "    if dominated[p, q] == 1:\n",
        "        if cuda.atomic.add(dom_count, q, -1) == 1:\n",
        "            rank[q] = current_rank\n",
        "            next_frontier[q] = 1"
      ],
      "execution_count": 61,
      "outputs": []
    },
    {
      "cell_type": "code",
      "metadata": {
        "id": "pMHBapX2hFMt"
      },
      "source": [
        "class NSGA_II_GPU:\n",
        "    def __init__(self, chromosome_length, population_size, objectives_number,\n",
        "                 initial_population, initial_objective_values):\n",
        "        self.chromosome_length = chromosome_length\n",
        "        self.population_size = population_size\n",
        "        self.objectives_number = objectives_number\n",
        "        if type(initial_population) is not np.ndarray:\n",
        "            raise ValueError(\"initial population must be a numpy array\")\n",
        "        if initial_population.shape != (self.population_size, self.chromosome_length):\n",
        "            raise ValueError(\"initial population must be of shape (population_size, chromosome_length)\")\n",
        "        self.current_population = initial_population\n",
        "        if type(initial_objective_values) is not np.ndarray:\n",
        "            raise ValueError(\"initial objective values must be a numpy array\")\n",
        "        if initial_objective_values.shape != (self.population_size, self.objectives_number):\n",
        "            raise ValueError(\"initial population values must be of shape (population_size, objectives_number)\")\n",
        "        self.current_objective_values = initial_objective_values\n",
        "        self.current_pareto_frontier = np.empty(self.population_size)\n",
        "        self.current_crowding_distances = np.empty(self.population_size)\n",
        "        self.replace_population(None, None)\n",
        "\n",
        "\n",
        "    def get_population(self):\n",
        "        return self.current_population\n",
        "\n",
        "\n",
        "    def get_values(self):\n",
        "        return self.current_objective_values\n",
        "\n",
        "\n",
        "    def non_dominated_sort(self, pop_vals):\n",
        "\n",
        "        def is_not_empty(frontier):\n",
        "            return np.any(frontier == 1)\n",
        "\n",
        "        pop_size = pop_vals.shape[0]\n",
        "\n",
        "        current_frontier = np.zeros(pop_size, dtype='int32')\n",
        "        next_frontier = np.zeros(pop_size, dtype='int32')\n",
        "        current_rank = 1\n",
        "\n",
        "        dom = np.zeros((pop_size, pop_size), dtype='int32')\n",
        "        dom_count = np.zeros(pop_size, dtype='int32')\n",
        "        rank = np.zeros(pop_size, dtype='int32')\n",
        "\n",
        "        d_dom = cuda.to_device(dom)\n",
        "        d_dom_count = cuda.to_device(dom_count)\n",
        "        d_rank = cuda.to_device(rank)\n",
        "\n",
        "        griddim  = (max(pop_size//32, 1), max(pop_size//32, 1))\n",
        "        blockdim = (32, 32)\n",
        "\n",
        "        check_domination[griddim, blockdim](pop_vals, d_dom, d_dom_count)\n",
        "        find_first_frontier[max(pop_size//1024, 1), 1024](d_dom_count, current_frontier, d_rank)\n",
        "\n",
        "        while(is_not_empty(current_frontier)):\n",
        "            next_frontier = np.zeros(pop_size)\n",
        "            current_rank += 1\n",
        "            remove_current_frontier[griddim, blockdim](d_dom, d_dom_count, current_rank,\n",
        "                                                        current_frontier, next_frontier, d_rank)\n",
        "            current_frontier = next_frontier\n",
        "\n",
        "        rank = d_rank.copy_to_host()\n",
        "        return rank\n",
        "\n",
        "\n",
        "    def assign_crowding_distance(self, objective_values):\n",
        "        size = objective_values.shape[0]\n",
        "        distance = np.zeros(size)\n",
        "        for current_objective in range(self.objectives_number):\n",
        "            current_objective_values = objective_values[:, current_objective]\n",
        "            sorted_indices = np.argsort(current_objective_values)\n",
        "            current_objective_values_diff = current_objective_values[sorted_indices[-1]] - current_objective_values[sorted_indices[0]]\n",
        "            if current_objective_values_diff == 0:\n",
        "                continue\n",
        "            distance[sorted_indices[0]], distance[sorted_indices[-1]] = np.inf, np.inf\n",
        "            for i in range(1, size-1):\n",
        "                distance[sorted_indices[i]] += ((current_objective_values[sorted_indices[i+1]] - current_objective_values[sorted_indices[i-1]]) /\n",
        "                                                current_objective_values_diff)\n",
        "        return distance\n",
        "\n",
        "\n",
        "    def generate_children(self, crossover_operator, mutation_operator,\n",
        "                          crossover_probability = 0.95, mutation_probability = 0.25,\n",
        "                          number_of_offspring = None):\n",
        "\n",
        "        def compare(p, q):\n",
        "            if self.current_pareto_frontier[p] == self.current_pareto_frontier[q]:\n",
        "                return self.current_crowding_distances[p] > self.current_crowding_distances[q]\n",
        "            return self.current_pareto_frontier[p] > self.current_pareto_frontier[q]\n",
        "\n",
        "        if number_of_offspring is None:\n",
        "            number_of_offspring = self.population_size\n",
        "\n",
        "        # selecting parent indices by the binary tournament method\n",
        "        parent_indices = np.empty(number_of_offspring, dtype=np.int64)\n",
        "        for i in range(number_of_offspring):\n",
        "            candidates = np.random.choice(self.population_size, 2, False)\n",
        "            if compare(candidates[0], candidates[1]):\n",
        "                parent_indices[i] = candidates[0]\n",
        "            else:\n",
        "                parent_indices[i] = candidates[1]\n",
        "\n",
        "        # creating children population\n",
        "        children_population = np.empty((number_of_offspring, self.chromosome_length), dtype='int32')\n",
        "        for i in range(number_of_offspring//2):\n",
        "            if np.random.random() < crossover_probability:\n",
        "                children_population[2*i], children_population[2*i+1] = crossover_operator(self.current_population[parent_indices[2*i]].copy(), self.current_population[parent_indices[2*i+1]].copy())\n",
        "            else:\n",
        "                children_population[2*i], children_population[2*i+1] = self.current_population[parent_indices[2*i]].copy(), self.current_population[parent_indices[2*i+1]].copy()\n",
        "        if np.mod(number_of_offspring, 2) == 1:\n",
        "            children_population[-1] = self.current_population[parent_indices[-1]]\n",
        "\n",
        "        # mutating children population\n",
        "        for i in range(number_of_offspring):\n",
        "            if np.random.random() < mutation_probability:\n",
        "                children_population[i] = mutation_operator(children_population[i])\n",
        "\n",
        "        return children_population\n",
        "\n",
        "\n",
        "    def replace_population(self, children_population, children_objective_values):\n",
        "\n",
        "        if(children_population is None and children_objective_values is None):\n",
        "            combined_population = self.current_population\n",
        "            combined_objective_values = self.current_objective_values\n",
        "        else:\n",
        "            combined_population = np.vstack((self.current_population, children_population))\n",
        "            combined_objective_values = np.vstack((self.current_objective_values, children_objective_values))\n",
        "\n",
        "        combined_pareto_frontier = self.non_dominated_sort(combined_objective_values)\n",
        "\n",
        "        positions = np.argsort(combined_pareto_frontier)\n",
        "\n",
        "        combined_population = combined_population[positions]\n",
        "        combined_objective_values = combined_objective_values[positions]\n",
        "        combined_pareto_frontier = combined_pareto_frontier[positions]\n",
        "\n",
        "        # assign crowding distance and select subset of last frontier\n",
        "        found_population_size = 0\n",
        "        current_frontier_number = 1\n",
        "        current_frontier_lb, current_frontier_rb = (np.searchsorted(combined_pareto_frontier, current_frontier_number),\n",
        "                                                    np.searchsorted(combined_pareto_frontier, current_frontier_number, side='right'))\n",
        "        current_frontier_size = current_frontier_rb - current_frontier_lb\n",
        "        while found_population_size + current_frontier_size < self.population_size:\n",
        "            found_population_size += current_frontier_size\n",
        "            current_frontier_distances = self.assign_crowding_distance(combined_objective_values[current_frontier_lb : current_frontier_rb])\n",
        "            self.current_crowding_distances[current_frontier_lb : current_frontier_rb] = current_frontier_distances\n",
        "            current_frontier_number += 1\n",
        "            current_frontier_lb, current_frontier_rb = (np.searchsorted(combined_pareto_frontier, current_frontier_number),\n",
        "                                                        np.searchsorted(combined_pareto_frontier, current_frontier_number, side='right'))\n",
        "            current_frontier_size = current_frontier_rb - current_frontier_lb\n",
        "\n",
        "        current_frontier_distances = self.assign_crowding_distance(combined_objective_values[current_frontier_lb : current_frontier_rb])\n",
        "        last_frontier_taken_indices = np.argsort(current_frontier_distances)[::-1][:self.population_size - found_population_size]\n",
        "\n",
        "        combined_population[current_frontier_lb : self.population_size] = combined_population[last_frontier_taken_indices]\n",
        "        combined_objective_values[current_frontier_lb : self.population_size] = combined_objective_values[last_frontier_taken_indices]\n",
        "        self.current_crowding_distances[current_frontier_lb : self.population_size] = current_frontier_distances[last_frontier_taken_indices]\n",
        "\n",
        "        self.current_population = combined_population[:self.population_size]\n",
        "        self.current_objective_values = combined_objective_values[:self.population_size]\n",
        "        self.current_pareto_frontier = combined_pareto_frontier[:self.population_size]\n",
        "\n",
        "        return True"
      ],
      "execution_count": 27,
      "outputs": []
    },
    {
      "cell_type": "markdown",
      "metadata": {
        "id": "GU6j35CjNeEO"
      },
      "source": [
        "# MOTSP"
      ]
    },
    {
      "cell_type": "markdown",
      "metadata": {
        "id": "IFtVizfENgho"
      },
      "source": [
        "## Operatory krzyżowania"
      ]
    },
    {
      "cell_type": "code",
      "metadata": {
        "id": "fPPYskZNKRxH"
      },
      "source": [
        "def PMX(ind1, ind2):\n",
        "\n",
        "    def getIdx(val, arr):\n",
        "        result = np.where(arr == val)\n",
        "        return result[0][0]\n",
        "\n",
        "    a = np.random.choice(len(ind1), 2, False)\n",
        "    i, j = a.min(), a.max()+1\n",
        "    swath1 = ind1[i:j]\n",
        "    swath2 = ind2[i:j]\n",
        "\n",
        "    map = {}\n",
        "    for chrom in swath1:\n",
        "        if chrom in swath2:\n",
        "            continue\n",
        "        else:\n",
        "            paired = chrom\n",
        "            while(paired in swath1):\n",
        "                paired = swath2[getIdx(paired, swath1)]\n",
        "            map[paired] = chrom\n",
        "            map[chrom] = paired\n",
        "    oldInd1, oldInd2 = ind1, ind2\n",
        "\n",
        "    for idx in range(len(ind1)):\n",
        "        chrom = ind1[idx]\n",
        "        if (chrom in swath2) and (chrom in map):\n",
        "            ind1[idx] = map[chrom]\n",
        "    ind1[i:j] = swath2\n",
        "\n",
        "    for idx in range(len(ind1)):\n",
        "        chrom = ind2[idx]\n",
        "        if (chrom in swath1) and (chrom in map):\n",
        "            ind2[idx] = map[chrom]\n",
        "    ind2[i:j] = swath1\n",
        "\n",
        "    return ind1, ind2\n",
        "\n",
        "\n",
        "def OX(ind1, ind2):\n",
        "    a = np.random.choice(len(ind1), 2, False)\n",
        "    i, j = a.min(), a.max()+1\n",
        "    swath1 = ind1[i:j]\n",
        "    swath2 = ind2[i:j]\n",
        "    \n",
        "    rest2 = np.array([chrom for chrom in ind1 if chrom not in swath2])\n",
        "    rest1 = np.array([chrom for chrom in ind2 if chrom not in swath1])\n",
        "    \n",
        "    ind1 = np.concatenate((rest2[0:i], swath2, rest2[i:]))\n",
        "    ind2 = np.concatenate((rest1[0:i], swath1, rest1[i:]))\n",
        "    \n",
        "    return ind1, ind2\n",
        "\n",
        "\n",
        "def CX(ind1, ind2):\n",
        "\n",
        "    def getIdx(val, arr):\n",
        "        result = np.where(arr == val)\n",
        "        return result[0][0]\n",
        "        \n",
        "    def color_cycle(idx):\n",
        "        while cycles[idx] == 0 :\n",
        "            cycles[idx] = color\n",
        "            idx = getIdx(ind2[idx], ind1)\n",
        "\n",
        "    cycles = np.zeros(len(ind1))\n",
        "    color = 1\n",
        "    for idx in range(len(ind1)):\n",
        "        if cycles[idx] == 0 :\n",
        "            color_cycle(idx)\n",
        "            color += 1\n",
        "\n",
        "    mask = (cycles%2).astype(bool)\n",
        "\n",
        "\n",
        "    child1, child2 = np.zeros(len(ind1)), np.zeros(len(ind1))\n",
        "    child1[mask], child2[mask] = ind1[mask], ind2[mask]\n",
        "    neg = np.logical_not\n",
        "    child1[neg(mask)], child2[neg(mask)] = ind2[neg(mask)], ind1[neg(mask)]\n",
        "    \n",
        "    return child1, child2"
      ],
      "execution_count": 4,
      "outputs": []
    },
    {
      "cell_type": "markdown",
      "metadata": {
        "id": "sqHspmRbNpVS"
      },
      "source": [
        "## Operatory mutacji"
      ]
    },
    {
      "cell_type": "code",
      "metadata": {
        "id": "uTJ8nnjcrKEY"
      },
      "source": [
        "def reverse_sequence_mutation(p):\n",
        "    a = np.random.choice(len(p), 2, False)\n",
        "    i, j = a.min(), a.max()\n",
        "    q = p.copy()\n",
        "    q[i:j+1] = q[i:j+1][::-1]\n",
        "    return q\n",
        "\n",
        "def element_transposition_mutation(p):\n",
        "    a = np.random.choice(len(p), 2, False)\n",
        "    i, j = a.min(), a.max()\n",
        "    q = p.copy()\n",
        "    q[i], q[j] = q[j], q[i]\n",
        "    return q\n",
        "\n",
        "def insert_mutation(p):\n",
        "    a = np.random.choice(len(p), 2, False)\n",
        "    i, j = a.min(), a.max()\n",
        "    q = p.copy()\n",
        "    q = np.concatenate((q[0:i], q[j:j+1], q[i:j], q[j+1:]))\n",
        "    return q"
      ],
      "execution_count": 5,
      "outputs": []
    },
    {
      "cell_type": "markdown",
      "metadata": {
        "id": "I4wTLs_oRpGJ"
      },
      "source": [
        "## Funkcja celu"
      ]
    },
    {
      "cell_type": "code",
      "metadata": {
        "id": "4Oq_bRXieI_l"
      },
      "source": [
        "def generate_distance_matrix(problem_size, *problems):\n",
        "    M = np.empty((len(problems), problem_size, problem_size), dtype='int32')\n",
        "    for prob in range(len(problems)):\n",
        "        coords = problems[prob].as_dict()['node_coords']\n",
        "        coords = np.array(list(coords.values()))\n",
        "        for i in range(problem_size):\n",
        "            for j in range(problem_size):\n",
        "                M[prob, i, j] = np.sqrt(((coords[i] - coords[j])**2).sum())\n",
        "    return M\n",
        "\n",
        "def tsp_objective_function(perm, objectives_number, distance_matrix):\n",
        "    result = np.zeros(objectives_number)\n",
        "    for i in range(perm.shape[0]):\n",
        "        for obj in range(objectives_number):\n",
        "            result[obj] += distance_matrix[obj][perm[i-1]][perm[i]]\n",
        "    return result\n",
        "\n",
        "def evaluate_population_cpu(population, distance_matrix, objectives_number):\n",
        "    pop_size = population.shape[0]\n",
        "    vals = np.empty((pop_size, objectives_number))\n",
        "    for i in range(pop_size):\n",
        "        vals[i] = tsp_objective_function(population[i], objectives_number, distance_matrix)\n",
        "    return vals"
      ],
      "execution_count": 6,
      "outputs": []
    },
    {
      "cell_type": "code",
      "metadata": {
        "id": "oULWRHNghx1y"
      },
      "source": [
        "@cuda.jit\n",
        "def evaluate_population(population, distance, res):\n",
        "\n",
        "    k, obj, ind = cuda.grid(3)\n",
        "\n",
        "    pop_size, chrom_len = population.shape\n",
        "    if (ind >= pop_size) or (k >= chrom_len):\n",
        "        return\n",
        "\n",
        "    idx = population[ind][k]\n",
        "    next_idx = population[ind][(k+1)%chrom_len]\n",
        "    value = distance[obj][idx][next_idx]\n",
        "    d = 16\n",
        "    while d>0:\n",
        "        value += cuda.shfl_down_sync(0xffffffff, value, d)\n",
        "        d >>= 1\n",
        "    if (k % 32) == 0:\n",
        "        cuda.atomic.add(res, (ind, obj), value)\n",
        "    return "
      ],
      "execution_count": 7,
      "outputs": []
    },
    {
      "cell_type": "markdown",
      "metadata": {
        "id": "Ev39yBX3OD6A"
      },
      "source": [
        "## Przykładowy problem MOTSP"
      ]
    },
    {
      "cell_type": "code",
      "metadata": {
        "id": "leDjuiaNfIqd"
      },
      "source": [
        "def generate_population(pop_size, chrom_len):\n",
        "    pop = np.empty((pop_size, chrom_len), dtype='int32')\n",
        "    for i in range(pop_size):\n",
        "        ind = np.random.permutation(chrom_len)\n",
        "        pop[i] = ind\n",
        "    return pop"
      ],
      "execution_count": 8,
      "outputs": []
    },
    {
      "cell_type": "code",
      "metadata": {
        "id": "Vt55LGyROQkG"
      },
      "source": [
        "euclidA100 = tsplib95.load(\"euclidA100.tsp\")\n",
        "euclidB100 = tsplib95.load(\"euclidB100.tsp\")\n",
        "\n",
        "solutionsAB = np.loadtxt('best.euclidAB100.tsp', dtype=int)\n",
        "\n",
        "distance_matrix = generate_distance_matrix(100, euclidA100, euclidB100)"
      ],
      "execution_count": 9,
      "outputs": []
    },
    {
      "cell_type": "code",
      "metadata": {
        "colab": {
          "base_uri": "https://localhost:8080/",
          "height": 237
        },
        "id": "I8kAHHSLwK-H",
        "outputId": "8a3a6440-3c53-4fb0-8de6-2218e654498c"
      },
      "source": [
        "chrom_len = 100\n",
        "pop_size = 256\n",
        "obj_num = 2\n",
        "n_iters = 50\n",
        "\n",
        "init_pop = generate_population(pop_size, chrom_len)\n",
        "init_vals = evaluate_population_cpu(init_pop, distance_matrix, obj_num)\n",
        "\n",
        "nsga_ii = NSGA_II(chrom_len, pop_size, obj_num, init_pop, init_vals)\n",
        "\n",
        "plt.figure(figsize=(12,12))\n",
        "plt.scatter(solutionsAB[:, 0], solutionsAB[:, 1])\n",
        "\n",
        "for t in tqdm(range(n_iters)):\n",
        "\n",
        "    if(np.mod(t, 50) == 0):\n",
        "        current_vals = nsga_ii.get_values()\n",
        "        plt.scatter(current_vals[:, 0], current_vals[:, 1])\n",
        "\n",
        "    children = nsga_ii.generate_children(PMX, reverse_sequence_mutation)\n",
        "    children_vals = evaluate_population_cpu(children, distance_matrix, obj_num)\n",
        "    nsga_ii.replace_population(children, children_vals)\n",
        "\n",
        "current_vals = nsga_ii.get_values()\n",
        "plt.scatter(current_vals[:, 0], current_vals[:, 1])"
      ],
      "execution_count": 10,
      "outputs": [
        {
          "output_type": "error",
          "ename": "NameError",
          "evalue": "ignored",
          "traceback": [
            "\u001b[0;31m---------------------------------------------------------------------------\u001b[0m",
            "\u001b[0;31mNameError\u001b[0m                                 Traceback (most recent call last)",
            "\u001b[0;32m<ipython-input-10-818decce3ca8>\u001b[0m in \u001b[0;36m<module>\u001b[0;34m()\u001b[0m\n\u001b[1;32m      7\u001b[0m \u001b[0minit_vals\u001b[0m \u001b[0;34m=\u001b[0m \u001b[0mevaluate_population_cpu\u001b[0m\u001b[0;34m(\u001b[0m\u001b[0minit_pop\u001b[0m\u001b[0;34m,\u001b[0m \u001b[0mdistance_matrix\u001b[0m\u001b[0;34m,\u001b[0m \u001b[0mobj_num\u001b[0m\u001b[0;34m)\u001b[0m\u001b[0;34m\u001b[0m\u001b[0;34m\u001b[0m\u001b[0m\n\u001b[1;32m      8\u001b[0m \u001b[0;34m\u001b[0m\u001b[0m\n\u001b[0;32m----> 9\u001b[0;31m \u001b[0mnsga_ii\u001b[0m \u001b[0;34m=\u001b[0m \u001b[0mNSGA_II\u001b[0m\u001b[0;34m(\u001b[0m\u001b[0mchrom_len\u001b[0m\u001b[0;34m,\u001b[0m \u001b[0mpop_size\u001b[0m\u001b[0;34m,\u001b[0m \u001b[0mobj_num\u001b[0m\u001b[0;34m,\u001b[0m \u001b[0minit_pop\u001b[0m\u001b[0;34m,\u001b[0m \u001b[0minit_vals\u001b[0m\u001b[0;34m)\u001b[0m\u001b[0;34m\u001b[0m\u001b[0;34m\u001b[0m\u001b[0m\n\u001b[0m\u001b[1;32m     10\u001b[0m \u001b[0;34m\u001b[0m\u001b[0m\n\u001b[1;32m     11\u001b[0m \u001b[0mplt\u001b[0m\u001b[0;34m.\u001b[0m\u001b[0mfigure\u001b[0m\u001b[0;34m(\u001b[0m\u001b[0mfigsize\u001b[0m\u001b[0;34m=\u001b[0m\u001b[0;34m(\u001b[0m\u001b[0;36m12\u001b[0m\u001b[0;34m,\u001b[0m\u001b[0;36m12\u001b[0m\u001b[0;34m)\u001b[0m\u001b[0;34m)\u001b[0m\u001b[0;34m\u001b[0m\u001b[0;34m\u001b[0m\u001b[0m\n",
            "\u001b[0;31mNameError\u001b[0m: name 'NSGA_II' is not defined"
          ]
        }
      ]
    },
    {
      "cell_type": "markdown",
      "metadata": {
        "id": "jnXLVgm7dxeG"
      },
      "source": [
        "# Testy"
      ]
    },
    {
      "cell_type": "markdown",
      "metadata": {
        "id": "CPefkqj-WSxB"
      },
      "source": [
        "## euclidAB100"
      ]
    },
    {
      "cell_type": "code",
      "metadata": {
        "id": "PVe2G1JUzE2a"
      },
      "source": [
        "problemA = tsplib95.load(\"euclidA100.tsp\")\n",
        "problemB = tsplib95.load(\"euclidB100.tsp\")\n",
        "\n",
        "solutionsAB = np.loadtxt('best.euclidAB100.tsp', dtype=int)"
      ],
      "execution_count": 20,
      "outputs": []
    },
    {
      "cell_type": "code",
      "metadata": {
        "colab": {
          "base_uri": "https://localhost:8080/",
          "height": 749,
          "referenced_widgets": [
            "8d87f4ff039b4369a02cbed0909d5b64",
            "6fd650252d6d4902bf00d09477275276",
            "5cffa246f5c743dd91f130c117b8c934",
            "a2e57cf204c9476c95eff8edec2a1bfa",
            "fa5268a046fd4bb49ab57b51085bfc9f",
            "9cc1c1ef70c44208aba9f887e0288191",
            "fb16e462ea4d4c0e929e2670b6c64542",
            "115d90f0811f4451beb5602e1e8bbc8b"
          ]
        },
        "id": "gDI4rOR8VF5z",
        "outputId": "370dbf65-9109-4f93-8126-0b5f1e1d1b1b"
      },
      "source": [
        "chrom_len = 100\n",
        "pop_size = 4096\n",
        "obj_num = 2\n",
        "n_iters = 500\n",
        "\n",
        "griddim = (1, 1, pop_size)\n",
        "blockdim = (128, 2, 1)\n",
        "\n",
        "init_pop = np.empty((pop_size, chrom_len), dtype='int32')\n",
        "\n",
        "for i in range(pop_size):\n",
        "    ind = np.random.permutation(chrom_len)\n",
        "    init_pop[i] = ind\n",
        "    \n",
        "init_vals = np.zeros((pop_size, obj_num), dtype='int32')\n",
        "\n",
        "\n",
        "evaluate_population[griddim, blockdim](init_pop, d_distance, init_vals)\n",
        "\n",
        "nsga_ii = NSGA_II_GPU(chrom_len, pop_size, obj_num, init_pop, init_vals)\n",
        "\n",
        "plt.figure(figsize=(12,12))\n",
        "plt.scatter(solutionsAB[:, 0], solutionsAB[:, 1])\n",
        "\n",
        "for t in tqdm(range(n_iters)):\n",
        "\n",
        "    if(np.mod(t, 50) == 0):\n",
        "        current_vals = nsga_ii.get_values()\n",
        "        plt.scatter(current_vals[:, 0], current_vals[:, 1])\n",
        "\n",
        "    children = nsga_ii.generate_children(PMX, reverse_sequence_mutation)\n",
        "    children = children.astype('int32')\n",
        "\n",
        "    children_vals = np.zeros((children.shape[0], obj_num), dtype='int32')\n",
        "    evaluate_population[griddim, blockdim](children, d_distance, children_vals)\n",
        "\n",
        "    nsga_ii.replace_population(children, children_vals)\n",
        "\n",
        "current_vals = nsga_ii.get_values()\n",
        "plt.scatter(current_vals[:, 0], current_vals[:, 1])"
      ],
      "execution_count": 94,
      "outputs": [
        {
          "output_type": "display_data",
          "data": {
            "application/vnd.jupyter.widget-view+json": {
              "model_id": "8d87f4ff039b4369a02cbed0909d5b64",
              "version_minor": 0,
              "version_major": 2
            },
            "text/plain": [
              "HBox(children=(FloatProgress(value=0.0, max=500.0), HTML(value='')))"
            ]
          },
          "metadata": {
            "tags": []
          }
        },
        {
          "output_type": "stream",
          "text": [
            "\n"
          ],
          "name": "stdout"
        },
        {
          "output_type": "display_data",
          "data": {
            "image/png": "[encoded data removed]",
            "text/plain": [
              "<Figure size 864x864 with 1 Axes>"
            ]
          },
          "metadata": {
            "tags": [],
            "needs_background": "light"
          }
        }
      ]
    },
    {
      "cell_type": "markdown",
      "metadata": {
        "id": "I_4k_afCdzg4"
      },
      "source": [
        "## kroAB100"
      ]
    },
    {
      "cell_type": "code",
      "metadata": {
        "id": "f9haftyHV7z8"
      },
      "source": [
        "kroA100 = tsplib95.load('/content/gdrive/My Drive/TSPLIB/kroA100.tsp')\n",
        "kroB100 = tsplib95.load('/content/gdrive/My Drive/TSPLIB/kroB100.tsp')"
      ],
      "execution_count": 55,
      "outputs": []
    },
    {
      "cell_type": "code",
      "metadata": {
        "id": "mIbMkMRLolbY"
      },
      "source": [
        "distance_matrix = generate_distance_matrix(100, kroA100, kroB100)"
      ],
      "execution_count": 56,
      "outputs": []
    },
    {
      "cell_type": "code",
      "metadata": {
        "id": "penZjShFotf3"
      },
      "source": [
        "d_distance = cuda.to_device(distance_matrix)"
      ],
      "execution_count": 57,
      "outputs": []
    },
    {
      "cell_type": "code",
      "metadata": {
        "colab": {
          "base_uri": "https://localhost:8080/"
        },
        "id": "JwAX7G7mlbrK",
        "outputId": "374a11c8-5f7a-48bf-eb05-bc33049c9ceb"
      },
      "source": [
        "solutionsAB = np.loadtxt('points.3.1', dtype='int32', usecols=np.arange(6, 106))\n",
        "solutionsAB.shape"
      ],
      "execution_count": 51,
      "outputs": [
        {
          "output_type": "execute_result",
          "data": {
            "text/plain": [
              "(2699, 100)"
            ]
          },
          "metadata": {
            "tags": []
          },
          "execution_count": 51
        }
      ]
    },
    {
      "cell_type": "code",
      "metadata": {
        "id": "6m9joOWwnZJw"
      },
      "source": [
        "sol_vals = np.zeros((100, 2))\n",
        "\n",
        "griddim = (1, 1, 2699)\n",
        "blockdim = (128, 2, 1)\n",
        "\n",
        "evaluate_population[griddim, blockdim](solutionsAB, d_distance, sol_vals)"
      ],
      "execution_count": 58,
      "outputs": []
    },
    {
      "cell_type": "code",
      "metadata": {
        "colab": {
          "base_uri": "https://localhost:8080/"
        },
        "id": "aCkht9bcnzaw",
        "outputId": "3b4e8190-d757-491b-ee68-c9f7999dcb4e"
      },
      "source": [
        "sol_vals[:5]"
      ],
      "execution_count": 59,
      "outputs": [
        {
          "output_type": "execute_result",
          "data": {
            "text/plain": [
              "array([[47457., 53280.],\n",
              "       [49474., 51289.],\n",
              "       [48996., 51772.],\n",
              "       [65941., 38733.],\n",
              "       [59132., 43080.]])"
            ]
          },
          "metadata": {
            "tags": []
          },
          "execution_count": 59
        }
      ]
    },
    {
      "cell_type": "code",
      "metadata": {
        "colab": {
          "base_uri": "https://localhost:8080/",
          "height": 767,
          "referenced_widgets": [
            "9da49c61a86b4a17b616bca017406d30",
            "53982c28bdfc425db4868d1feb02fb8e",
            "cbcbf0fb29a4412d99331a2d2b297b32",
            "66b5fda0811540e2811e2fb82b40287b",
            "724767aaf50f43eeb9e1688d3ab216d6",
            "7e64ed03ec02434ea820c6bc4dc582bc",
            "c5fe1cbc6602400b90f84ced9ee641c3",
            "783595dbc0fa4699b89ea4e92b2ae842"
          ]
        },
        "id": "ROU75W_pie67",
        "outputId": "fbbc255e-1ba5-466d-b360-36b69c84152d"
      },
      "source": [
        "chrom_len = 100\n",
        "pop_size = 512\n",
        "obj_num = 2\n",
        "n_iters = 300\n",
        "\n",
        "griddim = (1, 1, pop_size)\n",
        "blockdim = (128, 2, 1)\n",
        "\n",
        "init_pop = np.empty((pop_size, chrom_len), dtype='int32')\n",
        "\n",
        "for i in range(pop_size):\n",
        "    ind = np.random.permutation(chrom_len)\n",
        "    init_pop[i] = ind\n",
        "    \n",
        "init_vals = np.zeros((pop_size, obj_num), dtype='int32')\n",
        "\n",
        "\n",
        "evaluate_population[griddim, blockdim](init_pop, d_distance, init_vals)\n",
        "\n",
        "nsga_ii = NSGA_II_GPU(chrom_len, pop_size, obj_num, init_pop, init_vals)\n",
        "\n",
        "plt.figure(figsize=(12,12))\n",
        "plt.scatter(sol_vals[:, 0], sol_vals[:, 1])\n",
        "\n",
        "for t in tqdm(range(n_iters)):\n",
        "\n",
        "    if(np.mod(t, 50) == 0):\n",
        "        current_vals = nsga_ii.get_values()\n",
        "        plt.scatter(current_vals[:, 0], current_vals[:, 1])\n",
        "\n",
        "    children = nsga_ii.generate_children(PMX, reverse_sequence_mutation)\n",
        "    children = children.astype('int32')\n",
        "\n",
        "    children_vals = np.zeros((children.shape[0], obj_num), dtype='int32')\n",
        "    evaluate_population[griddim, blockdim](children, d_distance, children_vals)\n",
        "\n",
        "    nsga_ii.replace_population(children, children_vals)\n",
        "\n",
        "current_vals = nsga_ii.get_values()\n",
        "plt.scatter(current_vals[:, 0], current_vals[:, 1])"
      ],
      "execution_count": 65,
      "outputs": [
        {
          "output_type": "display_data",
          "data": {
            "application/vnd.jupyter.widget-view+json": {
              "model_id": "9da49c61a86b4a17b616bca017406d30",
              "version_minor": 0,
              "version_major": 2
            },
            "text/plain": [
              "HBox(children=(FloatProgress(value=0.0, max=300.0), HTML(value='')))"
            ]
          },
          "metadata": {
            "tags": []
          }
        },
        {
          "output_type": "stream",
          "text": [
            "\n"
          ],
          "name": "stdout"
        },
        {
          "output_type": "execute_result",
          "data": {
            "text/plain": [
              "<matplotlib.collections.PathCollection at 0x7f9d60f29da0>"
            ]
          },
          "metadata": {
            "tags": []
          },
          "execution_count": 65
        },
        {
          "output_type": "display_data",
          "data": {
            "image/png": "[encoded data removed]",
            "text/plain": [
              "<Figure size 864x864 with 1 Axes>"
            ]
          },
          "metadata": {
            "tags": [],
            "needs_background": "light"
          }
        }
      ]
    },
    {
      "cell_type": "markdown",
      "metadata": {
        "id": "JrrBbMugglZe"
      },
      "source": [
        "# CUDA"
      ]
    },
    {
      "cell_type": "markdown",
      "metadata": {
        "id": "enLTGg6HsVrK"
      },
      "source": [
        "## CPU - czas działania"
      ]
    },
    {
      "cell_type": "code",
      "metadata": {
        "id": "LIWeQMYDsYeQ"
      },
      "source": [
        "class NSGA_II_prints:\n",
        "    def __init__(self, chromosome_length, population_size, objectives_number,\n",
        "                 initial_population, initial_objective_values):\n",
        "        self.chromosome_length = chromosome_length\n",
        "        self.population_size = population_size\n",
        "        self.objectives_number = objectives_number\n",
        "        if type(initial_population) is not np.ndarray:\n",
        "            raise ValueError(\"initial population must be a numpy array\")\n",
        "        if initial_population.shape != (self.population_size, self.chromosome_length):\n",
        "            raise ValueError(\"initial population must be of shape (population_size, chromosome_length)\")\n",
        "        self.current_population = initial_population\n",
        "        if type(initial_objective_values) is not np.ndarray:\n",
        "            raise ValueError(\"initial objective values must be a numpy array\")\n",
        "        if initial_objective_values.shape != (self.population_size, self.objectives_number):\n",
        "            raise ValueError(\"initial population values must be of shape (population_size, objectives_number)\")\n",
        "        self.current_objective_values = initial_objective_values\n",
        "        self.current_pareto_frontier = np.empty(self.population_size)\n",
        "        self.current_crowding_distances = np.empty(self.population_size)\n",
        "        self.replace_population(None, None)\n",
        "\n",
        "\n",
        "    def get_population(self):\n",
        "        return self.current_population\n",
        "\n",
        "\n",
        "    def get_values(self):\n",
        "        return self.current_objective_values\n",
        "\n",
        "\n",
        "    def non_dominated_sort(self, objective_values):\n",
        "\n",
        "        def dominates(vals1, vals2):\n",
        "            return np.all(vals1 <= vals2) and np.any(vals1 < vals2)\n",
        "\n",
        "        size = objective_values.shape[0]\n",
        "        pareto_frontier = np.empty(size, dtype=int)\n",
        "        current_frontier_number = 1\n",
        "        current_frontier_members = []\n",
        "        # number of solutions dominating p\n",
        "        dominating_count = np.zeros(size, dtype=int)\n",
        "        # set of solutions dominated by p\n",
        "        dominated = [None] * size \n",
        "\n",
        "        for p in range(size):\n",
        "            dominated[p] = []\n",
        "            for q in range(size):\n",
        "                if dominates(objective_values[p], objective_values[q]):\n",
        "                    dominated[p].append(q)\n",
        "                elif dominates(objective_values[q], objective_values[p]):\n",
        "                    dominating_count[p] += 1\n",
        "            if dominating_count[p] == 0:\n",
        "                pareto_frontier[p] = current_frontier_number\n",
        "                current_frontier_members.append(p)\n",
        "\n",
        "        while current_frontier_members != []:\n",
        "            current_frontier_number += 1\n",
        "            new_frontier_members = []\n",
        "            for p in current_frontier_members:\n",
        "                for q in dominated[p]:\n",
        "                    dominating_count[q] -= 1\n",
        "                    if dominating_count[q] == 0:\n",
        "                        pareto_frontier[q] = current_frontier_number\n",
        "                        new_frontier_members.append(q)\n",
        "            current_frontier_members = new_frontier_members\n",
        "        \n",
        "        return pareto_frontier\n",
        "\n",
        "\n",
        "    def assign_crowding_distance(self, objective_values):\n",
        "        size = objective_values.shape[0]\n",
        "        distance = np.zeros(size)\n",
        "        for current_objective in range(self.objectives_number):\n",
        "            current_objective_values = objective_values[:, current_objective]\n",
        "            sorted_indices = np.argsort(current_objective_values)\n",
        "            current_objective_values_diff = current_objective_values[sorted_indices[-1]] - current_objective_values[sorted_indices[0]]\n",
        "            if current_objective_values_diff == 0:\n",
        "                continue\n",
        "            distance[sorted_indices[0]], distance[sorted_indices[-1]] = np.inf, np.inf\n",
        "            for i in range(1, size-1):\n",
        "                distance[sorted_indices[i]] += ((current_objective_values[sorted_indices[i+1]] - current_objective_values[sorted_indices[i-1]]) /\n",
        "                                                current_objective_values_diff)\n",
        "        return distance\n",
        "\n",
        "\n",
        "    def generate_children(self, crossover_operator, mutation_operator,\n",
        "                          crossover_probability = 0.95, mutation_probability = 0.25,\n",
        "                          number_of_offspring = None):\n",
        "\n",
        "        def compare(p, q):\n",
        "            if self.current_pareto_frontier[p] == self.current_pareto_frontier[q]:\n",
        "                return self.current_crowding_distances[p] > self.current_crowding_distances[q]\n",
        "            return self.current_pareto_frontier[p] > self.current_pareto_frontier[q]\n",
        "\n",
        "\n",
        "        time1 = time.time()\n",
        "\n",
        "        if number_of_offspring is None:\n",
        "            number_of_offspring = self.population_size\n",
        "\n",
        "        # selecting parent indices by the binary tournament method\n",
        "        parent_indices = np.empty(number_of_offspring, dtype=np.int64)\n",
        "        for i in range(number_of_offspring):\n",
        "            candidates = np.random.choice(self.population_size, 2, False)\n",
        "            if compare(candidates[0], candidates[1]):\n",
        "                parent_indices[i] = candidates[0]\n",
        "            else:\n",
        "                parent_indices[i] = candidates[1]\n",
        "\n",
        "        print(\"     Selection:                      \", time.time() - time1)\n",
        "\n",
        "        time1 = time.time()\n",
        "        # creating children population\n",
        "        children_population = np.empty((number_of_offspring, self.chromosome_length), dtype='int32')\n",
        "        for i in range(number_of_offspring//2):\n",
        "            if np.random.random() < crossover_probability:\n",
        "                children_population[2*i], children_population[2*i+1] = crossover_operator(self.current_population[parent_indices[2*i]].copy(), self.current_population[parent_indices[2*i+1]].copy())\n",
        "            else:\n",
        "                children_population[2*i], children_population[2*i+1] = self.current_population[parent_indices[2*i]].copy(), self.current_population[parent_indices[2*i+1]].copy()\n",
        "        if np.mod(number_of_offspring, 2) == 1:\n",
        "            children_population[-1] = self.current_population[parent_indices[-1]]\n",
        "        print(\"     Recombination:                  \", time.time() - time1)\n",
        "\n",
        "        time1 = time.time()\n",
        "        # mutating children population\n",
        "        for i in range(number_of_offspring):\n",
        "            if np.random.random() < mutation_probability:\n",
        "                children_population[i] = mutation_operator(children_population[i])\n",
        "        print(\"     Mutation:                       \", time.time() - time1)\n",
        "\n",
        "        return children_population\n",
        "\n",
        "\n",
        "    def replace_population(self, children_population, children_objective_values):\n",
        "\n",
        "        if(children_population is None and children_objective_values is None):\n",
        "            combined_population = self.current_population\n",
        "            combined_objective_values = self.current_objective_values\n",
        "        else:\n",
        "            combined_population = np.vstack((self.current_population, children_population))\n",
        "            combined_objective_values = np.vstack((self.current_objective_values, children_objective_values))\n",
        "\n",
        "        time2 = time.time()\n",
        "        combined_pareto_frontier = self.non_dominated_sort(combined_objective_values)\n",
        "        print(\"         Non dominated sort:         \", time.time() - time2)\n",
        "\n",
        "\n",
        "        positions = np.argsort(combined_pareto_frontier)\n",
        "\n",
        "        combined_population = combined_population[positions]\n",
        "        combined_objective_values = combined_objective_values[positions]\n",
        "        combined_pareto_frontier = combined_pareto_frontier[positions]\n",
        "\n",
        "        # assign crowding distance and select subset of last frontier\n",
        "        time2 = time.time()\n",
        "        found_population_size = 0\n",
        "        current_frontier_number = 1\n",
        "        current_frontier_lb, current_frontier_rb = (np.searchsorted(combined_pareto_frontier, current_frontier_number),\n",
        "                                                    np.searchsorted(combined_pareto_frontier, current_frontier_number, side='right'))\n",
        "        current_frontier_size = current_frontier_rb - current_frontier_lb\n",
        "        while found_population_size + current_frontier_size < self.population_size:\n",
        "            found_population_size += current_frontier_size\n",
        "            current_frontier_distances = self.assign_crowding_distance(combined_objective_values[current_frontier_lb : current_frontier_rb])\n",
        "            self.current_crowding_distances[current_frontier_lb : current_frontier_rb] = current_frontier_distances\n",
        "            current_frontier_number += 1\n",
        "            current_frontier_lb, current_frontier_rb = (np.searchsorted(combined_pareto_frontier, current_frontier_number),\n",
        "                                                        np.searchsorted(combined_pareto_frontier, current_frontier_number, side='right'))\n",
        "            current_frontier_size = current_frontier_rb - current_frontier_lb\n",
        "\n",
        "        current_frontier_distances = self.assign_crowding_distance(combined_objective_values[current_frontier_lb : current_frontier_rb])\n",
        "        last_frontier_taken_indices = np.argsort(current_frontier_distances)[::-1][:self.population_size - found_population_size]\n",
        "        print(\"         Distance assignment:        \", time.time() - time2)\n",
        "\n",
        "        combined_population[current_frontier_lb : self.population_size] = combined_population[last_frontier_taken_indices]\n",
        "        combined_objective_values[current_frontier_lb : self.population_size] = combined_objective_values[last_frontier_taken_indices]\n",
        "        self.current_crowding_distances[current_frontier_lb : self.population_size] = current_frontier_distances[last_frontier_taken_indices]\n",
        "\n",
        "        self.current_population = combined_population[:self.population_size]\n",
        "        self.current_objective_values = combined_objective_values[:self.population_size]\n",
        "        self.current_pareto_frontier = combined_pareto_frontier[:self.population_size]\n",
        "\n",
        "        return True"
      ],
      "execution_count": 17,
      "outputs": []
    },
    {
      "cell_type": "code",
      "metadata": {
        "id": "Ydj_8ikFvFU9"
      },
      "source": [
        "euclidA100 = tsplib95.load(\"euclidA100.tsp\")\n",
        "euclidB100 = tsplib95.load(\"euclidB100.tsp\")\n",
        "\n",
        "solutionsAB = np.loadtxt('best.euclidAB100.tsp', dtype=int)\n",
        "\n",
        "distance_matrix = generate_distance_matrix(100, euclidA100, euclidB100)"
      ],
      "execution_count": 67,
      "outputs": []
    },
    {
      "cell_type": "code",
      "metadata": {
        "colab": {
          "base_uri": "https://localhost:8080/"
        },
        "id": "sIWgs_UivFU_",
        "outputId": "b222b88a-1d02-4129-b848-ea79e1902f5e"
      },
      "source": [
        "chrom_len = 100\n",
        "pop_size = 512\n",
        "obj_num = 2\n",
        "n_iters = 10\n",
        "\n",
        "print(\"Initialization: \")\n",
        "init_pop = generate_population(pop_size, chrom_len)\n",
        "init_vals = evaluate_population_cpu(init_pop, distance_matrix, obj_num)\n",
        "\n",
        "nsga_ii = NSGA_II_prints(chrom_len, pop_size, obj_num, init_pop, init_vals)\n",
        "\n",
        "for t in range(n_iters):\n",
        "    print()\n",
        "    print(\"Iteration number:                    \", t)\n",
        "    print()\n",
        "    t0 = time.time()\n",
        "\n",
        "    children = nsga_ii.generate_children(PMX, reverse_sequence_mutation)\n",
        "    t1 = time.time()\n",
        "    children_vals = evaluate_population_cpu(children, distance_matrix, obj_num)\n",
        "    print(\"     Population evaluation:          \", time.time() - t1)\n",
        "\n",
        "    print(\"     Population replacement:\")\n",
        "    t1 = time.time()\n",
        "    nsga_ii.replace_population(children, children_vals)\n",
        "    print(\"     Population replacement - sum:   \", time.time() - t1)\n",
        "\n",
        "    print()\n",
        "    print(\"Iteration - sum:                     \", time.time() - t0)\n"
      ],
      "execution_count": 18,
      "outputs": [
        {
          "output_type": "stream",
          "text": [
            "Initialization: \n",
            "         Non dominated sort:          2.532703399658203\n",
            "         Distance assignment:         0.0018694400787353516\n",
            "\n",
            "Iteration number:                     0\n",
            "\n",
            "     Selection:                       0.022581100463867188\n",
            "     Recombination:                   0.3178520202636719\n",
            "     Mutation:                        0.005914926528930664\n",
            "     Population evaluation:           0.1398928165435791\n",
            "     Population replacement:\n",
            "         Non dominated sort:          10.527567386627197\n",
            "         Distance assignment:         0.001996755599975586\n",
            "     Population replacement - sum:    10.532180070877075\n",
            "\n",
            "Iteration - sum:                      11.019808053970337\n",
            "\n",
            "Iteration number:                     1\n",
            "\n",
            "     Selection:                       0.020178556442260742\n",
            "     Recombination:                   0.2497262954711914\n",
            "     Mutation:                        0.0033752918243408203\n",
            "     Population evaluation:           0.13043665885925293\n",
            "     Population replacement:\n",
            "         Non dominated sort:          9.916366815567017\n",
            "         Distance assignment:         0.0015017986297607422\n",
            "     Population replacement - sum:    9.919971942901611\n",
            "\n",
            "Iteration - sum:                      10.324885368347168\n",
            "\n",
            "Iteration number:                     2\n",
            "\n",
            "     Selection:                       0.020273447036743164\n",
            "     Recombination:                   0.2589409351348877\n",
            "     Mutation:                        0.0032150745391845703\n",
            "     Population evaluation:           0.13127636909484863\n",
            "     Population replacement:\n",
            "         Non dominated sort:          9.55001425743103\n",
            "         Distance assignment:         0.0014421939849853516\n",
            "     Population replacement - sum:    9.553147315979004\n",
            "\n",
            "Iteration - sum:                      9.96851372718811\n",
            "\n",
            "Iteration number:                     3\n",
            "\n",
            "     Selection:                       0.01937556266784668\n",
            "     Recombination:                   0.25170254707336426\n",
            "     Mutation:                        0.003945350646972656\n",
            "     Population evaluation:           0.12690448760986328\n",
            "     Population replacement:\n",
            "         Non dominated sort:          9.724738836288452\n",
            "         Distance assignment:         0.0014352798461914062\n",
            "     Population replacement - sum:    9.7280912399292\n",
            "\n",
            "Iteration - sum:                      10.130754709243774\n",
            "\n",
            "Iteration number:                     4\n",
            "\n",
            "     Selection:                       0.01955437660217285\n",
            "     Recombination:                   0.25162291526794434\n",
            "     Mutation:                        0.003429412841796875\n",
            "     Population evaluation:           0.12908124923706055\n",
            "     Population replacement:\n",
            "         Non dominated sort:          9.715845823287964\n",
            "         Distance assignment:         0.0014007091522216797\n",
            "     Population replacement - sum:    9.719089031219482\n",
            "\n",
            "Iteration - sum:                      10.123947620391846\n",
            "\n",
            "Iteration number:                     5\n",
            "\n",
            "     Selection:                       0.020128726959228516\n",
            "     Recombination:                   0.2547492980957031\n",
            "     Mutation:                        0.003442049026489258\n",
            "     Population evaluation:           0.1380631923675537\n",
            "     Population replacement:\n",
            "         Non dominated sort:          8.934263706207275\n",
            "         Distance assignment:         0.0014805793762207031\n",
            "     Population replacement - sum:    8.937741041183472\n",
            "\n",
            "Iteration - sum:                      9.354944229125977\n",
            "\n",
            "Iteration number:                     6\n",
            "\n",
            "     Selection:                       0.019382953643798828\n",
            "     Recombination:                   0.25295400619506836\n",
            "     Mutation:                        0.003907680511474609\n",
            "     Population evaluation:           0.13117766380310059\n",
            "     Population replacement:\n",
            "         Non dominated sort:          8.905080080032349\n",
            "         Distance assignment:         0.0016169548034667969\n",
            "     Population replacement - sum:    8.908590078353882\n",
            "\n",
            "Iteration - sum:                      9.316845655441284\n",
            "\n",
            "Iteration number:                     7\n",
            "\n",
            "     Selection:                       0.020113229751586914\n",
            "     Recombination:                   0.2508847713470459\n",
            "     Mutation:                        0.0034055709838867188\n",
            "     Population evaluation:           0.1286325454711914\n",
            "     Population replacement:\n",
            "         Non dominated sort:          9.761346578598022\n",
            "         Distance assignment:         0.0014219284057617188\n",
            "     Population replacement - sum:    9.765260219573975\n",
            "\n",
            "Iteration - sum:                      10.170135974884033\n",
            "\n",
            "Iteration number:                     8\n",
            "\n",
            "     Selection:                       0.01441645622253418\n",
            "     Recombination:                   0.3149404525756836\n",
            "     Mutation:                        0.0042498111724853516\n",
            "     Population evaluation:           0.13824081420898438\n",
            "     Population replacement:\n",
            "         Non dominated sort:          9.064280271530151\n",
            "         Distance assignment:         0.0021119117736816406\n",
            "     Population replacement - sum:    9.068851709365845\n",
            "\n",
            "Iteration - sum:                      9.541355609893799\n",
            "\n",
            "Iteration number:                     9\n",
            "\n",
            "     Selection:                       0.023638248443603516\n",
            "     Recombination:                   0.3168609142303467\n",
            "     Mutation:                        0.006791114807128906\n",
            "     Population evaluation:           0.13615131378173828\n",
            "     Population replacement:\n",
            "         Non dominated sort:          9.062040567398071\n",
            "         Distance assignment:         0.0017719268798828125\n",
            "     Population replacement - sum:    9.066023349761963\n",
            "\n",
            "Iteration - sum:                      9.550052404403687\n"
          ],
          "name": "stdout"
        }
      ]
    },
    {
      "cell_type": "markdown",
      "metadata": {
        "id": "BUTAUz1ygm6O"
      },
      "source": [
        "## Ewaluacja funkcji celu"
      ]
    },
    {
      "cell_type": "code",
      "metadata": {
        "id": "cIlCJ7hoG45N"
      },
      "source": [
        "def generate_population(pop_size, chrom_len):\n",
        "    pop = np.empty((pop_size, chrom_len), dtype='int32')\n",
        "    for i in range(pop_size):\n",
        "        ind = np.random.permutation(chrom_len)\n",
        "        pop[i] = ind\n",
        "    return pop\n",
        "\n",
        "def generate_distance_matrix(problem_size, *problems):\n",
        "    M = np.empty((len(problems), problem_size, problem_size), dtype='int32')\n",
        "    for prob in range(len(problems)):\n",
        "        coords = problems[prob].as_dict()['node_coords']\n",
        "        coords = np.array(list(coords.values()))\n",
        "        for i in range(problem_size):\n",
        "            for j in range(problem_size):\n",
        "                M[prob, i, j] = np.sqrt(((coords[i] - coords[j])**2).sum())\n",
        "    return M\n",
        "\n",
        "def tsp_objective_function(perm, objectives_number, distance_matrix):\n",
        "    result = np.zeros(objectives_number)\n",
        "    for i in range(perm.shape[0]):\n",
        "        for obj in range(objectives_number):\n",
        "            result[obj] += distance_matrix[obj][perm[i-1]][perm[i]]\n",
        "    return result\n",
        "\n",
        "def evaluate_population_cpu(population, distance_matrix, objectives_number):\n",
        "    pop_size = population.shape[0]\n",
        "    vals = np.empty((pop_size, objectives_number))\n",
        "    for i in range(pop_size):\n",
        "        vals[i] = tsp_objective_function(population[i], objectives_number, distance_matrix)\n",
        "    return vals"
      ],
      "execution_count": null,
      "outputs": []
    },
    {
      "cell_type": "code",
      "metadata": {
        "id": "4km4rY0ELh9b"
      },
      "source": [
        "@cuda.jit\n",
        "def evaluate_population(population, distance, res):\n",
        "\n",
        "    k, obj, ind = cuda.grid(3)\n",
        "\n",
        "    pop_size, chrom_len = population.shape\n",
        "    if (ind >= pop_size) or (k >= chrom_len):\n",
        "        return\n",
        "\n",
        "    idx = population[ind][k]\n",
        "    next_idx = population[ind][(k+1)%chrom_len]\n",
        "    value = distance[obj][idx][next_idx]\n",
        "    d = 16\n",
        "    while d>0:\n",
        "        value += cuda.shfl_down_sync(0xffffffff, value, d)\n",
        "        d >>= 1\n",
        "    if (k % 32) == 0:\n",
        "        cuda.atomic.add(res, (ind, obj), value)\n",
        "    return "
      ],
      "execution_count": null,
      "outputs": []
    },
    {
      "cell_type": "code",
      "metadata": {
        "id": "W4GR7AUDGuT8"
      },
      "source": [
        "problemA = tsplib95.load(\"euclidA100.tsp\")\n",
        "problemB = tsplib95.load(\"euclidB100.tsp\")"
      ],
      "execution_count": null,
      "outputs": []
    },
    {
      "cell_type": "code",
      "metadata": {
        "id": "mZph0NYtSXV2"
      },
      "source": [
        "chrom_len = 100\n",
        "pop_size = 2048\n",
        "obj_num = 2\n",
        "\n",
        "init_pop = generate_population(pop_size, chrom_len)"
      ],
      "execution_count": null,
      "outputs": []
    },
    {
      "cell_type": "code",
      "metadata": {
        "id": "jteLYH9iJK0F"
      },
      "source": [
        "distance = generate_distance_matrix(100, problemA, problemB)"
      ],
      "execution_count": null,
      "outputs": []
    },
    {
      "cell_type": "code",
      "metadata": {
        "id": "_Srd5sBwRd1a"
      },
      "source": [
        "d_distance = cuda.to_device(distance)"
      ],
      "execution_count": null,
      "outputs": []
    },
    {
      "cell_type": "code",
      "metadata": {
        "id": "SbYPkvFURi0G",
        "colab": {
          "base_uri": "https://localhost:8080/"
        },
        "outputId": "28e03aad-afeb-4d59-fb61-bc5407aa80fb"
      },
      "source": [
        "res = np.zeros((pop_size, obj_num), dtype='int32')\n",
        "blocks_per_grid = (1, 1, pop_size)\n",
        "blockdim = (128, 2, 1)\n",
        "\n",
        "%timeit evaluate_population[blocks_per_grid, blockdim](init_pop, d_distance, res)\n",
        "%timeit evaluate_population_cpu(init_pop, distance, 2)"
      ],
      "execution_count": null,
      "outputs": [
        {
          "output_type": "stream",
          "text": [
            "1000 loops, best of 3: 1.54 ms per loop\n",
            "1 loop, best of 3: 531 ms per loop\n"
          ],
          "name": "stdout"
        }
      ]
    },
    {
      "cell_type": "code",
      "metadata": {
        "id": "qygtgF8wc-ZS"
      },
      "source": [
        "n_iters = 10\n",
        "\n",
        "for t in range(n_iters):\n",
        "    population = generate_population(pop_size, chrom_len)\n",
        "\n",
        "    vals_gpu = np.zeros((pop_size, obj_num), dtype='int32')\n",
        "\n",
        "    blocks_per_grid = (1, 1, pop_size)\n",
        "    blockdim = (128, 2, 1)\n",
        "    evaluate_population[blocks_per_grid, blockdim](population, d_distance, vals_gpu)\n",
        "\n",
        "    vals_cpu = evaluate_population_cpu(population, distance, obj_num)\n",
        "\n",
        "    assert np.all(vals_gpu == vals_cpu)"
      ],
      "execution_count": null,
      "outputs": []
    },
    {
      "cell_type": "markdown",
      "metadata": {
        "id": "7Ec_ZOIT9Ov2"
      },
      "source": [
        "## Sortowanie"
      ]
    },
    {
      "cell_type": "code",
      "metadata": {
        "id": "S8lhR3m9DUT_"
      },
      "source": [
        "def non_dominated_sort_cpu(objective_values):\n",
        "\n",
        "    def dominates(vals1, vals2):\n",
        "        return np.all(vals1 <= vals2) and np.any(vals1 < vals2)\n",
        "\n",
        "    size = objective_values.shape[0]\n",
        "    pareto_frontier = np.empty(size, dtype=int)\n",
        "    current_frontier_number = 1\n",
        "    current_frontier_members = []\n",
        "    # number of solutions dominating p\n",
        "    dominating_count = np.zeros(size, dtype=int)\n",
        "    # set of solutions dominated by p\n",
        "    dominated = [None] * size \n",
        "\n",
        "    for p in range(size):\n",
        "        dominated[p] = []\n",
        "        for q in range(size):\n",
        "            if dominates(objective_values[p], objective_values[q]):\n",
        "                dominated[p].append(q)\n",
        "            elif dominates(objective_values[q], objective_values[p]):\n",
        "                dominating_count[p] += 1\n",
        "        if dominating_count[p] == 0:\n",
        "            pareto_frontier[p] = current_frontier_number\n",
        "            current_frontier_members.append(p)\n",
        "\n",
        "    while current_frontier_members != []:\n",
        "        current_frontier_number += 1\n",
        "        new_frontier_members = []\n",
        "        for p in current_frontier_members:\n",
        "            for q in dominated[p]:\n",
        "                dominating_count[q] -= 1\n",
        "                if dominating_count[q] == 0:\n",
        "                    pareto_frontier[q] = current_frontier_number\n",
        "                    new_frontier_members.append(q)\n",
        "        current_frontier_members = new_frontier_members\n",
        "    \n",
        "    return pareto_frontier"
      ],
      "execution_count": null,
      "outputs": []
    },
    {
      "cell_type": "code",
      "metadata": {
        "id": "Mr-7v6x9v44n"
      },
      "source": [
        "@cuda.jit\n",
        "def check_domination(pop_vals, dominated, dom_count):\n",
        "    q, p = cuda.grid(2)\n",
        "\n",
        "    pop_size = pop_vals.shape[0]\n",
        "    if (p >= pop_size) or (q >= pop_size):\n",
        "        return\n",
        "\n",
        "    if (pop_vals[p][0] <= pop_vals[q][0] and pop_vals[p][1] <= pop_vals[q][1] and\n",
        "        (pop_vals[p][0] < pop_vals[q][0] or pop_vals[p][1] < pop_vals[q][1])):\n",
        "        # maska bitowa = atomic add\n",
        "        dominated[p, q] = 1\n",
        "\n",
        "\n",
        "    elif (pop_vals[q][0] <= pop_vals[p][0] and pop_vals[q][1] <= pop_vals[p][1] and\n",
        "            (pop_vals[q][0] < pop_vals[p][0] or pop_vals[q][1] < pop_vals[p][1])):\n",
        "        cuda.atomic.add(dom_count, p, 1)\n",
        "\n",
        "\n",
        "@cuda.jit\n",
        "def find_first_frontier(dom_count, frontier, rank):\n",
        "    p = cuda.grid(1)\n",
        "    if dom_count[p] == 0:\n",
        "        frontier[p] = 1\n",
        "        rank[p] = 1\n",
        "\n",
        "\n",
        "@cuda.jit\n",
        "def remove_current_frontier(dominated, dom_count, current_rank,\n",
        "                            current_frontier, next_frontier, rank):\n",
        "    q, p = cuda.grid(2)\n",
        "\n",
        "    pop_size = dominated.shape[0]\n",
        "    if (p >= pop_size) or (q >= pop_size) or current_frontier[p] == 0:\n",
        "        return\n",
        "    \n",
        "    if dominated[p, q] == 1:\n",
        "        if cuda.atomic.add(dom_count, q, -1) == 1:\n",
        "            rank[q] = current_rank\n",
        "            next_frontier[q] = 1"
      ],
      "execution_count": 14,
      "outputs": []
    },
    {
      "cell_type": "code",
      "metadata": {
        "id": "kFLBN3OIi0J1"
      },
      "source": [
        "def non_dominated_sort(pop_vals):\n",
        "\n",
        "    def is_not_empty(frontier):\n",
        "        return np.any(frontier == 1)\n",
        "\n",
        "\n",
        "    pop_size = pop_vals.shape[0]\n",
        "\n",
        "    current_frontier = np.zeros(pop_size, dtype='int32')\n",
        "    next_frontier = np.zeros(pop_size, dtype='int32')\n",
        "    current_rank = 1\n",
        "\n",
        "    dom = np.zeros((pop_size, pop_size), dtype='int32')\n",
        "    dom_count = np.zeros(pop_size, dtype='int32')\n",
        "    rank = np.zeros(pop_size, dtype='int32')\n",
        "\n",
        "    d_dom = cuda.to_device(dom)\n",
        "    d_dom_count = cuda.to_device(dom_count)\n",
        "    d_rank = cuda.to_device(rank)\n",
        "\n",
        "    griddim  = (max(pop_size//32, 1), max(pop_size//32, 1))\n",
        "    blockdim = (32, 32)\n",
        "\n",
        "    check_domination[griddim, blockdim](pop_vals, d_dom, d_dom_count)\n",
        "    find_first_frontier[max(pop_size//1024, 1), 1024](d_dom_count, current_frontier, d_rank)\n",
        "\n",
        "    while(is_not_empty(current_frontier)):\n",
        "        next_frontier = np.zeros(pop_size)\n",
        "        current_rank += 1\n",
        "        remove_current_frontier[griddim, blockdim](d_dom, d_dom_count, current_rank,\n",
        "                                                       current_frontier, next_frontier, d_rank)\n",
        "        current_frontier = next_frontier\n",
        "\n",
        "    rank = d_rank.copy_to_host()\n",
        "    return rank"
      ],
      "execution_count": null,
      "outputs": []
    },
    {
      "cell_type": "code",
      "metadata": {
        "id": "x0h8IADTbp5G"
      },
      "source": [
        "chrom_len = 100\n",
        "pop_size = 2048\n",
        "obj_num = 2\n",
        "\n",
        "population = generate_population(pop_size, chrom_len)\n",
        "\n",
        "vals = np.zeros((pop_size, obj_num), dtype='int32')\n",
        "\n",
        "blocks_per_grid = (1, 1, pop_size)\n",
        "blockdim = (128, 2, 1)\n",
        "evaluate_population[blocks_per_grid, blockdim](population, d_distance, vals)"
      ],
      "execution_count": null,
      "outputs": []
    },
    {
      "cell_type": "code",
      "metadata": {
        "colab": {
          "base_uri": "https://localhost:8080/"
        },
        "id": "mGwQcT7edBDi",
        "outputId": "ea74de0e-7960-4404-e434-48522e8914da"
      },
      "source": [
        "%timeit non_dominated_sort(vals)\n",
        "%timeit non_dominated_sort_cpu(vals)"
      ],
      "execution_count": null,
      "outputs": [
        {
          "output_type": "stream",
          "text": [
            "10 loops, best of 3: 68 ms per loop\n",
            "1 loop, best of 3: 9.46 s per loop\n"
          ],
          "name": "stdout"
        }
      ]
    },
    {
      "cell_type": "code",
      "metadata": {
        "id": "6wJ0GgVKRbcN",
        "colab": {
          "base_uri": "https://localhost:8080/"
        },
        "outputId": "0dbd9885-5082-40a7-eb60-4a3d5f82c1f4"
      },
      "source": [
        "assert np.all(non_dominated_sort(vals) == non_dominated_sort_cpu(vals))"
      ],
      "execution_count": null,
      "outputs": [
        {
          "output_type": "stream",
          "text": [
            "(2048, 2)\n"
          ],
          "name": "stdout"
        }
      ]
    },
    {
      "cell_type": "markdown",
      "metadata": {
        "id": "Yn7VjAGdy5Vh"
      },
      "source": [
        "## GPU - czas działania"
      ]
    },
    {
      "cell_type": "code",
      "metadata": {
        "id": "YbPdCPOQzIz4"
      },
      "source": [
        "class NSGA_II_GPU_prints:\n",
        "    def __init__(self, chromosome_length, population_size, objectives_number,\n",
        "                 initial_population, initial_objective_values):\n",
        "        self.chromosome_length = chromosome_length\n",
        "        self.population_size = population_size\n",
        "        self.objectives_number = objectives_number\n",
        "        if type(initial_population) is not np.ndarray:\n",
        "            raise ValueError(\"initial population must be a numpy array\")\n",
        "        if initial_population.shape != (self.population_size, self.chromosome_length):\n",
        "            raise ValueError(\"initial population must be of shape (population_size, chromosome_length)\")\n",
        "        self.current_population = initial_population\n",
        "        if type(initial_objective_values) is not np.ndarray:\n",
        "            raise ValueError(\"initial objective values must be a numpy array\")\n",
        "        if initial_objective_values.shape != (self.population_size, self.objectives_number):\n",
        "            raise ValueError(\"initial population values must be of shape (population_size, objectives_number)\")\n",
        "        self.current_objective_values = initial_objective_values\n",
        "        self.current_pareto_frontier = np.empty(self.population_size)\n",
        "        self.current_crowding_distances = np.empty(self.population_size)\n",
        "        self.replace_population(None, None)\n",
        "\n",
        "\n",
        "    def get_population(self):\n",
        "        return self.current_population\n",
        "\n",
        "\n",
        "    def get_values(self):\n",
        "        return self.current_objective_values\n",
        "\n",
        "\n",
        "    def non_dominated_sort(self, pop_vals):\n",
        "\n",
        "        def is_not_empty(frontier):\n",
        "            return np.any(frontier == 1)\n",
        "\n",
        "        pop_size = pop_vals.shape[0]\n",
        "\n",
        "        current_frontier = np.zeros(pop_size, dtype='int32')\n",
        "        next_frontier = np.zeros(pop_size, dtype='int32')\n",
        "        current_rank = 1\n",
        "\n",
        "        dom = np.zeros((pop_size, pop_size), dtype='int32')\n",
        "        dom_count = np.zeros(pop_size, dtype='int32')\n",
        "        rank = np.zeros(pop_size, dtype='int32')\n",
        "\n",
        "        d_dom = cuda.to_device(dom)\n",
        "        d_dom_count = cuda.to_device(dom_count)\n",
        "        d_rank = cuda.to_device(rank)\n",
        "\n",
        "        griddim  = (max(pop_size//32, 1), max(pop_size//32, 1))\n",
        "        blockdim = (32, 32)\n",
        "\n",
        "        check_domination[griddim, blockdim](pop_vals, d_dom, d_dom_count)\n",
        "        find_first_frontier[max(pop_size//1024, 1), 1024](d_dom_count, current_frontier, d_rank)\n",
        "\n",
        "        while(is_not_empty(current_frontier)):\n",
        "            next_frontier = np.zeros(pop_size)\n",
        "            current_rank += 1\n",
        "            remove_current_frontier[griddim, blockdim](d_dom, d_dom_count, current_rank,\n",
        "                                                        current_frontier, next_frontier, d_rank)\n",
        "            current_frontier = next_frontier\n",
        "\n",
        "        rank = d_rank.copy_to_host()\n",
        "        return rank\n",
        "\n",
        "\n",
        "    def assign_crowding_distance(self, objective_values):\n",
        "        size = objective_values.shape[0]\n",
        "        distance = np.zeros(size)\n",
        "        for current_objective in range(self.objectives_number):\n",
        "            current_objective_values = objective_values[:, current_objective]\n",
        "            sorted_indices = np.argsort(current_objective_values)\n",
        "            current_objective_values_diff = current_objective_values[sorted_indices[-1]] - current_objective_values[sorted_indices[0]]\n",
        "            if current_objective_values_diff == 0:\n",
        "                continue\n",
        "            distance[sorted_indices[0]], distance[sorted_indices[-1]] = np.inf, np.inf\n",
        "            for i in range(1, size-1):\n",
        "                distance[sorted_indices[i]] += ((current_objective_values[sorted_indices[i+1]] - current_objective_values[sorted_indices[i-1]]) /\n",
        "                                                current_objective_values_diff)\n",
        "        return distance\n",
        "\n",
        "\n",
        "    def generate_children(self, crossover_operator, mutation_operator,\n",
        "                          crossover_probability = 0.95, mutation_probability = 0.25,\n",
        "                          number_of_offspring = None):\n",
        "\n",
        "        def compare(p, q):\n",
        "            if self.current_pareto_frontier[p] == self.current_pareto_frontier[q]:\n",
        "                return self.current_crowding_distances[p] > self.current_crowding_distances[q]\n",
        "            return self.current_pareto_frontier[p] > self.current_pareto_frontier[q]\n",
        "\n",
        "        if number_of_offspring is None:\n",
        "            number_of_offspring = self.population_size\n",
        "\n",
        "        # selecting parent indices by the binary tournament method\n",
        "        time1 = time.time()\n",
        "        parent_indices = np.empty(number_of_offspring, dtype=np.int64)\n",
        "        for i in range(number_of_offspring):\n",
        "            candidates = np.random.choice(self.population_size, 2, False)\n",
        "            if compare(candidates[0], candidates[1]):\n",
        "                parent_indices[i] = candidates[0]\n",
        "            else:\n",
        "                parent_indices[i] = candidates[1]\n",
        "        print(\"     Selection:                      \", time.time() - time1)\n",
        "\n",
        "        # creating children population\n",
        "        time1 = time.time()\n",
        "        children_population = np.empty((number_of_offspring, self.chromosome_length), dtype='int32')\n",
        "        for i in range(number_of_offspring//2):\n",
        "            if np.random.random() < crossover_probability:\n",
        "                children_population[2*i], children_population[2*i+1] = crossover_operator(self.current_population[parent_indices[2*i]].copy(), self.current_population[parent_indices[2*i+1]].copy())\n",
        "            else:\n",
        "                children_population[2*i], children_population[2*i+1] = self.current_population[parent_indices[2*i]].copy(), self.current_population[parent_indices[2*i+1]].copy()\n",
        "        if np.mod(number_of_offspring, 2) == 1:\n",
        "            children_population[-1] = self.current_population[parent_indices[-1]]\n",
        "        print(\"     Recombination:                  \", time.time() - time1)\n",
        "\n",
        "        # mutating children population\n",
        "        time1 = time.time()\n",
        "        for i in range(number_of_offspring):\n",
        "            if np.random.random() < mutation_probability:\n",
        "                children_population[i] = mutation_operator(children_population[i])\n",
        "        print(\"     Mutation:                       \", time.time() - time1)\n",
        "\n",
        "        return children_population\n",
        "\n",
        "\n",
        "    def replace_population(self, children_population, children_objective_values):\n",
        "\n",
        "        if(children_population is None and children_objective_values is None):\n",
        "            combined_population = self.current_population\n",
        "            combined_objective_values = self.current_objective_values\n",
        "        else:\n",
        "            combined_population = np.vstack((self.current_population, children_population))\n",
        "            combined_objective_values = np.vstack((self.current_objective_values, children_objective_values))\n",
        "\n",
        "        time2 = time.time()\n",
        "        combined_pareto_frontier = self.non_dominated_sort(combined_objective_values)\n",
        "        print(\"         Non dominated sort:         \", time.time() - time2)\n",
        "\n",
        "        positions = np.argsort(combined_pareto_frontier)\n",
        "\n",
        "        combined_population = combined_population[positions]\n",
        "        combined_objective_values = combined_objective_values[positions]\n",
        "        combined_pareto_frontier = combined_pareto_frontier[positions]\n",
        "\n",
        "        # assign crowding distance and select subset of last frontier\n",
        "        found_population_size = 0\n",
        "        current_frontier_number = 1\n",
        "        current_frontier_lb, current_frontier_rb = (np.searchsorted(combined_pareto_frontier, current_frontier_number),\n",
        "                                                    np.searchsorted(combined_pareto_frontier, current_frontier_number, side='right'))\n",
        "        current_frontier_size = current_frontier_rb - current_frontier_lb\n",
        "        time2 = time.time()\n",
        "        while found_population_size + current_frontier_size < self.population_size:\n",
        "            found_population_size += current_frontier_size\n",
        "            current_frontier_distances = self.assign_crowding_distance(combined_objective_values[current_frontier_lb : current_frontier_rb])\n",
        "            self.current_crowding_distances[current_frontier_lb : current_frontier_rb] = current_frontier_distances\n",
        "            current_frontier_number += 1\n",
        "            current_frontier_lb, current_frontier_rb = (np.searchsorted(combined_pareto_frontier, current_frontier_number),\n",
        "                                                        np.searchsorted(combined_pareto_frontier, current_frontier_number, side='right'))\n",
        "            current_frontier_size = current_frontier_rb - current_frontier_lb\n",
        "\n",
        "        current_frontier_distances = self.assign_crowding_distance(combined_objective_values[current_frontier_lb : current_frontier_rb])\n",
        "        last_frontier_taken_indices = np.argsort(current_frontier_distances)[::-1][:self.population_size - found_population_size]\n",
        "        print(\"         Distance assignment:        \", time.time() - time2)\n",
        "\n",
        "        combined_population[current_frontier_lb : self.population_size] = combined_population[last_frontier_taken_indices]\n",
        "        combined_objective_values[current_frontier_lb : self.population_size] = combined_objective_values[last_frontier_taken_indices]\n",
        "        self.current_crowding_distances[current_frontier_lb : self.population_size] = current_frontier_distances[last_frontier_taken_indices]\n",
        "\n",
        "        self.current_population = combined_population[:self.population_size]\n",
        "        self.current_objective_values = combined_objective_values[:self.population_size]\n",
        "        self.current_pareto_frontier = combined_pareto_frontier[:self.population_size]\n",
        "\n",
        "        return True"
      ],
      "execution_count": 19,
      "outputs": []
    },
    {
      "cell_type": "code",
      "metadata": {
        "id": "Gv5NhYHt20L0"
      },
      "source": [
        "euclidA100 = tsplib95.load(\"euclidA100.tsp\")\n",
        "euclidB100 = tsplib95.load(\"euclidB100.tsp\")\n",
        "\n",
        "solutionsAB = np.loadtxt('best.euclidAB100.tsp', dtype=int)\n",
        "\n",
        "distance_matrix = generate_distance_matrix(100, euclidA100, euclidB100)\n",
        "d_distance = cuda.to_device(distance_matrix)"
      ],
      "execution_count": 12,
      "outputs": []
    },
    {
      "cell_type": "code",
      "metadata": {
        "colab": {
          "base_uri": "https://localhost:8080/"
        },
        "id": "Jw5bxUea20L2",
        "outputId": "f6808bc9-029d-410e-b843-8ffeff6f2db2"
      },
      "source": [
        "chrom_len = 100\n",
        "pop_size = 512\n",
        "obj_num = 2\n",
        "n_iters = 10\n",
        "\n",
        "griddim = (1, 1, pop_size)\n",
        "blockdim = (128, 2, 1)\n",
        "\n",
        "print(\"Initialization: \")\n",
        "init_pop = generate_population(pop_size, chrom_len)\n",
        "init_vals = np.zeros((pop_size, obj_num), dtype='int32')\n",
        "evaluate_population[griddim, blockdim](init_pop, d_distance, init_vals)\n",
        "\n",
        "nsga_ii = NSGA_II_GPU_prints(chrom_len, pop_size, obj_num, init_pop, init_vals)\n",
        "\n",
        "for t in range(n_iters):\n",
        "    print()\n",
        "    print(\"Iteration number:                    \", t)\n",
        "    print()\n",
        "    t0 = time.time()\n",
        "\n",
        "    children = nsga_ii.generate_children(PMX, reverse_sequence_mutation)\n",
        "    t1 = time.time()\n",
        "    children_vals = np.zeros((children.shape[0], obj_num), dtype='int32')\n",
        "    evaluate_population[griddim, blockdim](children, d_distance, children_vals)\n",
        "    print(\"     Population evaluation:          \", time.time() - t1)\n",
        "\n",
        "    print(\"     Population replacement:\")\n",
        "    t1 = time.time()\n",
        "    nsga_ii.replace_population(children, children_vals)\n",
        "    print(\"     Population replacement - sum:   \", time.time() - t1)\n",
        "\n",
        "    print()\n",
        "    print(\"Iteration - sum:                     \", time.time() - t0)\n"
      ],
      "execution_count": 25,
      "outputs": [
        {
          "output_type": "stream",
          "text": [
            "Initialization: \n",
            "         Non dominated sort:          0.04922318458557129\n",
            "         Distance assignment:         0.0018167495727539062\n",
            "\n",
            "Iteration number:                     0\n",
            "\n",
            "     Selection:                       0.019443750381469727\n",
            "     Recombination:                   0.26180005073547363\n",
            "     Mutation:                        0.0036439895629882812\n",
            "     Population evaluation:           0.002460479736328125\n",
            "     Population replacement:\n",
            "         Non dominated sort:          0.05821657180786133\n",
            "         Distance assignment:         0.001598358154296875\n",
            "     Population replacement - sum:    0.06086087226867676\n",
            "\n",
            "Iteration - sum:                      0.34987592697143555\n",
            "\n",
            "Iteration number:                     1\n",
            "\n",
            "     Selection:                       0.011914253234863281\n",
            "     Recombination:                   0.256131649017334\n",
            "     Mutation:                        0.0036163330078125\n",
            "     Population evaluation:           0.0019578933715820312\n",
            "     Population replacement:\n",
            "         Non dominated sort:          0.04845762252807617\n",
            "         Distance assignment:         0.0015802383422851562\n",
            "     Population replacement - sum:    0.05149960517883301\n",
            "\n",
            "Iteration - sum:                      0.3255186080932617\n",
            "\n",
            "Iteration number:                     2\n",
            "\n",
            "     Selection:                       0.019803762435913086\n",
            "     Recombination:                   0.257601261138916\n",
            "     Mutation:                        0.0035567283630371094\n",
            "     Population evaluation:           0.0019834041595458984\n",
            "     Population replacement:\n",
            "         Non dominated sort:          0.04396557807922363\n",
            "         Distance assignment:         0.0017614364624023438\n",
            "     Population replacement - sum:    0.04769706726074219\n",
            "\n",
            "Iteration - sum:                      0.33113932609558105\n",
            "\n",
            "Iteration number:                     3\n",
            "\n",
            "     Selection:                       0.01908135414123535\n",
            "     Recombination:                   0.25818514823913574\n",
            "     Mutation:                        0.0036766529083251953\n",
            "     Population evaluation:           0.002232074737548828\n",
            "     Population replacement:\n",
            "         Non dominated sort:          0.041290998458862305\n",
            "         Distance assignment:         0.0015053749084472656\n",
            "     Population replacement - sum:    0.04415130615234375\n",
            "\n",
            "Iteration - sum:                      0.328216552734375\n",
            "\n",
            "Iteration number:                     4\n",
            "\n",
            "     Selection:                       0.019141435623168945\n",
            "     Recombination:                   0.25807952880859375\n",
            "     Mutation:                        0.0040624141693115234\n",
            "     Population evaluation:           0.0018811225891113281\n",
            "     Population replacement:\n",
            "         Non dominated sort:          0.04291057586669922\n",
            "         Distance assignment:         0.0015833377838134766\n",
            "     Population replacement - sum:    0.046170949935913086\n",
            "\n",
            "Iteration - sum:                      0.3300294876098633\n",
            "\n",
            "Iteration number:                     5\n",
            "\n",
            "     Selection:                       0.01419687271118164\n",
            "     Recombination:                   0.27086496353149414\n",
            "     Mutation:                        0.004492282867431641\n",
            "     Population evaluation:           0.002339601516723633\n",
            "     Population replacement:\n",
            "         Non dominated sort:          0.042490482330322266\n",
            "         Distance assignment:         0.0014564990997314453\n",
            "     Population replacement - sum:    0.04528617858886719\n",
            "\n",
            "Iteration - sum:                      0.33847498893737793\n",
            "\n",
            "Iteration number:                     6\n",
            "\n",
            "     Selection:                       0.01886463165283203\n",
            "     Recombination:                   0.2559998035430908\n",
            "     Mutation:                        0.004239797592163086\n",
            "     Population evaluation:           0.0017108917236328125\n",
            "     Population replacement:\n",
            "         Non dominated sort:          0.04207015037536621\n",
            "         Distance assignment:         0.0014770030975341797\n",
            "     Population replacement - sum:    0.04492545127868652\n",
            "\n",
            "Iteration - sum:                      0.3273496627807617\n",
            "\n",
            "Iteration number:                     7\n",
            "\n",
            "     Selection:                       0.01898479461669922\n",
            "     Recombination:                   0.24828600883483887\n",
            "     Mutation:                        0.0038127899169921875\n",
            "     Population evaluation:           0.0021734237670898438\n",
            "     Population replacement:\n",
            "         Non dominated sort:          0.037644147872924805\n",
            "         Distance assignment:         0.0015151500701904297\n",
            "     Population replacement - sum:    0.040398597717285156\n",
            "\n",
            "Iteration - sum:                      0.314589262008667\n",
            "\n",
            "Iteration number:                     8\n",
            "\n",
            "     Selection:                       0.01960921287536621\n",
            "     Recombination:                   0.2586843967437744\n",
            "     Mutation:                        0.0036406517028808594\n",
            "     Population evaluation:           0.0020084381103515625\n",
            "     Population replacement:\n",
            "         Non dominated sort:          0.038010597229003906\n",
            "         Distance assignment:         0.0015864372253417969\n",
            "     Population replacement - sum:    0.04137587547302246\n",
            "\n",
            "Iteration - sum:                      0.3263890743255615\n",
            "\n",
            "Iteration number:                     9\n",
            "\n",
            "     Selection:                       0.01355743408203125\n",
            "     Recombination:                   0.24514007568359375\n",
            "     Mutation:                        0.0028564929962158203\n",
            "     Population evaluation:           0.0021741390228271484\n",
            "     Population replacement:\n",
            "         Non dominated sort:          0.040845632553100586\n",
            "         Distance assignment:         0.0017805099487304688\n",
            "     Population replacement - sum:    0.04427337646484375\n",
            "\n",
            "Iteration - sum:                      0.3090953826904297\n"
          ],
          "name": "stdout"
        }
      ]
    },
    {
      "cell_type": "markdown",
      "metadata": {
        "id": "zI5XsPTd6pLu"
      },
      "source": [
        "Dla populacji wielkości 512 udało się zredukować czas sortowania z ~ 9.5 sekundy do ~ 0.04 sekundy,  \n",
        "tym samym zmniejszając czas trwania iteracji z ~ 9.8 sekundy do ~ 0.34 sekundy"
      ]
    },
    {
      "cell_type": "markdown",
      "metadata": {
        "id": "Dcq5baU_6NDJ"
      },
      "source": [
        "## Algorytm w praktyce - CPU"
      ]
    },
    {
      "cell_type": "code",
      "metadata": {
        "id": "yve9t8GT9hM7"
      },
      "source": [
        "euclidA100 = tsplib95.load(\"euclidA100.tsp\")\n",
        "euclidB100 = tsplib95.load(\"euclidB100.tsp\")\n",
        "\n",
        "solutionsAB = np.loadtxt('best.euclidAB100.tsp', dtype=int)\n",
        "\n",
        "distance_matrix = generate_distance_matrix(100, euclidA100, euclidB100)\n",
        "d_distance = cuda.to_device(distance_matrix)"
      ],
      "execution_count": 26,
      "outputs": []
    },
    {
      "cell_type": "code",
      "metadata": {
        "colab": {
          "base_uri": "https://localhost:8080/",
          "height": 1000,
          "referenced_widgets": [
            "7ee42e442d2d4a20b7b88a6241e3ea20",
            "ff9d288c1d1e493ea2ececc22b2fcba6",
            "6f9acf85e0894b439b39c6ebca39c666",
            "97f81172688e42b3a99dac03d8d8d17e",
            "98b19382f07442eab73807862e26952b",
            "1b9a078e0a1c41198c7f39e67f70b06a",
            "2d9c312435af43808820df500a1e1567",
            "de8a4633c3064b66a6417cbea0aaf055"
          ]
        },
        "id": "Gx-DNDko8x09",
        "outputId": "9147d72c-780f-404e-e697-64321f87b2fe"
      },
      "source": [
        "chrom_len = 100\n",
        "pop_size = 512\n",
        "obj_num = 2\n",
        "n_iters = 300\n",
        "\n",
        "init_pop = np.empty((pop_size, chrom_len), dtype='int32')\n",
        "\n",
        "for i in range(pop_size):\n",
        "    ind = np.random.permutation(chrom_len)\n",
        "    init_pop[i] = ind\n",
        "    \n",
        "init_vals = np.zeros((pop_size, obj_num), dtype='int32')\n",
        "\n",
        "\n",
        "init_vals = evaluate_population_cpu(init_pop, distance_matrix, obj_num)\n",
        "\n",
        "nsga_ii = NSGA_II(chrom_len, pop_size, obj_num, init_pop, init_vals)\n",
        "\n",
        "plt.figure(figsize=(12,12))\n",
        "plt.scatter(solutionsAB[:, 0], solutionsAB[:, 1])\n",
        "\n",
        "for t in tqdm(range(n_iters)):\n",
        "\n",
        "    if(np.mod(t, 50) == 0):\n",
        "        current_vals = nsga_ii.get_values()\n",
        "        plt.scatter(current_vals[:, 0], current_vals[:, 1])\n",
        "\n",
        "    children = nsga_ii.generate_children(PMX, reverse_sequence_mutation)\n",
        "\n",
        "    children_vals = evaluate_population_cpu(children, distance_matrix, obj_num)\n",
        "\n",
        "    nsga_ii.replace_population(children, children_vals)\n",
        "\n",
        "current_vals = nsga_ii.get_values()\n",
        "plt.scatter(current_vals[:, 0], current_vals[:, 1])"
      ],
      "execution_count": 29,
      "outputs": [
        {
          "output_type": "display_data",
          "data": {
            "application/vnd.jupyter.widget-view+json": {
              "model_id": "7ee42e442d2d4a20b7b88a6241e3ea20",
              "version_minor": 0,
              "version_major": 2
            },
            "text/plain": [
              "HBox(children=(FloatProgress(value=0.0, max=300.0), HTML(value='')))"
            ]
          },
          "metadata": {
            "tags": []
          }
        },
        {
          "output_type": "error",
          "ename": "KeyboardInterrupt",
          "evalue": "ignored",
          "traceback": [
            "\u001b[0;31m---------------------------------------------------------------------------\u001b[0m",
            "\u001b[0;31mKeyboardInterrupt\u001b[0m                         Traceback (most recent call last)",
            "\u001b[0;32m<ipython-input-29-1c0c8342ca90>\u001b[0m in \u001b[0;36m<module>\u001b[0;34m()\u001b[0m\n\u001b[1;32m     30\u001b[0m     \u001b[0mchildren_vals\u001b[0m \u001b[0;34m=\u001b[0m \u001b[0mevaluate_population_cpu\u001b[0m\u001b[0;34m(\u001b[0m\u001b[0mchildren\u001b[0m\u001b[0;34m,\u001b[0m \u001b[0mdistance_matrix\u001b[0m\u001b[0;34m,\u001b[0m \u001b[0mobj_num\u001b[0m\u001b[0;34m)\u001b[0m\u001b[0;34m\u001b[0m\u001b[0;34m\u001b[0m\u001b[0m\n\u001b[1;32m     31\u001b[0m \u001b[0;34m\u001b[0m\u001b[0m\n\u001b[0;32m---> 32\u001b[0;31m     \u001b[0mnsga_ii\u001b[0m\u001b[0;34m.\u001b[0m\u001b[0mreplace_population\u001b[0m\u001b[0;34m(\u001b[0m\u001b[0mchildren\u001b[0m\u001b[0;34m,\u001b[0m \u001b[0mchildren_vals\u001b[0m\u001b[0;34m)\u001b[0m\u001b[0;34m\u001b[0m\u001b[0;34m\u001b[0m\u001b[0m\n\u001b[0m\u001b[1;32m     33\u001b[0m \u001b[0;34m\u001b[0m\u001b[0m\n\u001b[1;32m     34\u001b[0m \u001b[0mcurrent_vals\u001b[0m \u001b[0;34m=\u001b[0m \u001b[0mnsga_ii\u001b[0m\u001b[0;34m.\u001b[0m\u001b[0mget_values\u001b[0m\u001b[0;34m(\u001b[0m\u001b[0;34m)\u001b[0m\u001b[0;34m\u001b[0m\u001b[0;34m\u001b[0m\u001b[0m\n",
            "\u001b[0;32m<ipython-input-21-fb23ff6ea02f>\u001b[0m in \u001b[0;36mreplace_population\u001b[0;34m(self, children_population, children_objective_values)\u001b[0m\n\u001b[1;32m    131\u001b[0m             \u001b[0mcombined_objective_values\u001b[0m \u001b[0;34m=\u001b[0m \u001b[0mnp\u001b[0m\u001b[0;34m.\u001b[0m\u001b[0mvstack\u001b[0m\u001b[0;34m(\u001b[0m\u001b[0;34m(\u001b[0m\u001b[0mself\u001b[0m\u001b[0;34m.\u001b[0m\u001b[0mcurrent_objective_values\u001b[0m\u001b[0;34m,\u001b[0m \u001b[0mchildren_objective_values\u001b[0m\u001b[0;34m)\u001b[0m\u001b[0;34m)\u001b[0m\u001b[0;34m\u001b[0m\u001b[0;34m\u001b[0m\u001b[0m\n\u001b[1;32m    132\u001b[0m \u001b[0;34m\u001b[0m\u001b[0m\n\u001b[0;32m--> 133\u001b[0;31m         \u001b[0mcombined_pareto_frontier\u001b[0m \u001b[0;34m=\u001b[0m \u001b[0mself\u001b[0m\u001b[0;34m.\u001b[0m\u001b[0mnon_dominated_sort\u001b[0m\u001b[0;34m(\u001b[0m\u001b[0mcombined_objective_values\u001b[0m\u001b[0;34m)\u001b[0m\u001b[0;34m\u001b[0m\u001b[0;34m\u001b[0m\u001b[0m\n\u001b[0m\u001b[1;32m    134\u001b[0m \u001b[0;34m\u001b[0m\u001b[0m\n\u001b[1;32m    135\u001b[0m         \u001b[0mpositions\u001b[0m \u001b[0;34m=\u001b[0m \u001b[0mnp\u001b[0m\u001b[0;34m.\u001b[0m\u001b[0margsort\u001b[0m\u001b[0;34m(\u001b[0m\u001b[0mcombined_pareto_frontier\u001b[0m\u001b[0;34m)\u001b[0m\u001b[0;34m\u001b[0m\u001b[0;34m\u001b[0m\u001b[0m\n",
            "\u001b[0;32m<ipython-input-21-fb23ff6ea02f>\u001b[0m in \u001b[0;36mnon_dominated_sort\u001b[0;34m(self, objective_values)\u001b[0m\n\u001b[1;32m     47\u001b[0m                 \u001b[0;32mif\u001b[0m \u001b[0mdominates\u001b[0m\u001b[0;34m(\u001b[0m\u001b[0mobjective_values\u001b[0m\u001b[0;34m[\u001b[0m\u001b[0mp\u001b[0m\u001b[0;34m]\u001b[0m\u001b[0;34m,\u001b[0m \u001b[0mobjective_values\u001b[0m\u001b[0;34m[\u001b[0m\u001b[0mq\u001b[0m\u001b[0;34m]\u001b[0m\u001b[0;34m)\u001b[0m\u001b[0;34m:\u001b[0m\u001b[0;34m\u001b[0m\u001b[0;34m\u001b[0m\u001b[0m\n\u001b[1;32m     48\u001b[0m                     \u001b[0mdominated\u001b[0m\u001b[0;34m[\u001b[0m\u001b[0mp\u001b[0m\u001b[0;34m]\u001b[0m\u001b[0;34m.\u001b[0m\u001b[0mappend\u001b[0m\u001b[0;34m(\u001b[0m\u001b[0mq\u001b[0m\u001b[0;34m)\u001b[0m\u001b[0;34m\u001b[0m\u001b[0;34m\u001b[0m\u001b[0m\n\u001b[0;32m---> 49\u001b[0;31m                 \u001b[0;32melif\u001b[0m \u001b[0mdominates\u001b[0m\u001b[0;34m(\u001b[0m\u001b[0mobjective_values\u001b[0m\u001b[0;34m[\u001b[0m\u001b[0mq\u001b[0m\u001b[0;34m]\u001b[0m\u001b[0;34m,\u001b[0m \u001b[0mobjective_values\u001b[0m\u001b[0;34m[\u001b[0m\u001b[0mp\u001b[0m\u001b[0;34m]\u001b[0m\u001b[0;34m)\u001b[0m\u001b[0;34m:\u001b[0m\u001b[0;34m\u001b[0m\u001b[0;34m\u001b[0m\u001b[0m\n\u001b[0m\u001b[1;32m     50\u001b[0m                     \u001b[0mdominating_count\u001b[0m\u001b[0;34m[\u001b[0m\u001b[0mp\u001b[0m\u001b[0;34m]\u001b[0m \u001b[0;34m+=\u001b[0m \u001b[0;36m1\u001b[0m\u001b[0;34m\u001b[0m\u001b[0;34m\u001b[0m\u001b[0m\n\u001b[1;32m     51\u001b[0m             \u001b[0;32mif\u001b[0m \u001b[0mdominating_count\u001b[0m\u001b[0;34m[\u001b[0m\u001b[0mp\u001b[0m\u001b[0;34m]\u001b[0m \u001b[0;34m==\u001b[0m \u001b[0;36m0\u001b[0m\u001b[0;34m:\u001b[0m\u001b[0;34m\u001b[0m\u001b[0;34m\u001b[0m\u001b[0m\n",
            "\u001b[0;32m<ipython-input-21-fb23ff6ea02f>\u001b[0m in \u001b[0;36mdominates\u001b[0;34m(vals1, vals2)\u001b[0m\n\u001b[1;32m     31\u001b[0m \u001b[0;34m\u001b[0m\u001b[0m\n\u001b[1;32m     32\u001b[0m         \u001b[0;32mdef\u001b[0m \u001b[0mdominates\u001b[0m\u001b[0;34m(\u001b[0m\u001b[0mvals1\u001b[0m\u001b[0;34m,\u001b[0m \u001b[0mvals2\u001b[0m\u001b[0;34m)\u001b[0m\u001b[0;34m:\u001b[0m\u001b[0;34m\u001b[0m\u001b[0;34m\u001b[0m\u001b[0m\n\u001b[0;32m---> 33\u001b[0;31m             \u001b[0;32mreturn\u001b[0m \u001b[0mnp\u001b[0m\u001b[0;34m.\u001b[0m\u001b[0mall\u001b[0m\u001b[0;34m(\u001b[0m\u001b[0mvals1\u001b[0m \u001b[0;34m<=\u001b[0m \u001b[0mvals2\u001b[0m\u001b[0;34m)\u001b[0m \u001b[0;32mand\u001b[0m \u001b[0mnp\u001b[0m\u001b[0;34m.\u001b[0m\u001b[0many\u001b[0m\u001b[0;34m(\u001b[0m\u001b[0mvals1\u001b[0m \u001b[0;34m<\u001b[0m \u001b[0mvals2\u001b[0m\u001b[0;34m)\u001b[0m\u001b[0;34m\u001b[0m\u001b[0;34m\u001b[0m\u001b[0m\n\u001b[0m\u001b[1;32m     34\u001b[0m \u001b[0;34m\u001b[0m\u001b[0m\n\u001b[1;32m     35\u001b[0m         \u001b[0msize\u001b[0m \u001b[0;34m=\u001b[0m \u001b[0mobjective_values\u001b[0m\u001b[0;34m.\u001b[0m\u001b[0mshape\u001b[0m\u001b[0;34m[\u001b[0m\u001b[0;36m0\u001b[0m\u001b[0;34m]\u001b[0m\u001b[0;34m\u001b[0m\u001b[0;34m\u001b[0m\u001b[0m\n",
            "\u001b[0;31mKeyboardInterrupt\u001b[0m: "
          ]
        },
        {
          "output_type": "display_data",
          "data": {
            "image/png": "[encoded data removed]",
            "text/plain": [
              "<Figure size 864x864 with 1 Axes>"
            ]
          },
          "metadata": {
            "tags": [],
            "needs_background": "light"
          }
        }
      ]
    },
    {
      "cell_type": "code",
      "metadata": {
        "id": "mtyll5GH-lif"
      },
      "source": [
        ""
      ],
      "execution_count": null,
      "outputs": []
    }
  ]
}