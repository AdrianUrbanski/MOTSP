{
  "nbformat": 4,
  "nbformat_minor": 0,
  "metadata": {
    "colab": {
      "name": "MOTSP.ipynb",
      "provenance": [],
      "collapsed_sections": []
    },
    "kernelspec": {
      "name": "python3",
      "display_name": "Python 3"
    }
  },
  "cells": [
    {
      "cell_type": "code",
      "metadata": {
        "id": "xEuU1Jj0YqcZ"
      },
      "source": [
        "import numpy as np"
      ],
      "execution_count": 1,
      "outputs": []
    },
    {
      "cell_type": "markdown",
      "metadata": {
        "id": "PJRlYNAUUqIH"
      },
      "source": [
        "# Implementacja NSGA-II"
      ]
    },
    {
      "cell_type": "code",
      "metadata": {
        "id": "9fu8UOIDUud0"
      },
      "source": [
        "class NSGAII:\n",
        "    def __init__(self, chromosome_length, population_size, initial_population, initial_objective_values):\n",
        "        self.chromosome_length = chromosome_length\n",
        "        self.population_size = population_size\n",
        "        if type(initial_population) is not np.ndarray:\n",
        "            raise ValueError(\"initial population must be a numpy array\")\n",
        "        if initial_population.shape != (population_size, chromosome_length):\n",
        "            raise ValueError(\"initial population must be of shape (population_size, chromosome_length)\")\n",
        "        self.current_population = initial_population\n",
        "        if type(initial_objective_values) is not np.ndarray:\n",
        "            raise ValueError(\"initial objective values must be a numpy array\")\n",
        "        if initial_population.shape != (population_size, chromosome_length):\n",
        "            raise ValueError(\"initial population values must be of shape (population_size, objectives_number)\")\n",
        "        self.current_objective_values = initial_objective_values\n",
        "\n",
        "    def get_population(self):\n",
        "        return self.current_population\n",
        "\n",
        "    def non_dominated_sort(self, population_values):\n",
        "        def dominates(vals1, vals2):\n",
        "            return np.all(vals1 >= vals2) and np.any(vals1 > vals2)\n",
        "        # TODO\n",
        "        # implementation of fast non dominated sort\n",
        "\n",
        "        \n",
        "\n",
        "    def generate_children(self, objective_values, number_of_offspring = self.population_size):\n",
        "        # TODO\n",
        "        # parent selection\n",
        "        # recombination\n",
        "        # mutation\n",
        "\n",
        "    def replace_population(self, children_population, children_objective_values):\n",
        "        # TODO\n",
        "        # combine current population and children population\n",
        "        # sort it using non dominated sort\n",
        "        self.current_population = combined_population[:population_size]\n",
        "        self.current_objective_values = combined_objective_values[:population_size]\n"
      ],
      "execution_count": 3,
      "outputs": []
    },
    {
      "cell_type": "code",
      "metadata": {
        "id": "kA9-hJ2xZeti"
      },
      "source": [
        ""
      ],
      "execution_count": null,
      "outputs": []
    }
  ]
}