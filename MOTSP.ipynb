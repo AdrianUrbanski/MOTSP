{
  "nbformat": 4,
  "nbformat_minor": 0,
  "metadata": {
    "colab": {
      "name": "MOTSP.ipynb",
      "provenance": [],
      "collapsed_sections": []
    },
    "kernelspec": {
      "name": "python3",
      "display_name": "Python 3"
    }
  },
  "cells": [
    {
      "cell_type": "code",
      "metadata": {
        "id": "xEuU1Jj0YqcZ"
      },
      "source": [
        "import numpy as np"
      ],
      "execution_count": 1,
      "outputs": []
    },
    {
      "cell_type": "markdown",
      "metadata": {
        "id": "PJRlYNAUUqIH"
      },
      "source": [
        "# Implementacja NSGA-II"
      ]
    },
    {
      "cell_type": "code",
      "metadata": {
        "id": "9fu8UOIDUud0",
        "colab": {
          "base_uri": "https://localhost:8080/",
          "height": 358
        },
        "outputId": "99beb6c3-4a09-408a-d965-040457654f28"
      },
      "source": [
        "class NSGAII:\n",
        "    def __init__(self, chromosome_length, population_size, objectives_number,\n",
        "                 initial_population, initial_objective_values):\n",
        "        self.chromosome_length = chromosome_length\n",
        "        self.population_size = population_size\n",
        "        self.objectives_number = objectives_number\n",
        "        if type(initial_population) is not np.ndarray:\n",
        "            raise ValueError(\"initial population must be a numpy array\")\n",
        "        if initial_population.shape != (self.population_size, self.chromosome_length):\n",
        "            raise ValueError(\"initial population must be of shape (population_size, chromosome_length)\")\n",
        "        self.current_population = initial_population\n",
        "        if type(initial_objective_values) is not np.ndarray:\n",
        "            raise ValueError(\"initial objective values must be a numpy array\")\n",
        "        if initial_objective_values.shape != (self.population_size, self.objectives_number):\n",
        "            raise ValueError(\"initial population values must be of shape (population_size, objectives_number)\")\n",
        "        self.current_objective_values = initial_objective_values\n",
        "        self.current_pareto_frontier = np.empty(self.population_size)\n",
        "        self.current_crowding_distances = np.empty(self.population_size)\n",
        "        self.replace_population(np.array([]), np.array([]))\n",
        "\n",
        "\n",
        "    def get_population(self):\n",
        "        return self.current_population\n",
        "\n",
        "\n",
        "    def non_dominated_sort(self, objective_values):\n",
        "\n",
        "        def dominates(vals1, vals2):\n",
        "            return np.all(vals1 >= vals2) and np.any(vals1 > vals2)\n",
        "\n",
        "        size = objective_values.shape[0]\n",
        "        pareto_frontier = np.empty(size, dtype=int)\n",
        "        current_frontier_number = 1\n",
        "        current_frontier_members = []\n",
        "        # number of solutions dominating p\n",
        "        dominating_count = np.zeros(size, dtype=int)\n",
        "        # set of solutions dominated by p\n",
        "        dominated = [None] * size \n",
        "\n",
        "        for p in range(size):\n",
        "            dominated[p] = []\n",
        "            for q in range(size):\n",
        "                if dominates(objective_values[p], objective_values[q]):\n",
        "                    dominated[p].append(q)\n",
        "                elif dominates(objective_values[q], objective_values[p]):\n",
        "                    dominating_count[p] += 1\n",
        "            if dominating_count[p] == 0:\n",
        "                pareto_frontier[p] = current_frontier_number\n",
        "                current_frontier_members.append(p)\n",
        "\n",
        "        while current_frontier_members != []:\n",
        "            current_frontier_number += 1\n",
        "            new_frontier_members = []\n",
        "            for p in current_frontier_members:\n",
        "                for q in dominated[p]:\n",
        "                    dominating_count[q] -= 1\n",
        "                    if dominating_count[q] == 0:\n",
        "                        pareto_frontier[q] = current_frontier_number\n",
        "                        new_frontier_members.append(q)\n",
        "            current_frontier_members = new_frontier_members\n",
        "        \n",
        "        return pareto_frontier\n",
        "\n",
        "\n",
        "    def assign_crowding_distance(self, objective_values):\n",
        "        size = objective_values.shape[0]\n",
        "        distance = np.zeros(size)\n",
        "        for current_objective in range(self.objectives_number):\n",
        "            current_objective_values = objective_values[:, current_objective]\n",
        "            sorted_indices = np.argsort(current_objective_values)\n",
        "            current_objective_values_diff = current_objective_values[sorted_indices[-1]] - current_objective_values[sorted_indices[0]]\n",
        "            if current_objective_values_diff == 0:\n",
        "                continue\n",
        "            distance[sorted_indices[0]], distance[sorted_indices[-1]] = np.inf, np.inf\n",
        "            for i in range(1, size-1):\n",
        "                distance[sorted_indices[i]] += ((current_objective_values[sorted_indices[i+1]] - current_objective_values[sorted_indices[i-1]]) /\n",
        "                                                current_objective_values_diff)\n",
        "        return distances\n",
        "\n",
        "\n",
        "    def generate_children(self, objective_values, number_of_offspring = self.population_size):\n",
        "        # TODO\n",
        "        # parent selection\n",
        "        # recombination\n",
        "        # mutation\n",
        "        pass\n",
        "\n",
        "\n",
        "    def replace_population(self, children_population, children_objective_values):\n",
        "\n",
        "        combined_population = np.vstack(self.current_population, children_population)\n",
        "        combined_objective_values = np.vstack(self.current_objective_values, children_objective_values)\n",
        "        combined_pareto_frontier = non_dominated_sort(combined_objective_values)\n",
        "\n",
        "        positions = np.argsort(combined_pareto_frontier)\n",
        "\n",
        "        combined_population = combined_population[positions]\n",
        "        combined_objective_values = combined_objective_values[positions]\n",
        "        combined_pareto_frontier = combined_pareto_frontier[positions]\n",
        "\n",
        "        # assign crowding distance and select subset of last frontier\n",
        "        found_population_size = 0\n",
        "        current_frontier_number = 1\n",
        "        current_frontier_lb, current_frontier_rb = (np.searchsorted(combined_pareto_frontier, current_frontier_number),\n",
        "                                                    np.searchsorted(combined_pareto_frontier, current_frontier_number, side='right'))\n",
        "        current_frontier_size = current_frontier_rb - current_frontier_lb\n",
        "        while found_population_size + current_frontier_size <= self.population_size:\n",
        "            current_frontier_distances = self.assign_crowding_distance(combined_objective_values[current_frontier_lb : current_frontier_rb])\n",
        "            self.current_crowding_distances[current_frontier_lb : current_frontier_rb] = current_frontier_distances\n",
        "            current_frontier_number += 1\n",
        "            current_frontier_lb, current_frontier_rb = (np.searchsorted(combined_pareto_frontier, current_frontier_number),\n",
        "                                                        np.searchsorted(combined_pareto_frontier, current_frontier_number, side='right'))\n",
        "            current_frontier_size = current_frontier_rb - current_frontier_lb\n",
        "\n",
        "        current_frontier_distances = self.assign_crowding_distance(combined_objective_values[current_frontier_lb : current_frontier_rb])\n",
        "        last_frontier_taken_indices = np.argsort(current_frontier_distances)[::-1][:self.population_size - found_population_size]\n",
        "\n",
        "        combined_population[current_frontier_lb : self.population_size] = combined_population[last_frontier_taken_indices]\n",
        "        combined_objective_values[current_frontier_lb : self.population_size] = combined_objective_values[last_frontier_taken_indices]\n",
        "        self.current_crowding_distances[current_frontier_lb : self.population_size] = current_frontier_distances[last_frontier_taken_indices]\n",
        "\n",
        "        self.current_population = combined_population[:self.population_size]\n",
        "        self.current_objective_values = combined_objective_values[:self.population_size]\n",
        "        self.current_pareto_frontier = combined_pareto_frontier[:self.population_size]\n",
        "\n",
        "        return True"
      ],
      "execution_count": 31,
      "outputs": [
        {
          "output_type": "error",
          "ename": "NameError",
          "evalue": "ignored",
          "traceback": [
            "\u001b[0;31m---------------------------------------------------------------------------\u001b[0m",
            "\u001b[0;31mNameError\u001b[0m                                 Traceback (most recent call last)",
            "\u001b[0;32m<ipython-input-31-c7400df21c1f>\u001b[0m in \u001b[0;36m<module>\u001b[0;34m()\u001b[0m\n\u001b[0;32m----> 1\u001b[0;31m \u001b[0;32mclass\u001b[0m \u001b[0mNSGAII\u001b[0m\u001b[0;34m:\u001b[0m\u001b[0;34m\u001b[0m\u001b[0;34m\u001b[0m\u001b[0m\n\u001b[0m\u001b[1;32m      2\u001b[0m     def __init__(self, chromosome_length, population_size, objectives_number,\n\u001b[1;32m      3\u001b[0m                  initial_population, initial_objective_values):\n\u001b[1;32m      4\u001b[0m         \u001b[0mself\u001b[0m\u001b[0;34m.\u001b[0m\u001b[0mchromosome_length\u001b[0m \u001b[0;34m=\u001b[0m \u001b[0mchromosome_length\u001b[0m\u001b[0;34m\u001b[0m\u001b[0;34m\u001b[0m\u001b[0m\n\u001b[1;32m      5\u001b[0m         \u001b[0mself\u001b[0m\u001b[0;34m.\u001b[0m\u001b[0mpopulation_size\u001b[0m \u001b[0;34m=\u001b[0m \u001b[0mpopulation_size\u001b[0m\u001b[0;34m\u001b[0m\u001b[0;34m\u001b[0m\u001b[0m\n",
            "\u001b[0;32m<ipython-input-31-c7400df21c1f>\u001b[0m in \u001b[0;36mNSGAII\u001b[0;34m()\u001b[0m\n\u001b[1;32m     79\u001b[0m \u001b[0;34m\u001b[0m\u001b[0m\n\u001b[1;32m     80\u001b[0m \u001b[0;34m\u001b[0m\u001b[0m\n\u001b[0;32m---> 81\u001b[0;31m     \u001b[0;32mdef\u001b[0m \u001b[0mgenerate_children\u001b[0m\u001b[0;34m(\u001b[0m\u001b[0mself\u001b[0m\u001b[0;34m,\u001b[0m \u001b[0mobjective_values\u001b[0m\u001b[0;34m,\u001b[0m \u001b[0mnumber_of_offspring\u001b[0m \u001b[0;34m=\u001b[0m \u001b[0mself\u001b[0m\u001b[0;34m.\u001b[0m\u001b[0mpopulation_size\u001b[0m\u001b[0;34m)\u001b[0m\u001b[0;34m:\u001b[0m\u001b[0;34m\u001b[0m\u001b[0;34m\u001b[0m\u001b[0m\n\u001b[0m\u001b[1;32m     82\u001b[0m         \u001b[0;31m# TODO\u001b[0m\u001b[0;34m\u001b[0m\u001b[0;34m\u001b[0m\u001b[0;34m\u001b[0m\u001b[0m\n\u001b[1;32m     83\u001b[0m         \u001b[0;31m# parent selection\u001b[0m\u001b[0;34m\u001b[0m\u001b[0;34m\u001b[0m\u001b[0;34m\u001b[0m\u001b[0m\n",
            "\u001b[0;31mNameError\u001b[0m: name 'self' is not defined"
          ]
        }
      ]
    },
    {
      "cell_type": "code",
      "metadata": {
        "id": "kA9-hJ2xZeti",
        "colab": {
          "base_uri": "https://localhost:8080/"
        },
        "outputId": "47fb5004-15b6-42d1-b91f-191dc2239038"
      },
      "source": [
        "l = [1]\n",
        "l == []"
      ],
      "execution_count": null,
      "outputs": [
        {
          "output_type": "execute_result",
          "data": {
            "text/plain": [
              "False"
            ]
          },
          "metadata": {
            "tags": []
          },
          "execution_count": 13
        }
      ]
    },
    {
      "cell_type": "code",
      "metadata": {
        "id": "X1vWk5wg61N2",
        "outputId": "28813d20-fa00-46c6-e94c-9d6376ccea0d",
        "colab": {
          "base_uri": "https://localhost:8080/"
        }
      },
      "source": [
        "np.argsort(np.arange(5))[::-1][:1]"
      ],
      "execution_count": 30,
      "outputs": [
        {
          "output_type": "execute_result",
          "data": {
            "text/plain": [
              "array([4])"
            ]
          },
          "metadata": {
            "tags": []
          },
          "execution_count": 30
        }
      ]
    },
    {
      "cell_type": "code",
      "metadata": {
        "id": "8kX--P5bFN-z",
        "outputId": "02accb31-8098-4588-bd58-fc3f41957f82",
        "colab": {
          "base_uri": "https://localhost:8080/"
        }
      },
      "source": [
        "np.searchsorted(np.array([1,2,2,3,3,3,4,5,5]), 3, side='right')"
      ],
      "execution_count": 12,
      "outputs": [
        {
          "output_type": "execute_result",
          "data": {
            "text/plain": [
              "6"
            ]
          },
          "metadata": {
            "tags": []
          },
          "execution_count": 12
        }
      ]
    },
    {
      "cell_type": "code",
      "metadata": {
        "id": "vOMG6KawGTHB",
        "outputId": "e50fb2fd-981b-47c5-ab6d-1fca1aa0666b",
        "colab": {
          "base_uri": "https://localhost:8080/"
        }
      },
      "source": [
        "np.zeros(1) / 0"
      ],
      "execution_count": 19,
      "outputs": [
        {
          "output_type": "stream",
          "text": [
            "/usr/local/lib/python3.6/dist-packages/ipykernel_launcher.py:1: RuntimeWarning: invalid value encountered in true_divide\n",
            "  \"\"\"Entry point for launching an IPython kernel.\n"
          ],
          "name": "stderr"
        },
        {
          "output_type": "execute_result",
          "data": {
            "text/plain": [
              "array([nan])"
            ]
          },
          "metadata": {
            "tags": []
          },
          "execution_count": 19
        }
      ]
    },
    {
      "cell_type": "code",
      "metadata": {
        "id": "xn4fboeD-epy",
        "outputId": "b119d299-2fc4-4549-eba6-0394385fe019",
        "colab": {
          "base_uri": "https://localhost:8080/"
        }
      },
      "source": [
        "np.array([[1, 2], [3, 4], [5, 6]])[:, 0]"
      ],
      "execution_count": 23,
      "outputs": [
        {
          "output_type": "execute_result",
          "data": {
            "text/plain": [
              "array([1, 3, 5])"
            ]
          },
          "metadata": {
            "tags": []
          },
          "execution_count": 23
        }
      ]
    },
    {
      "cell_type": "code",
      "metadata": {
        "id": "tGykQaI5CJFb"
      },
      "source": [
        ""
      ],
      "execution_count": null,
      "outputs": []
    }
  ]
}